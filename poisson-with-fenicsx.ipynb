{
  "cells": [
    {
      "cell_type": "markdown",
      "metadata": {
        "id": "view-in-github",
        "colab_type": "text"
      },
      "source": [
        "<a href=\"https://colab.research.google.com/github/dr-kinder/playground/blob/master/poisson-with-fenicsx.ipynb\" target=\"_parent\"><img src=\"https://colab.research.google.com/assets/colab-badge.svg\" alt=\"Open In Colab\"/></a>"
      ]
    },
    {
      "cell_type": "markdown",
      "source": [
        "# The Finite Element Method\n",
        "\n",
        "To solve hard electrodynamics problems, we are going to use the finite element method.  It requires some custom libraries.  The ones below are open-source projects with state-of-the-art implementations.\n",
        "\n",
        "The `try ... except` lines below will attempt to import the libraries we need.  If they are not found, they will download and install the libraries.  These commands have been tested on CoLab.  They probably won't work properly elsewhere.\n",
        "\n",
        "It takes a little while to download and install the libraries, so hit \"Play\" on the next three cells, relax and grab a cup of coffee, and finish checking your email.  Then get ready to solve some boundary value problems!\n",
        "\n",
        "The installation commands come from the [FEM on CoLab](https://fem-on-colab.github.io/index.html) project."
      ],
      "metadata": {
        "id": "TfAjak0-qO4X"
      },
      "id": "TfAjak0-qO4X"
    },
    {
      "cell_type": "code",
      "source": [
        "try:\n",
        "    # Import gmsh library for generating meshes.\n",
        "    import gmsh\n",
        "except ImportError:\n",
        "    # If it is not available, install it.  Then import it.\n",
        "    !wget \"https://fem-on-colab.github.io/releases/gmsh-install.sh\" -O \"/tmp/gmsh-install.sh\" && bash \"/tmp/gmsh-install.sh\"\n",
        "    import gmsh"
      ],
      "metadata": {
        "id": "7EUMPSN5-gkh"
      },
      "id": "7EUMPSN5-gkh",
      "execution_count": 1,
      "outputs": []
    },
    {
      "cell_type": "code",
      "execution_count": 2,
      "id": "mediterranean-century",
      "metadata": {
        "id": "mediterranean-century"
      },
      "outputs": [],
      "source": [
        "try:\n",
        "    # Import FEniCSx libraries for finite element analysis.\n",
        "    import dolfinx\n",
        "except ImportError:\n",
        "    # If they are not found, install them.  Then import them.\n",
        "    !wget \"https://fem-on-colab.github.io/releases/fenicsx-install-real.sh\" -O \"/tmp/fenicsx-install.sh\" && bash \"/tmp/fenicsx-install.sh\"\n",
        "    import dolfinx"
      ]
    },
    {
      "cell_type": "code",
      "source": [
        "try:\n",
        "    # Import multiphenicsx, mainly for plotting.\n",
        "    import multiphenicsx\n",
        "except ImportError:\n",
        "    # If they are not found, install them.\n",
        "    !pip3 install \"multiphenicsx@git+https://github.com/multiphenics/multiphenicsx.git@8b97b4e\"\n",
        "    import multiphenicsx"
      ],
      "metadata": {
        "id": "WbKnhYd_hJHf"
      },
      "id": "WbKnhYd_hJHf",
      "execution_count": 3,
      "outputs": []
    },
    {
      "cell_type": "code",
      "source": [
        "# Everything should be installed, if it was missing.\n",
        "# Import the rest of what we need.\n",
        "\n",
        "import dolfinx.fem\n",
        "import dolfinx.io\n",
        "import gmsh\n",
        "import mpi4py.MPI\n",
        "import numpy as np\n",
        "import petsc4py.PETSc\n",
        "import ufl\n",
        "import multiphenicsx.fem\n",
        "import multiphenicsx.io"
      ],
      "metadata": {
        "id": "QbcHvDwImO1j"
      },
      "id": "QbcHvDwImO1j",
      "execution_count": 4,
      "outputs": []
    },
    {
      "cell_type": "markdown",
      "source": [
        "Generate the mesh."
      ],
      "metadata": {
        "id": "X8SRNVQWkygC"
      },
      "id": "X8SRNVQWkygC"
    },
    {
      "cell_type": "code",
      "source": [
        "# Define the center of the circle.\n",
        "x0 = 0\n",
        "y0 = 0\n",
        "z0 = 0\n",
        "\n",
        "# Define the radius of the circle.\n",
        "r0 = 3\n",
        "\n",
        "# The function can make ellipses.\n",
        "# Set these equal to each other for a circle.\n",
        "rX = r0\n",
        "rY = r0\n",
        "\n",
        "# Tell the modeling program how many dimensions we are using.\n",
        "dim = 2\n",
        "\n",
        "# Grid size parameter.\n",
        "delta = 0.25"
      ],
      "metadata": {
        "id": "Lfj3ZEb1mRIq"
      },
      "id": "Lfj3ZEb1mRIq",
      "execution_count": 5,
      "outputs": []
    },
    {
      "cell_type": "code",
      "source": [
        "# Create a model.\n",
        "gmsh.initialize()\n",
        "gmsh.model.add(\"mesh\")"
      ],
      "metadata": {
        "id": "yXQ26STZpQwn"
      },
      "id": "yXQ26STZpQwn",
      "execution_count": 16,
      "outputs": []
    },
    {
      "cell_type": "code",
      "source": [
        "## First method of defining model\n",
        "\n",
        "# Define center of circle and two points on opposite sides.\n",
        "p0 = gmsh.model.geo.addPoint(x0,y0, z0, delta)\n",
        "p1 = gmsh.model.geo.addPoint(x0, y0-r0, z0, delta)\n",
        "p2 = gmsh.model.geo.addPoint(x0, y0+r0,z0, delta)\n",
        "\n",
        "# Define two semicircular arcs that will be joined into a circle.\n",
        "c0 = gmsh.model.geo.addCircleArc(p1, p0, p2)\n",
        "c1 = gmsh.model.geo.addCircleArc(p2, p0, p1)\n",
        "loop = gmsh.model.geo.addCurveLoop([c0,c1])\n",
        "\n",
        "## Alternate geometry: semicircle\n",
        "# l0 = gmsh.model.geo.addLine(p2, p1)\n",
        "# loop = gmsh.model.geo.addCurveLoop([c0, l0])\n",
        "\n",
        "disk = gmsh.model.geo.addPlaneSurface([loop])\n",
        "\n",
        "gmsh.model.geo.synchronize()\n",
        "\n",
        "gmsh.model.addPhysicalGroup(1, [c0,c1], 1)\n",
        "gmsh.model.addPhysicalGroup(2, [disk], 1)"
      ],
      "metadata": {
        "colab": {
          "base_uri": "https://localhost:8080/"
        },
        "id": "Px1ulTvz0b-6",
        "outputId": "a9a5007f-db35-4dbc-e5ac-b0d9118af15e"
      },
      "id": "Px1ulTvz0b-6",
      "execution_count": 17,
      "outputs": [
        {
          "output_type": "execute_result",
          "data": {
            "text/plain": [
              "1"
            ]
          },
          "metadata": {},
          "execution_count": 17
        }
      ]
    },
    {
      "cell_type": "code",
      "source": [
        "## Second method.\n",
        "# Create the disk.\n",
        "disk = gmsh.model.occ.addDisk(x0, y0, z0, rX, rY)\n",
        "loop = gmsh.model.occ.addCircle(x0, y0, z0, r0)\n",
        "gmsh.model.occ.synchronize()\n",
        "\n",
        "# Now we will make the disk a physical object in our model --- not just a set of points.\n",
        "gmsh.model.addPhysicalGroup(2, [disk], 1)\n",
        "\n",
        "# And we will add the boundary, too.\n",
        "gmsh.model.addPhysicalGroup(1, [loop], 1)"
      ],
      "metadata": {
        "id": "EgTIjBUrlNSg"
      },
      "id": "EgTIjBUrlNSg",
      "execution_count": null,
      "outputs": []
    },
    {
      "cell_type": "code",
      "source": [
        "# Create a mesh for this system.\n",
        "gmsh.model.mesh.generate(dim)\n",
        "\n",
        "# Bring the mesh into FEniCSx.\n",
        "mesh, subdomains, boundaries = dolfinx.io.gmshio.model_to_mesh(\n",
        "    gmsh.model, comm=mpi4py.MPI.COMM_WORLD, rank=0, gdim=2)\n",
        "\n",
        "# Close the mesh generating program.\n",
        "gmsh.finalize()"
      ],
      "metadata": {
        "id": "YhWhDfXslq-Y"
      },
      "id": "YhWhDfXslq-Y",
      "execution_count": 18,
      "outputs": []
    },
    {
      "cell_type": "code",
      "source": [
        "multiphenicsx.io.plot_mesh(mesh)"
      ],
      "metadata": {
        "id": "LYn0De2U09dt",
        "outputId": "8f157ec6-1fbb-4a09-8188-c114378d8627",
        "colab": {
          "base_uri": "https://localhost:8080/",
          "height": 717,
          "referenced_widgets": [
            "af5df57d057b49ff9907c5323034e444",
            "d79c9a748c6b4f03a4e1804751cf03d0"
          ]
        }
      },
      "id": "LYn0De2U09dt",
      "execution_count": 19,
      "outputs": [
        {
          "output_type": "display_data",
          "data": {
            "text/plain": [
              "Viewer(geometries=[{'vtkClass': 'vtkPolyData', 'points': {'vtkClass': 'vtkPoints', 'name': '_points', 'numberO…"
            ],
            "application/vnd.jupyter.widget-view+json": {
              "version_major": 2,
              "version_minor": 0,
              "model_id": "af5df57d057b49ff9907c5323034e444"
            }
          },
          "metadata": {
            "application/vnd.jupyter.widget-view+json": {
              "colab": {
                "custom_widget_manager": {
                  "url": "https://ssl.gstatic.com/colaboratory-static/widgets/colab-cdn-widget-manager/d2e234f7cc04bf79/manager.min.js"
                }
              }
            }
          }
        },
        {
          "output_type": "display_data",
          "data": {
            "text/plain": [
              "Viewer(geometries=[{'vtkClass': 'vtkPolyData', 'points': {'vtkClass': 'vtkPoints', 'name': '_points', 'numberO…"
            ],
            "application/vnd.jupyter.widget-view+json": {
              "version_major": 2,
              "version_minor": 0,
              "model_id": "af5df57d057b49ff9907c5323034e444"
            }
          },
          "metadata": {
            "application/vnd.jupyter.widget-view+json": {
              "colab": {
                "custom_widget_manager": {
                  "url": "https://ssl.gstatic.com/colaboratory-static/widgets/colab-cdn-widget-manager/d2e234f7cc04bf79/manager.min.js"
                }
              }
            }
          }
        }
      ]
    },
    {
      "cell_type": "code",
      "source": [
        "multiphenicsx.io.plot_mesh_tags(subdomains)"
      ],
      "metadata": {
        "id": "3xX0j1Oq1Gcu",
        "outputId": "39c607b3-64b8-4499-ce98-6d09db262dd9",
        "colab": {
          "base_uri": "https://localhost:8080/",
          "height": 717,
          "referenced_widgets": [
            "c314e2d991854da88709b325075f7a90",
            "2f2386604b474711a906eb7ab191c348"
          ]
        }
      },
      "id": "3xX0j1Oq1Gcu",
      "execution_count": 20,
      "outputs": [
        {
          "output_type": "display_data",
          "data": {
            "text/plain": [
              "Viewer(geometries=[{'vtkClass': 'vtkPolyData', 'points': {'vtkClass': 'vtkPoints', 'name': '_points', 'numberO…"
            ],
            "application/vnd.jupyter.widget-view+json": {
              "version_major": 2,
              "version_minor": 0,
              "model_id": "c314e2d991854da88709b325075f7a90"
            }
          },
          "metadata": {
            "application/vnd.jupyter.widget-view+json": {
              "colab": {
                "custom_widget_manager": {
                  "url": "https://ssl.gstatic.com/colaboratory-static/widgets/colab-cdn-widget-manager/d2e234f7cc04bf79/manager.min.js"
                }
              }
            }
          }
        },
        {
          "output_type": "display_data",
          "data": {
            "text/plain": [
              "Viewer(geometries=[{'vtkClass': 'vtkPolyData', 'points': {'vtkClass': 'vtkPoints', 'name': '_points', 'numberO…"
            ],
            "application/vnd.jupyter.widget-view+json": {
              "version_major": 2,
              "version_minor": 0,
              "model_id": "c314e2d991854da88709b325075f7a90"
            }
          },
          "metadata": {
            "application/vnd.jupyter.widget-view+json": {
              "colab": {
                "custom_widget_manager": {
                  "url": "https://ssl.gstatic.com/colaboratory-static/widgets/colab-cdn-widget-manager/d2e234f7cc04bf79/manager.min.js"
                }
              }
            }
          }
        }
      ]
    },
    {
      "cell_type": "code",
      "source": [
        "multiphenicsx.io.plot_mesh_tags(boundaries)"
      ],
      "metadata": {
        "id": "4DhHyWLX1Z3W",
        "outputId": "3882e7e2-63fe-4ce0-f4b9-3bd960c1a095",
        "colab": {
          "base_uri": "https://localhost:8080/",
          "height": 717,
          "referenced_widgets": [
            "67d3ae42a0444f50bea7ee873b4c685b",
            "d743e907420947b5b2cbc937a8235b92"
          ]
        }
      },
      "id": "4DhHyWLX1Z3W",
      "execution_count": 21,
      "outputs": [
        {
          "output_type": "display_data",
          "data": {
            "text/plain": [
              "Viewer(geometries=[{'vtkClass': 'vtkPolyData', 'points': {'vtkClass': 'vtkPoints', 'name': '_points', 'numberO…"
            ],
            "application/vnd.jupyter.widget-view+json": {
              "version_major": 2,
              "version_minor": 0,
              "model_id": "67d3ae42a0444f50bea7ee873b4c685b"
            }
          },
          "metadata": {
            "application/vnd.jupyter.widget-view+json": {
              "colab": {
                "custom_widget_manager": {
                  "url": "https://ssl.gstatic.com/colaboratory-static/widgets/colab-cdn-widget-manager/d2e234f7cc04bf79/manager.min.js"
                }
              }
            }
          }
        },
        {
          "output_type": "display_data",
          "data": {
            "text/plain": [
              "Viewer(geometries=[{'vtkClass': 'vtkPolyData', 'points': {'vtkClass': 'vtkPoints', 'name': '_points', 'numberO…"
            ],
            "application/vnd.jupyter.widget-view+json": {
              "version_major": 2,
              "version_minor": 0,
              "model_id": "67d3ae42a0444f50bea7ee873b4c685b"
            }
          },
          "metadata": {
            "application/vnd.jupyter.widget-view+json": {
              "colab": {
                "custom_widget_manager": {
                  "url": "https://ssl.gstatic.com/colaboratory-static/widgets/colab-cdn-widget-manager/d2e234f7cc04bf79/manager.min.js"
                }
              }
            }
          }
        }
      ]
    },
    {
      "cell_type": "markdown",
      "source": [
        "Here, we import the library for creating meshes and initialize."
      ],
      "metadata": {
        "id": "WKCwCFa_AHoL"
      },
      "id": "WKCwCFa_AHoL"
    },
    {
      "cell_type": "markdown",
      "source": [
        "Next, we will add a circular membrane to our model."
      ],
      "metadata": {
        "id": "sG3W3qlBAcmI"
      },
      "id": "sG3W3qlBAcmI"
    },
    {
      "cell_type": "markdown",
      "source": [
        "Next, we are going to bring our model into the finite element solving world."
      ],
      "metadata": {
        "id": "S-SFonfmBv1T"
      },
      "id": "S-SFonfmBv1T"
    },
    {
      "cell_type": "markdown",
      "source": [
        "Define a set of functions on our grid."
      ],
      "metadata": {
        "id": "7BtAk2obCneH"
      },
      "id": "7BtAk2obCneH"
    },
    {
      "cell_type": "code",
      "source": [
        "# Define trial and test functions\n",
        "V = dolfinx.fem.FunctionSpace(mesh, (\"Lagrange\", 2))\n",
        "u = ufl.TrialFunction(V)\n",
        "v = ufl.TestFunction(V)"
      ],
      "metadata": {
        "id": "iDGUR-HOBzdn"
      },
      "id": "iDGUR-HOBzdn",
      "execution_count": 24,
      "outputs": []
    },
    {
      "cell_type": "markdown",
      "source": [
        "Define the charge density.  We will use a Gaussian charge distribution.  You can adjust the center and the spread of the distribution."
      ],
      "metadata": {
        "id": "bg2VyQIPCu-n"
      },
      "id": "bg2VyQIPCu-n"
    },
    {
      "cell_type": "code",
      "source": [
        "# Set the values: center and spread charge of charge distribution.\n",
        "xC = 0.3\n",
        "yC = 0.2\n",
        "ds = 0.1\n",
        "Q = 1\n",
        "\n",
        "# Turn them into symbolic expressions for the FEM solver.\n",
        "x = ufl.SpatialCoordinate(mesh)\n",
        "beta = dolfinx.fem.Constant(mesh, petsc4py.PETSc.ScalarType(1/ds))\n",
        "X0 = dolfinx.fem.Constant(mesh, petsc4py.PETSc.ScalarType(xC))\n",
        "X1 = dolfinx.fem.Constant(mesh, petsc4py.PETSc.ScalarType(yC))\n",
        "\n",
        "# Generate the charge density.\n",
        "rho = Q * ufl.exp(-0.5 * beta**2 * ((x[0]-X0)**2 + (x[1] - X1)**2))"
      ],
      "metadata": {
        "id": "nwVgQmFWCrNe"
      },
      "id": "nwVgQmFWCrNe",
      "execution_count": 46,
      "outputs": []
    },
    {
      "cell_type": "markdown",
      "source": [
        "Next, we need to tell the solver about boundary conditions."
      ],
      "metadata": {
        "id": "Srx9BAtpEqIJ"
      },
      "id": "Srx9BAtpEqIJ"
    },
    {
      "cell_type": "code",
      "source": [
        "# Identify the domain.\n",
        "Omega = subdomains.indices[subdomains.values == 1]\n",
        "\n",
        "# Identify the boundary.\n",
        "dOmega = boundaries.indices[boundaries.values == 1]\n",
        "\n",
        "# Use these objects to tell fenics where the boundary is.\n",
        "boundary_elements = dolfinx.fem.locate_dofs_topological(V, boundaries.dim, dOmega)\n",
        "\n",
        "# Now introduce the boundary condition: constant potential on the boundary.\n",
        "phi0 = 0\n",
        "Phi0 = dolfinx.fem.Constant(mesh, petsc4py.PETSc.ScalarType(phi0))\n",
        "bc = dolfinx.fem.dirichletbc(Phi0, boundary_elements, V)"
      ],
      "metadata": {
        "id": "bklwyz1QEk_E"
      },
      "id": "bklwyz1QEk_E",
      "execution_count": 47,
      "outputs": []
    },
    {
      "cell_type": "markdown",
      "source": [
        "Next, tell the solver what problem to solve."
      ],
      "metadata": {
        "id": "vI6sG9xoFnzy"
      },
      "id": "vI6sG9xoFnzy"
    },
    {
      "cell_type": "code",
      "source": [
        "# This is the FEM version of the Laplacian.\n",
        "a = ufl.inner(ufl.grad(u), ufl.grad(v)) * ufl.dx\n",
        "\n",
        "# This is the charge density, for Poisson's equation.\n",
        "L = rho * v * ufl.dx\n",
        "\n",
        "# Explain the problem to the FEM solver.\n",
        "uh = dolfinx.fem.Function(V)\n",
        "problem = dolfinx.fem.petsc.LinearProblem(a, L, bcs=[bc], u=uh, petsc_options={\"ksp_type\": \"preonly\", \"pc_type\": \"lu\"})\n",
        "\n",
        "# Now, solve it!\n",
        "problem.solve()\n",
        "uh.vector.ghostUpdate(addv=petsc4py.PETSc.InsertMode.INSERT, mode=petsc4py.PETSc.ScatterMode.FORWARD)"
      ],
      "metadata": {
        "id": "i0UM5NlfFlRi"
      },
      "id": "i0UM5NlfFlRi",
      "execution_count": 48,
      "outputs": []
    },
    {
      "cell_type": "markdown",
      "source": [
        "We can plot the charge density.  First, we have to interpolate the symbolic expression onto our grid."
      ],
      "metadata": {
        "id": "PH-l6DjeIfub"
      },
      "id": "PH-l6DjeIfub"
    },
    {
      "cell_type": "code",
      "source": [
        "# Interpolate the charge density for plotting.\n",
        "expr = dolfinx.fem.Expression(rho, V.element.interpolation_points())\n",
        "charge_density = dolfinx.fem.Function(V)\n",
        "charge_density.interpolate(expr)\n",
        "\n",
        "# Now, plot it.\n",
        "multiphenicsx.io.plot_scalar_field(charge_density, \"u\", 10)"
      ],
      "metadata": {
        "id": "Df229FNBEbNA",
        "outputId": "d412e333-0aad-4329-94c2-b863a550606f",
        "colab": {
          "base_uri": "https://localhost:8080/",
          "height": 717,
          "referenced_widgets": [
            "d1475b6b70734eb8a1e87226224acea0",
            "ce4f1b6d40564289bb7b2f9747bbc21c"
          ]
        }
      },
      "id": "Df229FNBEbNA",
      "execution_count": 49,
      "outputs": [
        {
          "output_type": "display_data",
          "data": {
            "text/plain": [
              "Viewer(geometries=[{'vtkClass': 'vtkPolyData', 'points': {'vtkClass': 'vtkPoints', 'name': '_points', 'numberO…"
            ],
            "application/vnd.jupyter.widget-view+json": {
              "version_major": 2,
              "version_minor": 0,
              "model_id": "d1475b6b70734eb8a1e87226224acea0"
            }
          },
          "metadata": {
            "application/vnd.jupyter.widget-view+json": {
              "colab": {
                "custom_widget_manager": {
                  "url": "https://ssl.gstatic.com/colaboratory-static/widgets/colab-cdn-widget-manager/d2e234f7cc04bf79/manager.min.js"
                }
              }
            }
          }
        },
        {
          "output_type": "display_data",
          "data": {
            "text/plain": [
              "Viewer(geometries=[{'vtkClass': 'vtkPolyData', 'points': {'vtkClass': 'vtkPoints', 'name': '_points', 'numberO…"
            ],
            "application/vnd.jupyter.widget-view+json": {
              "version_major": 2,
              "version_minor": 0,
              "model_id": "d1475b6b70734eb8a1e87226224acea0"
            }
          },
          "metadata": {
            "application/vnd.jupyter.widget-view+json": {
              "colab": {
                "custom_widget_manager": {
                  "url": "https://ssl.gstatic.com/colaboratory-static/widgets/colab-cdn-widget-manager/d2e234f7cc04bf79/manager.min.js"
                }
              }
            }
          }
        }
      ]
    },
    {
      "cell_type": "code",
      "source": [
        "# Plot the solution.\n",
        "multiphenicsx.io.plot_scalar_field(uh, \"u\", 50)"
      ],
      "metadata": {
        "id": "OulGpJp3xoFD",
        "outputId": "53fa0480-6a13-4394-ea9c-dce327720de7",
        "colab": {
          "base_uri": "https://localhost:8080/",
          "height": 717,
          "referenced_widgets": [
            "abf09b65d2874cbcb584e32ef22fc754",
            "7285810f943249a38c23d645791b67ef"
          ]
        }
      },
      "id": "OulGpJp3xoFD",
      "execution_count": 51,
      "outputs": [
        {
          "output_type": "display_data",
          "data": {
            "text/plain": [
              "Viewer(geometries=[{'vtkClass': 'vtkPolyData', 'points': {'vtkClass': 'vtkPoints', 'name': '_points', 'numberO…"
            ],
            "application/vnd.jupyter.widget-view+json": {
              "version_major": 2,
              "version_minor": 0,
              "model_id": "abf09b65d2874cbcb584e32ef22fc754"
            }
          },
          "metadata": {
            "application/vnd.jupyter.widget-view+json": {
              "colab": {
                "custom_widget_manager": {
                  "url": "https://ssl.gstatic.com/colaboratory-static/widgets/colab-cdn-widget-manager/d2e234f7cc04bf79/manager.min.js"
                }
              }
            }
          }
        },
        {
          "output_type": "display_data",
          "data": {
            "text/plain": [
              "Viewer(geometries=[{'vtkClass': 'vtkPolyData', 'points': {'vtkClass': 'vtkPoints', 'name': '_points', 'numberO…"
            ],
            "application/vnd.jupyter.widget-view+json": {
              "version_major": 2,
              "version_minor": 0,
              "model_id": "abf09b65d2874cbcb584e32ef22fc754"
            }
          },
          "metadata": {
            "application/vnd.jupyter.widget-view+json": {
              "colab": {
                "custom_widget_manager": {
                  "url": "https://ssl.gstatic.com/colaboratory-static/widgets/colab-cdn-widget-manager/d2e234f7cc04bf79/manager.min.js"
                }
              }
            }
          }
        }
      ]
    },
    {
      "cell_type": "markdown",
      "source": [
        "We can compare the charge distribution and the potential on the same axes.  This is a little complicated, because we have to determine the value of our grid functions at every point along a line."
      ],
      "metadata": {
        "id": "7VG1M3gZNF4B"
      },
      "id": "7VG1M3gZNF4B"
    },
    {
      "cell_type": "markdown",
      "source": [
        "As we saw when exploring scalar fields, there are many ways to visualize the result.  Let's plot along a line."
      ],
      "metadata": {
        "id": "CN9_UD54GtnL"
      },
      "id": "CN9_UD54GtnL"
    },
    {
      "cell_type": "code",
      "source": [
        "# Avoid hitting the outside of the domain.\n",
        "buffer = 0.1\n",
        "num_points = 201\n",
        "\n",
        "r = np.linspace(-r0 + buffer, r0 - buffer, num_points)\n",
        "theta = np.arctan(yC/xC)\n",
        "\n",
        "x = r * np.cos(theta)\n",
        "y = r * np.sin(theta)\n",
        "\n",
        "points = np.zeros((3, num_points))\n",
        "points[0] = x\n",
        "points[1] = y\n",
        "v_values = []\n",
        "rho_values = []"
      ],
      "metadata": {
        "id": "YU0FBnAPI47w"
      },
      "id": "YU0FBnAPI47w",
      "execution_count": 64,
      "outputs": []
    },
    {
      "cell_type": "code",
      "source": [
        "from dolfinx import geometry\n",
        "\n",
        "# This is an object that makes searching the mesh faster.\n",
        "bb_tree = geometry.BoundingBoxTree(mesh, mesh.topology.dim)"
      ],
      "metadata": {
        "id": "R_sV1aI4OkMo"
      },
      "id": "R_sV1aI4OkMo",
      "execution_count": 65,
      "outputs": []
    },
    {
      "cell_type": "code",
      "source": [
        "# Move through the cells and find the points we need.\n",
        "cells = []\n",
        "points_on_proc = []\n",
        "\n",
        "# Find cells whose bounding-box collide with the the points\n",
        "cell_candidates = geometry.compute_collisions(bb_tree, points.T)\n",
        "\n",
        "# Choose one of the cells that contains the point\n",
        "colliding_cells = geometry.compute_colliding_cells(mesh, cell_candidates, points.T)\n",
        "for i, point in enumerate(points.T):\n",
        "    if len(colliding_cells.links(i))>0:\n",
        "        points_on_proc.append(point)\n",
        "        cells.append(colliding_cells.links(i)[0])"
      ],
      "metadata": {
        "id": "xRzXCqdTOtom"
      },
      "id": "xRzXCqdTOtom",
      "execution_count": 66,
      "outputs": []
    },
    {
      "cell_type": "code",
      "source": [
        "# Evaluate the functions on the cells we found.\n",
        "points_on_proc = np.array(points_on_proc, dtype=np.float64)\n",
        "v_values = uh.eval(points_on_proc, cells)\n",
        "rho_values = charge_density.eval(points_on_proc, cells)\n",
        "\n",
        "# Scale the two arrays so they fit on the same axes.\n",
        "scale_factor = rho_values.max() / v_values.max()"
      ],
      "metadata": {
        "id": "MKnJnr2WO_GO"
      },
      "id": "MKnJnr2WO_GO",
      "execution_count": 67,
      "outputs": []
    },
    {
      "cell_type": "code",
      "source": [
        "# Make the plot.\n",
        "import matplotlib.pyplot as plt\n",
        "fig = plt.figure(dpi=200)\n",
        "plt.plot(r, scale_factor*v_values, \"k\", linewidth=2, label=\"Potential ($\\\\times %.0f$)\" % scale_factor)\n",
        "plt.plot(r, rho_values, \"b--\", linewidth = 2, label=\"Charge Density\")\n",
        "plt.grid(True)\n",
        "plt.xlabel(\"r\")\n",
        "plt.legend()"
      ],
      "metadata": {
        "id": "63wU3FxMPHx2",
        "outputId": "424046a6-8d21-46a7-a33e-ff32aeda2595",
        "colab": {
          "base_uri": "https://localhost:8080/",
          "height": 740
        }
      },
      "id": "63wU3FxMPHx2",
      "execution_count": 68,
      "outputs": [
        {
          "output_type": "execute_result",
          "data": {
            "text/plain": [
              "<matplotlib.legend.Legend at 0x7f910ac54a10>"
            ]
          },
          "metadata": {},
          "execution_count": 68
        },
        {
          "output_type": "display_data",
          "data": {
            "text/plain": [
              "<Figure size 1200x800 with 1 Axes>"
            ],
            "image/png": "[encoded data removed]"
          },
          "metadata": {
            "needs_background": "light"
          }
        }
      ]
    },
    {
      "cell_type": "code",
      "source": [
        "sphere.points?"
      ],
      "metadata": {
        "id": "b7Rn2OvadvNd"
      },
      "id": "b7Rn2OvadvNd",
      "execution_count": null,
      "outputs": []
    }
  ],
  "metadata": {
    "kernelspec": {
      "display_name": "Python 3 (ipykernel)",
      "language": "python",
      "name": "python3"
    },
    "language_info": {
      "codemirror_mode": {
        "name": "ipython"
      },
      "file_extension": ".py",
      "mimetype": "text/x-python",
      "name": "python",
      "nbconvert_exporter": "python"
    },
    "colab": {
      "provenance": [],
      "include_colab_link": true
    },
    "widgets": {
      "application/vnd.jupyter.widget-state+json": {
        "af5df57d057b49ff9907c5323034e444": {
          "model_module": "itkwidgets",
          "model_name": "ViewerModel",
          "model_module_version": "^0.32.3",
          "state": {
            "_custom_cmap": null,
            "_dom_classes": [],
            "_downsampling": false,
            "_largest_roi": {
              "shape": [
                2,
                3
              ],
              "dtype": "float64"
            },
            "_model_module": "itkwidgets",
            "_model_module_version": "^0.32.3",
            "_model_name": "ViewerModel",
            "_rendering_image": false,
            "_reset_crop_requested": false,
            "_scale_factors": {
              "shape": [
                3
              ],
              "dtype": "uint8"
            },
            "_view_count": null,
            "_view_module": "itkwidgets",
            "_view_module_version": "^0.32.3",
            "_view_name": "ViewerView",
            "annotations": true,
            "axes": false,
            "background": [
              1,
              1,
              1
            ],
            "blend_mode": "composite",
            "camera": {
              "shape": [
                3,
                3
              ],
              "dtype": "float32"
            },
            "channels": [],
            "clicked_slice_point": null,
            "cmap": null,
            "geometries": [
              {
                "vtkClass": "vtkPolyData",
                "points": {
                  "vtkClass": "vtkPoints",
                  "name": "_points",
                  "numberOfComponents": 3,
                  "dataType": "Float32Array",
                  "size": 1761
                },
                "polys": {
                  "vtkClass": "vtkCellArray",
                  "name": "_polys",
                  "numberOfComponents": 1,
                  "size": 4384,
                  "dataType": "Uint32Array"
                },
                "metadata": {
                  "name": "Geometry 0"
                }
              }
            ],
            "geometry_colors": {
              "shape": [
                1,
                3
              ],
              "dtype": "float32"
            },
            "geometry_opacities": {
              "shape": [
                1
              ],
              "dtype": "float32"
            },
            "gradient_opacity": 0.2,
            "interpolation": true,
            "label_image_blend": 0.5,
            "label_image_names": null,
            "label_image_weights": null,
            "layout": "IPY_MODEL_d79c9a748c6b4f03a4e1804751cf03d0",
            "lut": "glasbey",
            "mode": "v",
            "opacity_gaussians": null,
            "point_set_colors": {
              "shape": [
                0,
                3
              ],
              "dtype": "float32"
            },
            "point_set_opacities": {
              "shape": [
                0
              ],
              "dtype": "float32"
            },
            "point_set_representations": [],
            "point_set_sizes": {
              "shape": [
                0
              ],
              "dtype": "uint8"
            },
            "point_sets": [],
            "rendered_image": null,
            "rendered_label_image": null,
            "roi": {
              "shape": [
                2,
                3
              ],
              "dtype": "float64"
            },
            "rotate": false,
            "sample_distance": 0.25,
            "select_roi": false,
            "shadow": true,
            "slicing_planes": false,
            "ui_collapsed": true,
            "units": "",
            "vmax": null,
            "vmin": null,
            "x_slice": null,
            "y_slice": null,
            "z_slice": null
          }
        },
        "d79c9a748c6b4f03a4e1804751cf03d0": {
          "model_module": "@jupyter-widgets/base",
          "model_name": "LayoutModel",
          "model_module_version": "1.2.0",
          "state": {
            "_model_module": "@jupyter-widgets/base",
            "_model_module_version": "1.2.0",
            "_model_name": "LayoutModel",
            "_view_count": null,
            "_view_module": "@jupyter-widgets/base",
            "_view_module_version": "1.2.0",
            "_view_name": "LayoutView",
            "align_content": null,
            "align_items": null,
            "align_self": null,
            "border": null,
            "bottom": null,
            "display": null,
            "flex": null,
            "flex_flow": null,
            "grid_area": null,
            "grid_auto_columns": null,
            "grid_auto_flow": null,
            "grid_auto_rows": null,
            "grid_column": null,
            "grid_gap": null,
            "grid_row": null,
            "grid_template_areas": null,
            "grid_template_columns": null,
            "grid_template_rows": null,
            "height": null,
            "justify_content": null,
            "justify_items": null,
            "left": null,
            "margin": null,
            "max_height": null,
            "max_width": null,
            "min_height": null,
            "min_width": null,
            "object_fit": null,
            "object_position": null,
            "order": null,
            "overflow": null,
            "overflow_x": null,
            "overflow_y": null,
            "padding": null,
            "right": null,
            "top": null,
            "visibility": null,
            "width": null
          }
        },
        "c314e2d991854da88709b325075f7a90": {
          "model_module": "itkwidgets",
          "model_name": "ViewerModel",
          "model_module_version": "^0.32.3",
          "state": {
            "_custom_cmap": null,
            "_dom_classes": [],
            "_downsampling": false,
            "_largest_roi": {
              "shape": [
                2,
                3
              ],
              "dtype": "float64"
            },
            "_model_module": "itkwidgets",
            "_model_module_version": "^0.32.3",
            "_model_name": "ViewerModel",
            "_rendering_image": false,
            "_reset_crop_requested": false,
            "_scale_factors": {
              "shape": [
                3
              ],
              "dtype": "uint8"
            },
            "_view_count": null,
            "_view_module": "itkwidgets",
            "_view_module_version": "^0.32.3",
            "_view_name": "ViewerView",
            "annotations": true,
            "axes": false,
            "background": [
              1,
              1,
              1
            ],
            "blend_mode": "composite",
            "camera": {
              "shape": [
                3,
                3
              ],
              "dtype": "float32"
            },
            "channels": [],
            "clicked_slice_point": null,
            "cmap": null,
            "geometries": [
              {
                "vtkClass": "vtkPolyData",
                "points": {
                  "vtkClass": "vtkPoints",
                  "name": "_points",
                  "numberOfComponents": 3,
                  "dataType": "Float32Array",
                  "size": 1761
                },
                "polys": {
                  "vtkClass": "vtkCellArray",
                  "name": "_polys",
                  "numberOfComponents": 1,
                  "size": 4384,
                  "dataType": "Uint32Array"
                },
                "cellData": {
                  "vtkClass": "vtkDataSetAttributes",
                  "activeScalars": 0,
                  "arrays": [
                    {
                      "data": {
                        "vtkClass": "vtkDataArray",
                        "name": "Subdomains",
                        "numberOfComponents": 1,
                        "size": 1096,
                        "dataType": "Float64Array"
                      }
                    }
                  ]
                },
                "metadata": {
                  "name": "Geometry 0"
                }
              }
            ],
            "geometry_colors": {
              "shape": [
                1,
                3
              ],
              "dtype": "float32"
            },
            "geometry_opacities": {
              "shape": [
                1
              ],
              "dtype": "float32"
            },
            "gradient_opacity": 0.2,
            "interpolation": true,
            "label_image_blend": 0.5,
            "label_image_names": null,
            "label_image_weights": null,
            "layout": "IPY_MODEL_2f2386604b474711a906eb7ab191c348",
            "lut": "glasbey",
            "mode": "v",
            "opacity_gaussians": null,
            "point_set_colors": {
              "shape": [
                0,
                3
              ],
              "dtype": "float32"
            },
            "point_set_opacities": {
              "shape": [
                0
              ],
              "dtype": "float32"
            },
            "point_set_representations": [],
            "point_set_sizes": {
              "shape": [
                0
              ],
              "dtype": "uint8"
            },
            "point_sets": [],
            "rendered_image": null,
            "rendered_label_image": null,
            "roi": {
              "shape": [
                2,
                3
              ],
              "dtype": "float64"
            },
            "rotate": false,
            "sample_distance": 0.25,
            "select_roi": false,
            "shadow": true,
            "slicing_planes": false,
            "ui_collapsed": true,
            "units": "",
            "vmax": null,
            "vmin": null,
            "x_slice": null,
            "y_slice": null,
            "z_slice": null
          }
        },
        "2f2386604b474711a906eb7ab191c348": {
          "model_module": "@jupyter-widgets/base",
          "model_name": "LayoutModel",
          "model_module_version": "1.2.0",
          "state": {
            "_model_module": "@jupyter-widgets/base",
            "_model_module_version": "1.2.0",
            "_model_name": "LayoutModel",
            "_view_count": null,
            "_view_module": "@jupyter-widgets/base",
            "_view_module_version": "1.2.0",
            "_view_name": "LayoutView",
            "align_content": null,
            "align_items": null,
            "align_self": null,
            "border": null,
            "bottom": null,
            "display": null,
            "flex": null,
            "flex_flow": null,
            "grid_area": null,
            "grid_auto_columns": null,
            "grid_auto_flow": null,
            "grid_auto_rows": null,
            "grid_column": null,
            "grid_gap": null,
            "grid_row": null,
            "grid_template_areas": null,
            "grid_template_columns": null,
            "grid_template_rows": null,
            "height": null,
            "justify_content": null,
            "justify_items": null,
            "left": null,
            "margin": null,
            "max_height": null,
            "max_width": null,
            "min_height": null,
            "min_width": null,
            "object_fit": null,
            "object_position": null,
            "order": null,
            "overflow": null,
            "overflow_x": null,
            "overflow_y": null,
            "padding": null,
            "right": null,
            "top": null,
            "visibility": null,
            "width": null
          }
        },
        "67d3ae42a0444f50bea7ee873b4c685b": {
          "model_module": "itkwidgets",
          "model_name": "ViewerModel",
          "model_module_version": "^0.32.3",
          "state": {
            "_custom_cmap": null,
            "_dom_classes": [],
            "_downsampling": false,
            "_largest_roi": {
              "shape": [
                2,
                3
              ],
              "dtype": "float64"
            },
            "_model_module": "itkwidgets",
            "_model_module_version": "^0.32.3",
            "_model_name": "ViewerModel",
            "_rendering_image": false,
            "_reset_crop_requested": false,
            "_scale_factors": {
              "shape": [
                3
              ],
              "dtype": "uint8"
            },
            "_view_count": null,
            "_view_module": "itkwidgets",
            "_view_module_version": "^0.32.3",
            "_view_name": "ViewerView",
            "annotations": true,
            "axes": false,
            "background": [
              1,
              1,
              1
            ],
            "blend_mode": "composite",
            "camera": {
              "shape": [
                3,
                3
              ],
              "dtype": "float32"
            },
            "channels": [],
            "clicked_slice_point": null,
            "cmap": null,
            "geometries": [
              {
                "vtkClass": "vtkPolyData",
                "points": {
                  "vtkClass": "vtkPoints",
                  "name": "_points",
                  "numberOfComponents": 3,
                  "dataType": "Float32Array",
                  "size": 1761
                },
                "lines": {
                  "vtkClass": "vtkCellArray",
                  "name": "_lines",
                  "numberOfComponents": 1,
                  "size": 5046,
                  "dataType": "Uint32Array"
                },
                "cellData": {
                  "vtkClass": "vtkDataSetAttributes",
                  "activeScalars": 0,
                  "arrays": [
                    {
                      "data": {
                        "vtkClass": "vtkDataArray",
                        "name": "Boundaries",
                        "numberOfComponents": 1,
                        "size": 1682,
                        "dataType": "Float64Array"
                      }
                    }
                  ]
                },
                "metadata": {
                  "name": "Geometry 0"
                }
              }
            ],
            "geometry_colors": {
              "shape": [
                1,
                3
              ],
              "dtype": "float32"
            },
            "geometry_opacities": {
              "shape": [
                1
              ],
              "dtype": "float32"
            },
            "gradient_opacity": 0.2,
            "interpolation": true,
            "label_image_blend": 0.5,
            "label_image_names": null,
            "label_image_weights": null,
            "layout": "IPY_MODEL_d743e907420947b5b2cbc937a8235b92",
            "lut": "glasbey",
            "mode": "v",
            "opacity_gaussians": null,
            "point_set_colors": {
              "shape": [
                0,
                3
              ],
              "dtype": "float32"
            },
            "point_set_opacities": {
              "shape": [
                0
              ],
              "dtype": "float32"
            },
            "point_set_representations": [],
            "point_set_sizes": {
              "shape": [
                0
              ],
              "dtype": "uint8"
            },
            "point_sets": [],
            "rendered_image": null,
            "rendered_label_image": null,
            "roi": {
              "shape": [
                2,
                3
              ],
              "dtype": "float64"
            },
            "rotate": false,
            "sample_distance": 0.25,
            "select_roi": false,
            "shadow": true,
            "slicing_planes": false,
            "ui_collapsed": true,
            "units": "",
            "vmax": null,
            "vmin": null,
            "x_slice": null,
            "y_slice": null,
            "z_slice": null
          }
        },
        "d743e907420947b5b2cbc937a8235b92": {
          "model_module": "@jupyter-widgets/base",
          "model_name": "LayoutModel",
          "model_module_version": "1.2.0",
          "state": {
            "_model_module": "@jupyter-widgets/base",
            "_model_module_version": "1.2.0",
            "_model_name": "LayoutModel",
            "_view_count": null,
            "_view_module": "@jupyter-widgets/base",
            "_view_module_version": "1.2.0",
            "_view_name": "LayoutView",
            "align_content": null,
            "align_items": null,
            "align_self": null,
            "border": null,
            "bottom": null,
            "display": null,
            "flex": null,
            "flex_flow": null,
            "grid_area": null,
            "grid_auto_columns": null,
            "grid_auto_flow": null,
            "grid_auto_rows": null,
            "grid_column": null,
            "grid_gap": null,
            "grid_row": null,
            "grid_template_areas": null,
            "grid_template_columns": null,
            "grid_template_rows": null,
            "height": null,
            "justify_content": null,
            "justify_items": null,
            "left": null,
            "margin": null,
            "max_height": null,
            "max_width": null,
            "min_height": null,
            "min_width": null,
            "object_fit": null,
            "object_position": null,
            "order": null,
            "overflow": null,
            "overflow_x": null,
            "overflow_y": null,
            "padding": null,
            "right": null,
            "top": null,
            "visibility": null,
            "width": null
          }
        },
        "d1475b6b70734eb8a1e87226224acea0": {
          "model_module": "itkwidgets",
          "model_name": "ViewerModel",
          "model_module_version": "^0.32.3",
          "state": {
            "_custom_cmap": null,
            "_dom_classes": [],
            "_downsampling": false,
            "_largest_roi": {
              "shape": [
                2,
                3
              ],
              "dtype": "float64"
            },
            "_model_module": "itkwidgets",
            "_model_module_version": "^0.32.3",
            "_model_name": "ViewerModel",
            "_rendering_image": false,
            "_reset_crop_requested": false,
            "_scale_factors": {
              "shape": [
                3
              ],
              "dtype": "uint8"
            },
            "_view_count": null,
            "_view_module": "itkwidgets",
            "_view_module_version": "^0.32.3",
            "_view_name": "ViewerView",
            "annotations": true,
            "axes": false,
            "background": [
              1,
              1,
              1
            ],
            "blend_mode": "composite",
            "camera": {
              "shape": [
                3,
                3
              ],
              "dtype": "float32"
            },
            "channels": [],
            "clicked_slice_point": null,
            "cmap": null,
            "geometries": [
              {
                "vtkClass": "vtkPolyData",
                "points": {
                  "vtkClass": "vtkPoints",
                  "name": "_points",
                  "numberOfComponents": 3,
                  "dataType": "Float32Array",
                  "size": 6807
                },
                "polys": {
                  "vtkClass": "vtkCellArray",
                  "name": "_polys",
                  "numberOfComponents": 1,
                  "size": 17536,
                  "dataType": "Uint32Array"
                },
                "pointData": {
                  "vtkClass": "vtkDataSetAttributes",
                  "activeScalars": 0,
                  "arrays": [
                    {
                      "data": {
                        "vtkClass": "vtkDataArray",
                        "name": "u",
                        "numberOfComponents": 1,
                        "size": 2269,
                        "dataType": "Float64Array"
                      }
                    }
                  ]
                },
                "metadata": {
                  "name": "Geometry 0"
                }
              }
            ],
            "geometry_colors": {
              "shape": [
                1,
                3
              ],
              "dtype": "float32"
            },
            "geometry_opacities": {
              "shape": [
                1
              ],
              "dtype": "float32"
            },
            "gradient_opacity": 0.2,
            "interpolation": true,
            "label_image_blend": 0.5,
            "label_image_names": null,
            "label_image_weights": null,
            "layout": "IPY_MODEL_ce4f1b6d40564289bb7b2f9747bbc21c",
            "lut": "glasbey",
            "mode": "v",
            "opacity_gaussians": null,
            "point_set_colors": {
              "shape": [
                0,
                3
              ],
              "dtype": "float32"
            },
            "point_set_opacities": {
              "shape": [
                0
              ],
              "dtype": "float32"
            },
            "point_set_representations": [],
            "point_set_sizes": {
              "shape": [
                0
              ],
              "dtype": "uint8"
            },
            "point_sets": [],
            "rendered_image": null,
            "rendered_label_image": null,
            "roi": {
              "shape": [
                2,
                3
              ],
              "dtype": "float64"
            },
            "rotate": false,
            "sample_distance": 0.25,
            "select_roi": false,
            "shadow": true,
            "slicing_planes": false,
            "ui_collapsed": true,
            "units": "",
            "vmax": null,
            "vmin": null,
            "x_slice": null,
            "y_slice": null,
            "z_slice": null
          }
        },
        "ce4f1b6d40564289bb7b2f9747bbc21c": {
          "model_module": "@jupyter-widgets/base",
          "model_name": "LayoutModel",
          "model_module_version": "1.2.0",
          "state": {
            "_model_module": "@jupyter-widgets/base",
            "_model_module_version": "1.2.0",
            "_model_name": "LayoutModel",
            "_view_count": null,
            "_view_module": "@jupyter-widgets/base",
            "_view_module_version": "1.2.0",
            "_view_name": "LayoutView",
            "align_content": null,
            "align_items": null,
            "align_self": null,
            "border": null,
            "bottom": null,
            "display": null,
            "flex": null,
            "flex_flow": null,
            "grid_area": null,
            "grid_auto_columns": null,
            "grid_auto_flow": null,
            "grid_auto_rows": null,
            "grid_column": null,
            "grid_gap": null,
            "grid_row": null,
            "grid_template_areas": null,
            "grid_template_columns": null,
            "grid_template_rows": null,
            "height": null,
            "justify_content": null,
            "justify_items": null,
            "left": null,
            "margin": null,
            "max_height": null,
            "max_width": null,
            "min_height": null,
            "min_width": null,
            "object_fit": null,
            "object_position": null,
            "order": null,
            "overflow": null,
            "overflow_x": null,
            "overflow_y": null,
            "padding": null,
            "right": null,
            "top": null,
            "visibility": null,
            "width": null
          }
        },
        "abf09b65d2874cbcb584e32ef22fc754": {
          "model_module": "itkwidgets",
          "model_name": "ViewerModel",
          "model_module_version": "^0.32.3",
          "state": {
            "_custom_cmap": null,
            "_dom_classes": [],
            "_downsampling": false,
            "_largest_roi": {
              "shape": [
                2,
                3
              ],
              "dtype": "float64"
            },
            "_model_module": "itkwidgets",
            "_model_module_version": "^0.32.3",
            "_model_name": "ViewerModel",
            "_rendering_image": false,
            "_reset_crop_requested": false,
            "_scale_factors": {
              "shape": [
                3
              ],
              "dtype": "uint8"
            },
            "_view_count": null,
            "_view_module": "itkwidgets",
            "_view_module_version": "^0.32.3",
            "_view_name": "ViewerView",
            "annotations": true,
            "axes": false,
            "background": [
              1,
              1,
              1
            ],
            "blend_mode": "composite",
            "camera": {
              "shape": [
                3,
                3
              ],
              "dtype": "float32"
            },
            "channels": [],
            "clicked_slice_point": null,
            "cmap": null,
            "geometries": [
              {
                "vtkClass": "vtkPolyData",
                "points": {
                  "vtkClass": "vtkPoints",
                  "name": "_points",
                  "numberOfComponents": 3,
                  "dataType": "Float32Array",
                  "size": 6807
                },
                "polys": {
                  "vtkClass": "vtkCellArray",
                  "name": "_polys",
                  "numberOfComponents": 1,
                  "size": 17536,
                  "dataType": "Uint32Array"
                },
                "pointData": {
                  "vtkClass": "vtkDataSetAttributes",
                  "activeScalars": 0,
                  "arrays": [
                    {
                      "data": {
                        "vtkClass": "vtkDataArray",
                        "name": "u",
                        "numberOfComponents": 1,
                        "size": 2269,
                        "dataType": "Float64Array"
                      }
                    }
                  ]
                },
                "metadata": {
                  "name": "Geometry 0"
                }
              }
            ],
            "geometry_colors": {
              "shape": [
                1,
                3
              ],
              "dtype": "float32"
            },
            "geometry_opacities": {
              "shape": [
                1
              ],
              "dtype": "float32"
            },
            "gradient_opacity": 0.2,
            "interpolation": true,
            "label_image_blend": 0.5,
            "label_image_names": null,
            "label_image_weights": null,
            "layout": "IPY_MODEL_7285810f943249a38c23d645791b67ef",
            "lut": "glasbey",
            "mode": "v",
            "opacity_gaussians": null,
            "point_set_colors": {
              "shape": [
                0,
                3
              ],
              "dtype": "float32"
            },
            "point_set_opacities": {
              "shape": [
                0
              ],
              "dtype": "float32"
            },
            "point_set_representations": [],
            "point_set_sizes": {
              "shape": [
                0
              ],
              "dtype": "uint8"
            },
            "point_sets": [],
            "rendered_image": null,
            "rendered_label_image": null,
            "roi": {
              "shape": [
                2,
                3
              ],
              "dtype": "float64"
            },
            "rotate": false,
            "sample_distance": 0.25,
            "select_roi": false,
            "shadow": true,
            "slicing_planes": false,
            "ui_collapsed": true,
            "units": "",
            "vmax": null,
            "vmin": null,
            "x_slice": null,
            "y_slice": null,
            "z_slice": null
          }
        },
        "7285810f943249a38c23d645791b67ef": {
          "model_module": "@jupyter-widgets/base",
          "model_name": "LayoutModel",
          "model_module_version": "1.2.0",
          "state": {
            "_model_module": "@jupyter-widgets/base",
            "_model_module_version": "1.2.0",
            "_model_name": "LayoutModel",
            "_view_count": null,
            "_view_module": "@jupyter-widgets/base",
            "_view_module_version": "1.2.0",
            "_view_name": "LayoutView",
            "align_content": null,
            "align_items": null,
            "align_self": null,
            "border": null,
            "bottom": null,
            "display": null,
            "flex": null,
            "flex_flow": null,
            "grid_area": null,
            "grid_auto_columns": null,
            "grid_auto_flow": null,
            "grid_auto_rows": null,
            "grid_column": null,
            "grid_gap": null,
            "grid_row": null,
            "grid_template_areas": null,
            "grid_template_columns": null,
            "grid_template_rows": null,
            "height": null,
            "justify_content": null,
            "justify_items": null,
            "left": null,
            "margin": null,
            "max_height": null,
            "max_width": null,
            "min_height": null,
            "min_width": null,
            "object_fit": null,
            "object_position": null,
            "order": null,
            "overflow": null,
            "overflow_x": null,
            "overflow_y": null,
            "padding": null,
            "right": null,
            "top": null,
            "visibility": null,
            "width": null
          }
        }
      }
    }
  },
  "nbformat": 4,
  "nbformat_minor": 5
}