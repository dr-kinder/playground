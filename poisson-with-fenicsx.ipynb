{
  "cells": [
    {
      "cell_type": "markdown",
      "metadata": {
        "id": "view-in-github",
        "colab_type": "text"
      },
      "source": [
        "<a href=\"https://colab.research.google.com/github/dr-kinder/playground/blob/master/poisson-with-fenicsx.ipynb\" target=\"_parent\"><img src=\"https://colab.research.google.com/assets/colab-badge.svg\" alt=\"Open In Colab\"/></a>"
      ]
    },
    {
      "cell_type": "code",
      "source": [
        "try:\n",
        "    # Import gmsh library for generating meshes.\n",
        "    import gmsh\n",
        "except ImportError:\n",
        "    # If it is not available, install it.  Then import it.\n",
        "    !wget \"https://fem-on-colab.github.io/releases/gmsh-install.sh\" -O \"/tmp/gmsh-install.sh\" && bash \"/tmp/gmsh-install.sh\"\n",
        "    import gmsh"
      ],
      "metadata": {
        "id": "7EUMPSN5-gkh"
      },
      "id": "7EUMPSN5-gkh",
      "execution_count": 1,
      "outputs": []
    },
    {
      "cell_type": "code",
      "execution_count": 2,
      "id": "mediterranean-century",
      "metadata": {
        "id": "mediterranean-century"
      },
      "outputs": [],
      "source": [
        "try:\n",
        "    # Import FEniCSx libraries.\n",
        "    import ufl\n",
        "    import dolfinx\n",
        "except ImportError:\n",
        "    # If they are not found, install them.  Then import them.\n",
        "    !wget \"https://fem-on-colab.github.io/releases/fenicsx-install-complex.sh\" -O \"/tmp/fenicsx-install.sh\" && bash \"/tmp/fenicsx-install.sh\"\n",
        "    import ufl\n",
        "    import dolfinx"
      ]
    },
    {
      "cell_type": "markdown",
      "source": [
        "Here, we import the library for creating meshes and initialize."
      ],
      "metadata": {
        "id": "WKCwCFa_AHoL"
      },
      "id": "WKCwCFa_AHoL"
    },
    {
      "cell_type": "code",
      "source": [
        "import gmsh\n",
        "gmsh.initialize()"
      ],
      "metadata": {
        "id": "DjP9-JEh_xHA"
      },
      "id": "DjP9-JEh_xHA",
      "execution_count": 3,
      "outputs": []
    },
    {
      "cell_type": "markdown",
      "source": [
        "Next, we will add a circular membrane to our model."
      ],
      "metadata": {
        "id": "sG3W3qlBAcmI"
      },
      "id": "sG3W3qlBAcmI"
    },
    {
      "cell_type": "code",
      "source": [
        "# Define the center of the circle.\n",
        "x0 = 0\n",
        "y0 = 0\n",
        "z0 = 0\n",
        "\n",
        "# Define the radius of the circle.\n",
        "r0 = 10\n",
        "\n",
        "# The function can make ellipses.\n",
        "# Set these equal to each other for a circle.\n",
        "rX = r0\n",
        "rY = r0\n",
        "\n",
        "# Create the disk.\n",
        "membrane = gmsh.model.occ.addDisk(x0, y0, z0, rX, rY)\n",
        "gmsh.model.occ.synchronize()"
      ],
      "metadata": {
        "id": "gxYBOqZy_1SL"
      },
      "id": "gxYBOqZy_1SL",
      "execution_count": 4,
      "outputs": []
    },
    {
      "cell_type": "code",
      "source": [
        "# Now we will make the disk a physical object in our model --- not just a set of points.\n",
        "gdim = 2\n",
        "gmsh.model.addPhysicalGroup(gdim, [membrane], 1)"
      ],
      "metadata": {
        "id": "gdYi1u7K_21r",
        "outputId": "007ba2bf-1a84-4be6-e36b-612f50d6a7fc",
        "colab": {
          "base_uri": "https://localhost:8080/"
        }
      },
      "id": "gdYi1u7K_21r",
      "execution_count": 5,
      "outputs": [
        {
          "output_type": "execute_result",
          "data": {
            "text/plain": [
              "1"
            ]
          },
          "metadata": {},
          "execution_count": 5
        }
      ]
    },
    {
      "cell_type": "code",
      "source": [
        "# Create a mesh for this system.\n",
        "gmsh.option.setNumber(\"Mesh.CharacteristicLengthMin\",0.05)\n",
        "gmsh.option.setNumber(\"Mesh.CharacteristicLengthMax\",0.05)\n",
        "gmsh.model.mesh.generate(gdim)"
      ],
      "metadata": {
        "id": "Y35_VLdfBTmB"
      },
      "id": "Y35_VLdfBTmB",
      "execution_count": 6,
      "outputs": []
    },
    {
      "cell_type": "markdown",
      "source": [
        "Next, we are going to bring our model into the finite element solving world."
      ],
      "metadata": {
        "id": "S-SFonfmBv1T"
      },
      "id": "S-SFonfmBv1T"
    },
    {
      "cell_type": "code",
      "source": [
        "from dolfinx.io import gmshio\n",
        "from mpi4py import MPI\n",
        "\n",
        "gmsh_model_rank = 0\n",
        "mesh_comm = MPI.COMM_WORLD\n",
        "domain, cell_markers, facet_markers = gmshio.model_to_mesh(gmsh.model, mesh_comm, gmsh_model_rank, gdim=gdim)"
      ],
      "metadata": {
        "id": "vUES9InVBeRk"
      },
      "id": "vUES9InVBeRk",
      "execution_count": 7,
      "outputs": []
    },
    {
      "cell_type": "markdown",
      "source": [
        "Define a set of functions on our grid."
      ],
      "metadata": {
        "id": "7BtAk2obCneH"
      },
      "id": "7BtAk2obCneH"
    },
    {
      "cell_type": "code",
      "source": [
        "from dolfinx import fem\n",
        "V = fem.FunctionSpace(domain, (\"CG\", 1))"
      ],
      "metadata": {
        "id": "iDGUR-HOBzdn"
      },
      "id": "iDGUR-HOBzdn",
      "execution_count": 8,
      "outputs": []
    },
    {
      "cell_type": "markdown",
      "source": [
        "Define the charge density.  We will use a Gaussian charge distribution.  You can adjust the center and the spread of the distribution."
      ],
      "metadata": {
        "id": "bg2VyQIPCu-n"
      },
      "id": "bg2VyQIPCu-n"
    },
    {
      "cell_type": "code",
      "source": [
        "import ufl\n",
        "from petsc4py.PETSc import ScalarType\n",
        "\n",
        "# Set the values.\n",
        "xC = 0.3\n",
        "yC = 0.2\n",
        "ds = 0.1\n",
        "\n",
        "# Turn them into symbolic expressions for the FEM solver.\n",
        "x = ufl.SpatialCoordinate(domain)\n",
        "beta = fem.Constant(domain, ScalarType(1/ds))\n",
        "X0 = fem.Constant(domain, ScalarType(xC))\n",
        "Y0 = fem.Constant(domain, ScalarType(yC))\n",
        "\n",
        "# Generate the charge density.\n",
        "rho = 4 * ufl.pi * ufl.exp(-0.5 * beta**2 * ((x[0]-X0)**2 + (x[1] - Y0)**2))"
      ],
      "metadata": {
        "id": "nwVgQmFWCrNe"
      },
      "id": "nwVgQmFWCrNe",
      "execution_count": 9,
      "outputs": []
    },
    {
      "cell_type": "markdown",
      "source": [
        "Next, we need to tell the solver about boundary conditions."
      ],
      "metadata": {
        "id": "Srx9BAtpEqIJ"
      },
      "id": "Srx9BAtpEqIJ"
    },
    {
      "cell_type": "code",
      "source": [
        "import numpy as np\n",
        "def on_boundary(x):\n",
        "    return np.isclose(np.sqrt(x[0]**2 + x[1]**2), r0)\n",
        "\n",
        "# Use this function to let the solver figure out which points in the mesh are on the boundary.\n",
        "boundary_dofs = fem.locate_dofs_geometrical(V, on_boundary)"
      ],
      "metadata": {
        "id": "bklwyz1QEk_E"
      },
      "id": "bklwyz1QEk_E",
      "execution_count": 10,
      "outputs": []
    },
    {
      "cell_type": "code",
      "source": [
        "# Now introduce the boundary condition: constant potential on the boundary.\n",
        "phi0 = 0.0\n",
        "bc = fem.dirichletbc(ScalarType(phi0), boundary_dofs, V)"
      ],
      "metadata": {
        "id": "BAgwD_MjEyKw"
      },
      "id": "BAgwD_MjEyKw",
      "execution_count": 11,
      "outputs": []
    },
    {
      "cell_type": "markdown",
      "source": [
        "Next, tell the solver what problem to solve."
      ],
      "metadata": {
        "id": "vI6sG9xoFnzy"
      },
      "id": "vI6sG9xoFnzy"
    },
    {
      "cell_type": "code",
      "source": [
        "u = ufl.TrialFunction(V)\n",
        "v = ufl.TestFunction(V)\n",
        "\n",
        "# This is the FEM version of the Laplacian.\n",
        "a = ufl.dot(ufl.grad(u), ufl.grad(v)) * ufl.dx\n",
        "\n",
        "# This is the charge density, for Poisson's equation.\n",
        "L = rho * v * ufl.dx\n",
        "\n",
        "# Explain the problem to the FEM solver.\n",
        "problem = fem.petsc.LinearProblem(a, L, bcs=[bc], petsc_options={\"ksp_type\": \"preonly\", \"pc_type\": \"lu\"})\n",
        "\n",
        "# Now, solve it!\n",
        "uh = problem.solve()"
      ],
      "metadata": {
        "id": "i0UM5NlfFlRi"
      },
      "id": "i0UM5NlfFlRi",
      "execution_count": 12,
      "outputs": []
    },
    {
      "cell_type": "markdown",
      "source": [
        "As we saw when exploring scalar fields, there are many ways to visualize the result.  Let's plot along a line."
      ],
      "metadata": {
        "id": "CN9_UD54GtnL"
      },
      "id": "CN9_UD54GtnL"
    },
    {
      "cell_type": "code",
      "source": [
        "from dolfinx.plot import create_vtk_mesh\n",
        "import pyvista\n",
        "pyvista.set_jupyter_backend(\"pythreejs\")\n",
        "\n",
        "# Extract topology from mesh and create pyvista mesh\n",
        "topology, cell_types, x = create_vtk_mesh(V)\n",
        "grid = pyvista.UnstructuredGrid(topology, cell_types, x)\n",
        "\n",
        "# Set deflection values and add it to plotter\n",
        "grid.point_data[\"u\"] = uh.x.array\n",
        "warped = grid.warp_by_scalar(\"u\", factor=25)\n",
        "\n",
        "plotter = pyvista.PlotterITK()\n",
        "plotter.add_mesh(warped, scalars=\"u\")\n",
        "plotter.show()"
      ],
      "metadata": {
        "id": "chdNU_juG0Rn",
        "outputId": "3d60e17f-23f7-4242-e9e2-ec83ac132801",
        "colab": {
          "base_uri": "https://localhost:8080/",
          "height": 717,
          "referenced_widgets": [
            "44ee2f53c5614e9b9361fdcbc063040f",
            "eee5f74cce72447b89def1d0088458bf"
          ]
        }
      },
      "id": "chdNU_juG0Rn",
      "execution_count": 13,
      "outputs": [
        {
          "output_type": "display_data",
          "data": {
            "text/plain": [
              "Viewer(geometries=[{'vtkClass': 'vtkPolyData', 'points': {'vtkClass': 'vtkPoints', 'name': '_points', 'numberO…"
            ],
            "application/vnd.jupyter.widget-view+json": {
              "version_major": 2,
              "version_minor": 0,
              "model_id": "44ee2f53c5614e9b9361fdcbc063040f"
            }
          },
          "metadata": {
            "application/vnd.jupyter.widget-view+json": {
              "colab": {
                "custom_widget_manager": {
                  "url": "https://ssl.gstatic.com/colaboratory-static/widgets/colab-cdn-widget-manager/d2e234f7cc04bf79/manager.min.js"
                }
              }
            }
          }
        },
        {
          "output_type": "display_data",
          "data": {
            "text/plain": [
              "Viewer(geometries=[{'vtkClass': 'vtkPolyData', 'points': {'vtkClass': 'vtkPoints', 'name': '_points', 'numberO…"
            ],
            "application/vnd.jupyter.widget-view+json": {
              "version_major": 2,
              "version_minor": 0,
              "model_id": "44ee2f53c5614e9b9361fdcbc063040f"
            }
          },
          "metadata": {
            "application/vnd.jupyter.widget-view+json": {
              "colab": {
                "custom_widget_manager": {
                  "url": "https://ssl.gstatic.com/colaboratory-static/widgets/colab-cdn-widget-manager/d2e234f7cc04bf79/manager.min.js"
                }
              }
            }
          }
        }
      ]
    },
    {
      "cell_type": "markdown",
      "source": [
        "We can also plot the charge density.  First, we have to interpolate the symbolic expression onto our grid."
      ],
      "metadata": {
        "id": "PH-l6DjeIfub"
      },
      "id": "PH-l6DjeIfub"
    },
    {
      "cell_type": "code",
      "source": [
        "# Interpolate the charge density for plotting.\n",
        "expr = fem.Expression(rho, V.element.interpolation_points())\n",
        "charge_density = fem.Function(V)\n",
        "charge_density.interpolate(expr)\n",
        "\n",
        "# Now, plot it.\n",
        "rho_grid = pyvista.UnstructuredGrid(*create_vtk_mesh(V))\n",
        "rho_grid.point_data[\"rho\"] = charge_density.x.array\n",
        "warped_rho = rho_grid.warp_by_scalar(\"rho\", factor=5)\n",
        "\n",
        "plotter = pyvista.PlotterITK()\n",
        "plotter.add_mesh(warped_rho, scalars=\"rho\")\n",
        "plotter.show()"
      ],
      "metadata": {
        "id": "Df229FNBEbNA",
        "outputId": "0b21aef0-d34f-48ca-c534-93018e382328",
        "colab": {
          "base_uri": "https://localhost:8080/",
          "height": 717,
          "referenced_widgets": [
            "0a220f32bbf5460ebc504f76440232a5",
            "f87b0e84763c4d12a5e151b8b0f8b9dc"
          ]
        }
      },
      "id": "Df229FNBEbNA",
      "execution_count": 14,
      "outputs": [
        {
          "output_type": "display_data",
          "data": {
            "text/plain": [
              "Viewer(geometries=[{'vtkClass': 'vtkPolyData', 'points': {'vtkClass': 'vtkPoints', 'name': '_points', 'numberO…"
            ],
            "application/vnd.jupyter.widget-view+json": {
              "version_major": 2,
              "version_minor": 0,
              "model_id": "0a220f32bbf5460ebc504f76440232a5"
            }
          },
          "metadata": {
            "application/vnd.jupyter.widget-view+json": {
              "colab": {
                "custom_widget_manager": {
                  "url": "https://ssl.gstatic.com/colaboratory-static/widgets/colab-cdn-widget-manager/d2e234f7cc04bf79/manager.min.js"
                }
              }
            }
          }
        },
        {
          "output_type": "display_data",
          "data": {
            "text/plain": [
              "Viewer(geometries=[{'vtkClass': 'vtkPolyData', 'points': {'vtkClass': 'vtkPoints', 'name': '_points', 'numberO…"
            ],
            "application/vnd.jupyter.widget-view+json": {
              "version_major": 2,
              "version_minor": 0,
              "model_id": "0a220f32bbf5460ebc504f76440232a5"
            }
          },
          "metadata": {
            "application/vnd.jupyter.widget-view+json": {
              "colab": {
                "custom_widget_manager": {
                  "url": "https://ssl.gstatic.com/colaboratory-static/widgets/colab-cdn-widget-manager/d2e234f7cc04bf79/manager.min.js"
                }
              }
            }
          }
        }
      ]
    },
    {
      "cell_type": "markdown",
      "source": [
        "We can compare the charge distribution and the potential on the same axes.  This is a little complicated, because we have to determine the value of our grid functions at every point along a line."
      ],
      "metadata": {
        "id": "7VG1M3gZNF4B"
      },
      "id": "7VG1M3gZNF4B"
    },
    {
      "cell_type": "code",
      "source": [
        "# Avoid hitting the outside of the domain.\n",
        "buffer = 0.001\n",
        "num_points = 201\n",
        "\n",
        "r = np.linspace(-r0 + buffer, r0 - buffer, num_points)\n",
        "theta = np.arctan(yC/xC)\n",
        "\n",
        "x = r * np.cos(theta)\n",
        "y = r * np.sin(theta)\n",
        "\n",
        "points = np.zeros((3, num_points))\n",
        "points[0] = x\n",
        "points[1] = y\n",
        "v_values = []\n",
        "rho_values = []"
      ],
      "metadata": {
        "id": "YU0FBnAPI47w"
      },
      "id": "YU0FBnAPI47w",
      "execution_count": 15,
      "outputs": []
    },
    {
      "cell_type": "code",
      "source": [
        "from dolfinx import geometry\n",
        "\n",
        "# This is an object that makes searching the mesh faster.\n",
        "bb_tree = geometry.BoundingBoxTree(domain, domain.topology.dim)"
      ],
      "metadata": {
        "id": "R_sV1aI4OkMo"
      },
      "id": "R_sV1aI4OkMo",
      "execution_count": 16,
      "outputs": []
    },
    {
      "cell_type": "code",
      "source": [
        "# Move through the cells and find the points we need.\n",
        "cells = []\n",
        "points_on_proc = []\n",
        "\n",
        "# Find cells whose bounding-box collide with the the points\n",
        "cell_candidates = geometry.compute_collisions(bb_tree, points.T)\n",
        "\n",
        "# Choose one of the cells that contains the point\n",
        "colliding_cells = geometry.compute_colliding_cells(domain, cell_candidates, points.T)\n",
        "for i, point in enumerate(points.T):\n",
        "    if len(colliding_cells.links(i))>0:\n",
        "        points_on_proc.append(point)\n",
        "        cells.append(colliding_cells.links(i)[0])"
      ],
      "metadata": {
        "id": "xRzXCqdTOtom"
      },
      "id": "xRzXCqdTOtom",
      "execution_count": 17,
      "outputs": []
    },
    {
      "cell_type": "code",
      "source": [
        "# Evaluate the functions on the cells we found.\n",
        "points_on_proc = np.array(points_on_proc, dtype=np.float64)\n",
        "v_values = uh.eval(points_on_proc, cells)\n",
        "rho_values = charge_density.eval(points_on_proc, cells)\n",
        "\n",
        "# Scale the two arrays so they fit on the same axes.\n",
        "scale_factor = rho_values.max() / v_values.max()"
      ],
      "metadata": {
        "id": "MKnJnr2WO_GO"
      },
      "id": "MKnJnr2WO_GO",
      "execution_count": 18,
      "outputs": []
    },
    {
      "cell_type": "code",
      "source": [
        "# Make the plot.\n",
        "import matplotlib.pyplot as plt\n",
        "fig = plt.figure(dpi=200)\n",
        "plt.plot(r, scale_factor*v_values, \"k\", linewidth=2, label=\"Potential ($\\\\times %.0f$)\" % scale_factor)\n",
        "plt.plot(r, rho_values, \"b--\", linewidth = 2, label=\"Charge Density\")\n",
        "plt.grid(True)\n",
        "plt.xlabel(\"r\")\n",
        "plt.legend()"
      ],
      "metadata": {
        "id": "63wU3FxMPHx2",
        "outputId": "9515a4cb-43d8-4b67-95e8-347a8838264d",
        "colab": {
          "base_uri": "https://localhost:8080/",
          "height": 765
        }
      },
      "id": "63wU3FxMPHx2",
      "execution_count": 19,
      "outputs": [
        {
          "output_type": "execute_result",
          "data": {
            "text/plain": [
              "<matplotlib.legend.Legend at 0x7fa5ffc23750>"
            ]
          },
          "metadata": {},
          "execution_count": 19
        },
        {
          "output_type": "display_data",
          "data": {
            "text/plain": [
              "<Figure size 1200x800 with 1 Axes>"
            ],
            "image/png": "[encoded data removed]"
          },
          "metadata": {
            "needs_background": "light"
          }
        }
      ]
    },
    {
      "cell_type": "code",
      "source": [],
      "metadata": {
        "id": "EbcLuVbsPWJi"
      },
      "id": "EbcLuVbsPWJi",
      "execution_count": 19,
      "outputs": []
    }
  ],
  "metadata": {
    "kernelspec": {
      "display_name": "Python 3 (ipykernel)",
      "language": "python",
      "name": "python3"
    },
    "language_info": {
      "codemirror_mode": {
        "name": "ipython"
      },
      "file_extension": ".py",
      "mimetype": "text/x-python",
      "name": "python",
      "nbconvert_exporter": "python"
    },
    "colab": {
      "provenance": [],
      "include_colab_link": true
    },
    "widgets": {
      "application/vnd.jupyter.widget-state+json": {
        "44ee2f53c5614e9b9361fdcbc063040f": {
          "model_module": "itkwidgets",
          "model_name": "ViewerModel",
          "model_module_version": "^0.32.3",
          "state": {
            "_custom_cmap": null,
            "_dom_classes": [],
            "_downsampling": false,
            "_largest_roi": {
              "shape": [
                2,
                3
              ],
              "dtype": "float64"
            },
            "_model_module": "itkwidgets",
            "_model_module_version": "^0.32.3",
            "_model_name": "ViewerModel",
            "_rendering_image": false,
            "_reset_crop_requested": false,
            "_scale_factors": {
              "shape": [
                3
              ],
              "dtype": "uint8"
            },
            "_view_count": null,
            "_view_module": "itkwidgets",
            "_view_module_version": "^0.32.3",
            "_view_name": "ViewerView",
            "annotations": true,
            "axes": false,
            "background": [
              0.2196078431372549,
              0.2196078431372549,
              0.2196078431372549
            ],
            "blend_mode": "composite",
            "camera": {
              "shape": [
                3,
                3
              ],
              "dtype": "float32"
            },
            "channels": [],
            "clicked_slice_point": null,
            "cmap": null,
            "geometries": [
              {
                "vtkClass": "vtkPolyData",
                "points": {
                  "vtkClass": "vtkPoints",
                  "name": "_points",
                  "numberOfComponents": 3,
                  "dataType": "Float32Array",
                  "size": 438231
                },
                "polys": {
                  "vtkClass": "vtkCellArray",
                  "name": "_polys",
                  "numberOfComponents": 1,
                  "size": 1163580,
                  "dataType": "Uint32Array"
                },
                "pointData": {
                  "vtkClass": "vtkDataSetAttributes",
                  "activeScalars": 0,
                  "arrays": [
                    {
                      "data": {
                        "vtkClass": "vtkDataArray",
                        "name": "u",
                        "numberOfComponents": 1,
                        "size": 146077,
                        "dataType": "Float64Array"
                      }
                    }
                  ]
                },
                "metadata": {
                  "name": "Geometry 0"
                }
              }
            ],
            "geometry_colors": {
              "shape": [
                1,
                3
              ],
              "dtype": "float32"
            },
            "geometry_opacities": {
              "shape": [
                1
              ],
              "dtype": "float32"
            },
            "gradient_opacity": 0.2,
            "interpolation": true,
            "label_image_blend": 0.5,
            "label_image_names": null,
            "label_image_weights": null,
            "layout": "IPY_MODEL_eee5f74cce72447b89def1d0088458bf",
            "lut": "glasbey",
            "mode": "v",
            "opacity_gaussians": null,
            "point_set_colors": {
              "shape": [
                0,
                3
              ],
              "dtype": "float32"
            },
            "point_set_opacities": {
              "shape": [
                0
              ],
              "dtype": "float32"
            },
            "point_set_representations": [],
            "point_set_sizes": {
              "shape": [
                0
              ],
              "dtype": "uint8"
            },
            "point_sets": [],
            "rendered_image": null,
            "rendered_label_image": null,
            "roi": {
              "shape": [
                2,
                3
              ],
              "dtype": "float64"
            },
            "rotate": false,
            "sample_distance": 0.25,
            "select_roi": false,
            "shadow": true,
            "slicing_planes": false,
            "ui_collapsed": true,
            "units": "",
            "vmax": null,
            "vmin": null,
            "x_slice": null,
            "y_slice": null,
            "z_slice": null
          }
        },
        "eee5f74cce72447b89def1d0088458bf": {
          "model_module": "@jupyter-widgets/base",
          "model_name": "LayoutModel",
          "model_module_version": "1.2.0",
          "state": {
            "_model_module": "@jupyter-widgets/base",
            "_model_module_version": "1.2.0",
            "_model_name": "LayoutModel",
            "_view_count": null,
            "_view_module": "@jupyter-widgets/base",
            "_view_module_version": "1.2.0",
            "_view_name": "LayoutView",
            "align_content": null,
            "align_items": null,
            "align_self": null,
            "border": null,
            "bottom": null,
            "display": null,
            "flex": null,
            "flex_flow": null,
            "grid_area": null,
            "grid_auto_columns": null,
            "grid_auto_flow": null,
            "grid_auto_rows": null,
            "grid_column": null,
            "grid_gap": null,
            "grid_row": null,
            "grid_template_areas": null,
            "grid_template_columns": null,
            "grid_template_rows": null,
            "height": null,
            "justify_content": null,
            "justify_items": null,
            "left": null,
            "margin": null,
            "max_height": null,
            "max_width": null,
            "min_height": null,
            "min_width": null,
            "object_fit": null,
            "object_position": null,
            "order": null,
            "overflow": null,
            "overflow_x": null,
            "overflow_y": null,
            "padding": null,
            "right": null,
            "top": null,
            "visibility": null,
            "width": null
          }
        },
        "0a220f32bbf5460ebc504f76440232a5": {
          "model_module": "itkwidgets",
          "model_name": "ViewerModel",
          "model_module_version": "^0.32.3",
          "state": {
            "_custom_cmap": null,
            "_dom_classes": [],
            "_downsampling": false,
            "_largest_roi": {
              "shape": [
                2,
                3
              ],
              "dtype": "float64"
            },
            "_model_module": "itkwidgets",
            "_model_module_version": "^0.32.3",
            "_model_name": "ViewerModel",
            "_rendering_image": false,
            "_reset_crop_requested": false,
            "_scale_factors": {
              "shape": [
                3
              ],
              "dtype": "uint8"
            },
            "_view_count": null,
            "_view_module": "itkwidgets",
            "_view_module_version": "^0.32.3",
            "_view_name": "ViewerView",
            "annotations": true,
            "axes": false,
            "background": [
              0.2196078431372549,
              0.2196078431372549,
              0.2196078431372549
            ],
            "blend_mode": "composite",
            "camera": {
              "shape": [
                3,
                3
              ],
              "dtype": "float32"
            },
            "channels": [],
            "clicked_slice_point": null,
            "cmap": null,
            "geometries": [
              {
                "vtkClass": "vtkPolyData",
                "points": {
                  "vtkClass": "vtkPoints",
                  "name": "_points",
                  "numberOfComponents": 3,
                  "dataType": "Float32Array",
                  "size": 438231
                },
                "polys": {
                  "vtkClass": "vtkCellArray",
                  "name": "_polys",
                  "numberOfComponents": 1,
                  "size": 1163580,
                  "dataType": "Uint32Array"
                },
                "pointData": {
                  "vtkClass": "vtkDataSetAttributes",
                  "activeScalars": 0,
                  "arrays": [
                    {
                      "data": {
                        "vtkClass": "vtkDataArray",
                        "name": "rho",
                        "numberOfComponents": 1,
                        "size": 146077,
                        "dataType": "Float64Array"
                      }
                    }
                  ]
                },
                "metadata": {
                  "name": "Geometry 0"
                }
              }
            ],
            "geometry_colors": {
              "shape": [
                1,
                3
              ],
              "dtype": "float32"
            },
            "geometry_opacities": {
              "shape": [
                1
              ],
              "dtype": "float32"
            },
            "gradient_opacity": 0.2,
            "interpolation": true,
            "label_image_blend": 0.5,
            "label_image_names": null,
            "label_image_weights": null,
            "layout": "IPY_MODEL_f87b0e84763c4d12a5e151b8b0f8b9dc",
            "lut": "glasbey",
            "mode": "v",
            "opacity_gaussians": null,
            "point_set_colors": {
              "shape": [
                0,
                3
              ],
              "dtype": "float32"
            },
            "point_set_opacities": {
              "shape": [
                0
              ],
              "dtype": "float32"
            },
            "point_set_representations": [],
            "point_set_sizes": {
              "shape": [
                0
              ],
              "dtype": "uint8"
            },
            "point_sets": [],
            "rendered_image": null,
            "rendered_label_image": null,
            "roi": {
              "shape": [
                2,
                3
              ],
              "dtype": "float64"
            },
            "rotate": false,
            "sample_distance": 0.25,
            "select_roi": false,
            "shadow": true,
            "slicing_planes": false,
            "ui_collapsed": true,
            "units": "",
            "vmax": null,
            "vmin": null,
            "x_slice": null,
            "y_slice": null,
            "z_slice": null
          }
        },
        "f87b0e84763c4d12a5e151b8b0f8b9dc": {
          "model_module": "@jupyter-widgets/base",
          "model_name": "LayoutModel",
          "model_module_version": "1.2.0",
          "state": {
            "_model_module": "@jupyter-widgets/base",
            "_model_module_version": "1.2.0",
            "_model_name": "LayoutModel",
            "_view_count": null,
            "_view_module": "@jupyter-widgets/base",
            "_view_module_version": "1.2.0",
            "_view_name": "LayoutView",
            "align_content": null,
            "align_items": null,
            "align_self": null,
            "border": null,
            "bottom": null,
            "display": null,
            "flex": null,
            "flex_flow": null,
            "grid_area": null,
            "grid_auto_columns": null,
            "grid_auto_flow": null,
            "grid_auto_rows": null,
            "grid_column": null,
            "grid_gap": null,
            "grid_row": null,
            "grid_template_areas": null,
            "grid_template_columns": null,
            "grid_template_rows": null,
            "height": null,
            "justify_content": null,
            "justify_items": null,
            "left": null,
            "margin": null,
            "max_height": null,
            "max_width": null,
            "min_height": null,
            "min_width": null,
            "object_fit": null,
            "object_position": null,
            "order": null,
            "overflow": null,
            "overflow_x": null,
            "overflow_y": null,
            "padding": null,
            "right": null,
            "top": null,
            "visibility": null,
            "width": null
          }
        }
      }
    }
  },
  "nbformat": 4,
  "nbformat_minor": 5
}