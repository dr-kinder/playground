{
  "cells": [
    {
      "cell_type": "markdown",
      "metadata": {
        "id": "view-in-github",
        "colab_type": "text"
      },
      "source": [
        "<a href=\"https://colab.research.google.com/github/dr-kinder/playground/blob/master/poisson-with-fenicsx.ipynb\" target=\"_parent\"><img src=\"https://colab.research.google.com/assets/colab-badge.svg\" alt=\"Open In Colab\"/></a>"
      ]
    },
    {
      "cell_type": "code",
      "source": [
        "try:\n",
        "    # Import gmsh library for generating meshes.\n",
        "    import gmsh\n",
        "except ImportError:\n",
        "    # If it is not available, install it.  Then import it.\n",
        "    !wget \"https://fem-on-colab.github.io/releases/gmsh-install.sh\" -O \"/tmp/gmsh-install.sh\" && bash \"/tmp/gmsh-install.sh\"\n",
        "    import gmsh"
      ],
      "metadata": {
        "id": "7EUMPSN5-gkh"
      },
      "id": "7EUMPSN5-gkh",
      "execution_count": 1,
      "outputs": []
    },
    {
      "cell_type": "code",
      "execution_count": 2,
      "id": "mediterranean-century",
      "metadata": {
        "id": "mediterranean-century"
      },
      "outputs": [],
      "source": [
        "try:\n",
        "    # Import FEniCSx libraries for finite element analysis.\n",
        "    import dolfinx\n",
        "except ImportError:\n",
        "    # If they are not found, install them.  Then import them.\n",
        "    !wget \"https://fem-on-colab.github.io/releases/fenicsx-install-real.sh\" -O \"/tmp/fenicsx-install.sh\" && bash \"/tmp/fenicsx-install.sh\"\n",
        "    import dolfinx"
      ]
    },
    {
      "cell_type": "code",
      "source": [
        "try:\n",
        "    # Import multiphenicsx, mainly for plotting.\n",
        "    import multiphenicsx\n",
        "except ImportError:\n",
        "    # If they are not found, install them.\n",
        "    !pip3 install \"multiphenicsx@git+https://github.com/multiphenics/multiphenicsx.git@8b97b4e\"\n",
        "    import multiphenicsx"
      ],
      "metadata": {
        "id": "WbKnhYd_hJHf"
      },
      "id": "WbKnhYd_hJHf",
      "execution_count": 3,
      "outputs": []
    },
    {
      "cell_type": "code",
      "source": [
        "# Everything should be installed, if it was missing.\n",
        "# Import the rest of what we need.\n",
        "\n",
        "import dolfinx.fem\n",
        "import dolfinx.io\n",
        "import gmsh\n",
        "import mpi4py.MPI\n",
        "import numpy as np\n",
        "import petsc4py.PETSc\n",
        "import ufl\n",
        "import multiphenicsx.fem\n",
        "import multiphenicsx.io"
      ],
      "metadata": {
        "id": "QbcHvDwImO1j"
      },
      "id": "QbcHvDwImO1j",
      "execution_count": 4,
      "outputs": []
    },
    {
      "cell_type": "markdown",
      "source": [
        "Here, we import the library for creating meshes and initialize."
      ],
      "metadata": {
        "id": "WKCwCFa_AHoL"
      },
      "id": "WKCwCFa_AHoL"
    },
    {
      "cell_type": "code",
      "source": [
        "gmsh.initialize()"
      ],
      "metadata": {
        "id": "DjP9-JEh_xHA"
      },
      "id": "DjP9-JEh_xHA",
      "execution_count": 5,
      "outputs": []
    },
    {
      "cell_type": "markdown",
      "source": [
        "Next, we will add a circular membrane to our model."
      ],
      "metadata": {
        "id": "sG3W3qlBAcmI"
      },
      "id": "sG3W3qlBAcmI"
    },
    {
      "cell_type": "code",
      "source": [
        "# Define the center of the circle.\n",
        "x0 = 0\n",
        "y0 = 0\n",
        "z0 = 0\n",
        "\n",
        "# Define the radius of the circle.\n",
        "r0 = 3\n",
        "\n",
        "# The function can make ellipses.\n",
        "# Set these equal to each other for a circle.\n",
        "rX = r0\n",
        "rY = r0\n",
        "\n",
        "# Create the disk.\n",
        "membrane = gmsh.model.occ.addDisk(x0, y0, z0, rX, rY)\n",
        "gmsh.model.occ.synchronize()"
      ],
      "metadata": {
        "id": "gxYBOqZy_1SL"
      },
      "id": "gxYBOqZy_1SL",
      "execution_count": 6,
      "outputs": []
    },
    {
      "cell_type": "code",
      "source": [
        "# Now we will make the disk a physical object in our model --- not just a set of points.\n",
        "gdim = 2\n",
        "gmsh.model.addPhysicalGroup(gdim, [membrane], 1)"
      ],
      "metadata": {
        "id": "gdYi1u7K_21r",
        "outputId": "6abe7869-a664-4fdf-8600-dbe37597ca02",
        "colab": {
          "base_uri": "https://localhost:8080/"
        }
      },
      "id": "gdYi1u7K_21r",
      "execution_count": 7,
      "outputs": [
        {
          "output_type": "execute_result",
          "data": {
            "text/plain": [
              "1"
            ]
          },
          "metadata": {},
          "execution_count": 7
        }
      ]
    },
    {
      "cell_type": "code",
      "source": [
        "# Create a mesh for this system.\n",
        "gmsh.option.setNumber(\"Mesh.CharacteristicLengthMin\",0.05)\n",
        "gmsh.option.setNumber(\"Mesh.CharacteristicLengthMax\",0.05)\n",
        "gmsh.model.mesh.generate(gdim)"
      ],
      "metadata": {
        "id": "Y35_VLdfBTmB"
      },
      "id": "Y35_VLdfBTmB",
      "execution_count": 8,
      "outputs": []
    },
    {
      "cell_type": "markdown",
      "source": [
        "Next, we are going to bring our model into the finite element solving world."
      ],
      "metadata": {
        "id": "S-SFonfmBv1T"
      },
      "id": "S-SFonfmBv1T"
    },
    {
      "cell_type": "code",
      "source": [
        "from dolfinx.io import gmshio\n",
        "from mpi4py import MPI\n",
        "\n",
        "gmsh_model_rank = 0\n",
        "mesh_comm = MPI.COMM_WORLD\n",
        "domain, cell_markers, facet_markers = gmshio.model_to_mesh(gmsh.model, mesh_comm, gmsh_model_rank, gdim=gdim)"
      ],
      "metadata": {
        "id": "vUES9InVBeRk"
      },
      "id": "vUES9InVBeRk",
      "execution_count": 9,
      "outputs": []
    },
    {
      "cell_type": "markdown",
      "source": [
        "Define a set of functions on our grid."
      ],
      "metadata": {
        "id": "7BtAk2obCneH"
      },
      "id": "7BtAk2obCneH"
    },
    {
      "cell_type": "code",
      "source": [
        "from dolfinx import fem\n",
        "V = fem.FunctionSpace(domain, (\"CG\", 1))"
      ],
      "metadata": {
        "id": "iDGUR-HOBzdn"
      },
      "id": "iDGUR-HOBzdn",
      "execution_count": 10,
      "outputs": []
    },
    {
      "cell_type": "markdown",
      "source": [
        "Define the charge density.  We will use a Gaussian charge distribution.  You can adjust the center and the spread of the distribution."
      ],
      "metadata": {
        "id": "bg2VyQIPCu-n"
      },
      "id": "bg2VyQIPCu-n"
    },
    {
      "cell_type": "code",
      "source": [
        "from petsc4py.PETSc import ScalarType\n",
        "\n",
        "# Set the values.\n",
        "xC = 0.3\n",
        "yC = 0.2\n",
        "ds = 0.1\n",
        "\n",
        "# Turn them into symbolic expressions for the FEM solver.\n",
        "x = ufl.SpatialCoordinate(domain)\n",
        "beta = fem.Constant(domain, ScalarType(1/ds))\n",
        "X0 = fem.Constant(domain, ScalarType(xC))\n",
        "Y0 = fem.Constant(domain, ScalarType(yC))\n",
        "\n",
        "# Generate the charge density.\n",
        "rho = 4 * ufl.pi * ufl.exp(-0.5 * beta**2 * ((x[0]-X0)**2 + (x[1] - Y0)**2))"
      ],
      "metadata": {
        "id": "nwVgQmFWCrNe"
      },
      "id": "nwVgQmFWCrNe",
      "execution_count": 11,
      "outputs": []
    },
    {
      "cell_type": "markdown",
      "source": [
        "Next, we need to tell the solver about boundary conditions."
      ],
      "metadata": {
        "id": "Srx9BAtpEqIJ"
      },
      "id": "Srx9BAtpEqIJ"
    },
    {
      "cell_type": "code",
      "source": [
        "import numpy as np\n",
        "def on_boundary(x):\n",
        "    return np.isclose(np.sqrt(x[0]**2 + x[1]**2), r0)\n",
        "\n",
        "# Use this function to let the solver figure out which points in the mesh are on the boundary.\n",
        "boundary_dofs = fem.locate_dofs_geometrical(V, on_boundary)"
      ],
      "metadata": {
        "id": "bklwyz1QEk_E"
      },
      "id": "bklwyz1QEk_E",
      "execution_count": 12,
      "outputs": []
    },
    {
      "cell_type": "code",
      "source": [
        "# Now introduce the boundary condition: constant potential on the boundary.\n",
        "phi0 = 0.0\n",
        "bc = fem.dirichletbc(ScalarType(phi0), boundary_dofs, V)"
      ],
      "metadata": {
        "id": "BAgwD_MjEyKw"
      },
      "id": "BAgwD_MjEyKw",
      "execution_count": 13,
      "outputs": []
    },
    {
      "cell_type": "markdown",
      "source": [
        "Next, tell the solver what problem to solve."
      ],
      "metadata": {
        "id": "vI6sG9xoFnzy"
      },
      "id": "vI6sG9xoFnzy"
    },
    {
      "cell_type": "code",
      "source": [
        "u = ufl.TrialFunction(V)\n",
        "v = ufl.TestFunction(V)\n",
        "\n",
        "# This is the FEM version of the Laplacian.\n",
        "a = ufl.dot(ufl.grad(u), ufl.grad(v)) * ufl.dx\n",
        "\n",
        "# This is the charge density, for Poisson's equation.\n",
        "L = rho * v * ufl.dx\n",
        "\n",
        "# Explain the problem to the FEM solver.\n",
        "problem = fem.petsc.LinearProblem(a, L, bcs=[bc], petsc_options={\"ksp_type\": \"preonly\", \"pc_type\": \"lu\"})\n",
        "\n",
        "# Now, solve it!\n",
        "uh = problem.solve()"
      ],
      "metadata": {
        "id": "i0UM5NlfFlRi",
        "outputId": "2e8226d5-9b4d-4139-bd05-6c3d5bb4e1c1",
        "colab": {
          "base_uri": "https://localhost:8080/",
          "height": 381
        }
      },
      "id": "i0UM5NlfFlRi",
      "execution_count": 14,
      "outputs": [
        {
          "output_type": "error",
          "ename": "ArityMismatch",
          "evalue": "ignored",
          "traceback": [
            "\u001b[0;31m---------------------------------------------------------------------------\u001b[0m",
            "\u001b[0;31mArityMismatch\u001b[0m                             Traceback (most recent call last)",
            "\u001b[0;32m<ipython-input-14-f219ba29cf51>\u001b[0m in \u001b[0;36m<module>\u001b[0;34m\u001b[0m\n\u001b[1;32m      9\u001b[0m \u001b[0;34m\u001b[0m\u001b[0m\n\u001b[1;32m     10\u001b[0m \u001b[0;31m# Explain the problem to the FEM solver.\u001b[0m\u001b[0;34m\u001b[0m\u001b[0;34m\u001b[0m\u001b[0;34m\u001b[0m\u001b[0m\n\u001b[0;32m---> 11\u001b[0;31m \u001b[0mproblem\u001b[0m \u001b[0;34m=\u001b[0m \u001b[0mfem\u001b[0m\u001b[0;34m.\u001b[0m\u001b[0mpetsc\u001b[0m\u001b[0;34m.\u001b[0m\u001b[0mLinearProblem\u001b[0m\u001b[0;34m(\u001b[0m\u001b[0ma\u001b[0m\u001b[0;34m,\u001b[0m \u001b[0mL\u001b[0m\u001b[0;34m,\u001b[0m \u001b[0mbcs\u001b[0m\u001b[0;34m=\u001b[0m\u001b[0;34m[\u001b[0m\u001b[0mbc\u001b[0m\u001b[0;34m]\u001b[0m\u001b[0;34m,\u001b[0m \u001b[0mpetsc_options\u001b[0m\u001b[0;34m=\u001b[0m\u001b[0;34m{\u001b[0m\u001b[0;34m\"ksp_type\"\u001b[0m\u001b[0;34m:\u001b[0m \u001b[0;34m\"preonly\"\u001b[0m\u001b[0;34m,\u001b[0m \u001b[0;34m\"pc_type\"\u001b[0m\u001b[0;34m:\u001b[0m \u001b[0;34m\"lu\"\u001b[0m\u001b[0;34m}\u001b[0m\u001b[0;34m)\u001b[0m\u001b[0;34m\u001b[0m\u001b[0;34m\u001b[0m\u001b[0m\n\u001b[0m\u001b[1;32m     12\u001b[0m \u001b[0;34m\u001b[0m\u001b[0m\n\u001b[1;32m     13\u001b[0m \u001b[0;31m# Now, solve it!\u001b[0m\u001b[0;34m\u001b[0m\u001b[0;34m\u001b[0m\u001b[0;34m\u001b[0m\u001b[0m\n",
            "\u001b[0;32m/usr/local/lib/python3.7/dist-packages/dolfinx/fem/petsc.py\u001b[0m in \u001b[0;36m__init__\u001b[0;34m(self, a, L, bcs, u, petsc_options, form_compiler_options, jit_options)\u001b[0m\n\u001b[1;32m    559\u001b[0m \u001b[0;34m\u001b[0m\u001b[0m\n\u001b[1;32m    560\u001b[0m         \"\"\"\n\u001b[0;32m--> 561\u001b[0;31m         \u001b[0mself\u001b[0m\u001b[0;34m.\u001b[0m\u001b[0m_a\u001b[0m \u001b[0;34m=\u001b[0m \u001b[0m_create_form\u001b[0m\u001b[0;34m(\u001b[0m\u001b[0ma\u001b[0m\u001b[0;34m,\u001b[0m \u001b[0mform_compiler_options\u001b[0m\u001b[0;34m=\u001b[0m\u001b[0mform_compiler_options\u001b[0m\u001b[0;34m,\u001b[0m \u001b[0mjit_options\u001b[0m\u001b[0;34m=\u001b[0m\u001b[0mjit_options\u001b[0m\u001b[0;34m)\u001b[0m\u001b[0;34m\u001b[0m\u001b[0;34m\u001b[0m\u001b[0m\n\u001b[0m\u001b[1;32m    562\u001b[0m         \u001b[0mself\u001b[0m\u001b[0;34m.\u001b[0m\u001b[0m_A\u001b[0m \u001b[0;34m=\u001b[0m \u001b[0mcreate_matrix\u001b[0m\u001b[0;34m(\u001b[0m\u001b[0mself\u001b[0m\u001b[0;34m.\u001b[0m\u001b[0m_a\u001b[0m\u001b[0;34m)\u001b[0m\u001b[0;34m\u001b[0m\u001b[0;34m\u001b[0m\u001b[0m\n\u001b[1;32m    563\u001b[0m \u001b[0;34m\u001b[0m\u001b[0m\n",
            "\u001b[0;32m/usr/local/lib/python3.7/dist-packages/dolfinx/fem/forms.py\u001b[0m in \u001b[0;36mform\u001b[0;34m(form, dtype, form_compiler_options, jit_options)\u001b[0m\n\u001b[1;32m    164\u001b[0m         \u001b[0;32mreturn\u001b[0m \u001b[0mform\u001b[0m\u001b[0;34m\u001b[0m\u001b[0;34m\u001b[0m\u001b[0m\n\u001b[1;32m    165\u001b[0m \u001b[0;34m\u001b[0m\u001b[0m\n\u001b[0;32m--> 166\u001b[0;31m     \u001b[0;32mreturn\u001b[0m \u001b[0m_create_form\u001b[0m\u001b[0;34m(\u001b[0m\u001b[0mform\u001b[0m\u001b[0;34m)\u001b[0m\u001b[0;34m\u001b[0m\u001b[0;34m\u001b[0m\u001b[0m\n\u001b[0m\u001b[1;32m    167\u001b[0m \u001b[0;34m\u001b[0m\u001b[0m\n\u001b[1;32m    168\u001b[0m \u001b[0;34m\u001b[0m\u001b[0m\n",
            "\u001b[0;32m/usr/local/lib/python3.7/dist-packages/dolfinx/fem/forms.py\u001b[0m in \u001b[0;36m_create_form\u001b[0;34m(form)\u001b[0m\n\u001b[1;32m    159\u001b[0m         return form argument\"\"\"\n\u001b[1;32m    160\u001b[0m         \u001b[0;32mif\u001b[0m \u001b[0misinstance\u001b[0m\u001b[0;34m(\u001b[0m\u001b[0mform\u001b[0m\u001b[0;34m,\u001b[0m \u001b[0mufl\u001b[0m\u001b[0;34m.\u001b[0m\u001b[0mForm\u001b[0m\u001b[0;34m)\u001b[0m\u001b[0;34m:\u001b[0m\u001b[0;34m\u001b[0m\u001b[0;34m\u001b[0m\u001b[0m\n\u001b[0;32m--> 161\u001b[0;31m             \u001b[0;32mreturn\u001b[0m \u001b[0m_form\u001b[0m\u001b[0;34m(\u001b[0m\u001b[0mform\u001b[0m\u001b[0;34m)\u001b[0m\u001b[0;34m\u001b[0m\u001b[0;34m\u001b[0m\u001b[0m\n\u001b[0m\u001b[1;32m    162\u001b[0m         \u001b[0;32melif\u001b[0m \u001b[0misinstance\u001b[0m\u001b[0;34m(\u001b[0m\u001b[0mform\u001b[0m\u001b[0;34m,\u001b[0m \u001b[0mcollections\u001b[0m\u001b[0;34m.\u001b[0m\u001b[0mabc\u001b[0m\u001b[0;34m.\u001b[0m\u001b[0mIterable\u001b[0m\u001b[0;34m)\u001b[0m\u001b[0;34m:\u001b[0m\u001b[0;34m\u001b[0m\u001b[0;34m\u001b[0m\u001b[0m\n\u001b[1;32m    163\u001b[0m             \u001b[0;32mreturn\u001b[0m \u001b[0mlist\u001b[0m\u001b[0;34m(\u001b[0m\u001b[0mmap\u001b[0m\u001b[0;34m(\u001b[0m\u001b[0;32mlambda\u001b[0m \u001b[0msub_form\u001b[0m\u001b[0;34m:\u001b[0m \u001b[0m_create_form\u001b[0m\u001b[0;34m(\u001b[0m\u001b[0msub_form\u001b[0m\u001b[0;34m)\u001b[0m\u001b[0;34m,\u001b[0m \u001b[0mform\u001b[0m\u001b[0;34m)\u001b[0m\u001b[0;34m)\u001b[0m\u001b[0;34m\u001b[0m\u001b[0;34m\u001b[0m\u001b[0m\n",
            "\u001b[0;32m/usr/local/lib/python3.7/dist-packages/dolfinx/fem/forms.py\u001b[0m in \u001b[0;36m_form\u001b[0;34m(form)\u001b[0m\n\u001b[1;32m    135\u001b[0m         ufcx_form, module, code = jit.ffcx_jit(mesh.comm, form,\n\u001b[1;32m    136\u001b[0m                                                \u001b[0mform_compiler_options\u001b[0m\u001b[0;34m=\u001b[0m\u001b[0mform_compiler_options\u001b[0m\u001b[0;34m,\u001b[0m\u001b[0;34m\u001b[0m\u001b[0;34m\u001b[0m\u001b[0m\n\u001b[0;32m--> 137\u001b[0;31m                                                jit_options=jit_options)\n\u001b[0m\u001b[1;32m    138\u001b[0m \u001b[0;34m\u001b[0m\u001b[0m\n\u001b[1;32m    139\u001b[0m         \u001b[0;31m# For each argument in form extract its function space\u001b[0m\u001b[0;34m\u001b[0m\u001b[0;34m\u001b[0m\u001b[0;34m\u001b[0m\u001b[0m\n",
            "\u001b[0;32m/usr/local/lib/python3.7/dist-packages/dolfinx/jit.py\u001b[0m in \u001b[0;36mmpi_jit\u001b[0;34m(comm, *args, **kwargs)\u001b[0m\n\u001b[1;32m     54\u001b[0m         \u001b[0;31m# Just call JIT compiler when running in serial\u001b[0m\u001b[0;34m\u001b[0m\u001b[0;34m\u001b[0m\u001b[0;34m\u001b[0m\u001b[0m\n\u001b[1;32m     55\u001b[0m         \u001b[0;32mif\u001b[0m \u001b[0mcomm\u001b[0m\u001b[0;34m.\u001b[0m\u001b[0msize\u001b[0m \u001b[0;34m==\u001b[0m \u001b[0;36m1\u001b[0m\u001b[0;34m:\u001b[0m\u001b[0;34m\u001b[0m\u001b[0;34m\u001b[0m\u001b[0m\n\u001b[0;32m---> 56\u001b[0;31m             \u001b[0;32mreturn\u001b[0m \u001b[0mlocal_jit\u001b[0m\u001b[0;34m(\u001b[0m\u001b[0;34m*\u001b[0m\u001b[0margs\u001b[0m\u001b[0;34m,\u001b[0m \u001b[0;34m**\u001b[0m\u001b[0mkwargs\u001b[0m\u001b[0;34m)\u001b[0m\u001b[0;34m\u001b[0m\u001b[0;34m\u001b[0m\u001b[0m\n\u001b[0m\u001b[1;32m     57\u001b[0m \u001b[0;34m\u001b[0m\u001b[0m\n\u001b[1;32m     58\u001b[0m         \u001b[0;31m# Default status (0 == ok, 1 == fail)\u001b[0m\u001b[0;34m\u001b[0m\u001b[0;34m\u001b[0m\u001b[0;34m\u001b[0m\u001b[0m\n",
            "\u001b[0;32m/usr/local/lib/python3.7/dist-packages/dolfinx/jit.py\u001b[0m in \u001b[0;36mffcx_jit\u001b[0;34m(ufl_object, form_compiler_options, jit_options)\u001b[0m\n\u001b[1;32m    202\u001b[0m     \u001b[0;31m# Switch on type and compile, returning cffi object\u001b[0m\u001b[0;34m\u001b[0m\u001b[0;34m\u001b[0m\u001b[0;34m\u001b[0m\u001b[0m\n\u001b[1;32m    203\u001b[0m     \u001b[0;32mif\u001b[0m \u001b[0misinstance\u001b[0m\u001b[0;34m(\u001b[0m\u001b[0mufl_object\u001b[0m\u001b[0;34m,\u001b[0m \u001b[0mufl\u001b[0m\u001b[0;34m.\u001b[0m\u001b[0mForm\u001b[0m\u001b[0;34m)\u001b[0m\u001b[0;34m:\u001b[0m\u001b[0;34m\u001b[0m\u001b[0;34m\u001b[0m\u001b[0m\n\u001b[0;32m--> 204\u001b[0;31m         \u001b[0mr\u001b[0m \u001b[0;34m=\u001b[0m \u001b[0mffcx\u001b[0m\u001b[0;34m.\u001b[0m\u001b[0mcodegeneration\u001b[0m\u001b[0;34m.\u001b[0m\u001b[0mjit\u001b[0m\u001b[0;34m.\u001b[0m\u001b[0mcompile_forms\u001b[0m\u001b[0;34m(\u001b[0m\u001b[0;34m[\u001b[0m\u001b[0mufl_object\u001b[0m\u001b[0;34m]\u001b[0m\u001b[0;34m,\u001b[0m \u001b[0moptions\u001b[0m\u001b[0;34m=\u001b[0m\u001b[0mp_ffcx\u001b[0m\u001b[0;34m,\u001b[0m \u001b[0;34m**\u001b[0m\u001b[0mp_jit\u001b[0m\u001b[0;34m)\u001b[0m\u001b[0;34m\u001b[0m\u001b[0;34m\u001b[0m\u001b[0m\n\u001b[0m\u001b[1;32m    205\u001b[0m     \u001b[0;32melif\u001b[0m \u001b[0misinstance\u001b[0m\u001b[0;34m(\u001b[0m\u001b[0mufl_object\u001b[0m\u001b[0;34m,\u001b[0m \u001b[0mufl\u001b[0m\u001b[0;34m.\u001b[0m\u001b[0mFiniteElementBase\u001b[0m\u001b[0;34m)\u001b[0m\u001b[0;34m:\u001b[0m\u001b[0;34m\u001b[0m\u001b[0;34m\u001b[0m\u001b[0m\n\u001b[1;32m    206\u001b[0m         \u001b[0mr\u001b[0m \u001b[0;34m=\u001b[0m \u001b[0mffcx\u001b[0m\u001b[0;34m.\u001b[0m\u001b[0mcodegeneration\u001b[0m\u001b[0;34m.\u001b[0m\u001b[0mjit\u001b[0m\u001b[0;34m.\u001b[0m\u001b[0mcompile_elements\u001b[0m\u001b[0;34m(\u001b[0m\u001b[0;34m[\u001b[0m\u001b[0mufl_object\u001b[0m\u001b[0;34m]\u001b[0m\u001b[0;34m,\u001b[0m \u001b[0moptions\u001b[0m\u001b[0;34m=\u001b[0m\u001b[0mp_ffcx\u001b[0m\u001b[0;34m,\u001b[0m \u001b[0;34m**\u001b[0m\u001b[0mp_jit\u001b[0m\u001b[0;34m)\u001b[0m\u001b[0;34m\u001b[0m\u001b[0;34m\u001b[0m\u001b[0m\n",
            "\u001b[0;32m/usr/local/lib/python3.7/dist-packages/ffcx/codegeneration/jit.py\u001b[0m in \u001b[0;36mcompile_forms\u001b[0;34m(forms, options, cache_dir, timeout, cffi_extra_compile_args, cffi_verbose, cffi_debug, cffi_libraries)\u001b[0m\n\u001b[1;32m    185\u001b[0m \u001b[0;34m\u001b[0m\u001b[0m\n\u001b[1;32m    186\u001b[0m         impl = _compile_objects(decl, forms, form_names, module_name, p, cache_dir,\n\u001b[0;32m--> 187\u001b[0;31m                                 cffi_extra_compile_args, cffi_verbose, cffi_debug, cffi_libraries)\n\u001b[0m\u001b[1;32m    188\u001b[0m     \u001b[0;32mexcept\u001b[0m \u001b[0mException\u001b[0m\u001b[0;34m:\u001b[0m\u001b[0;34m\u001b[0m\u001b[0;34m\u001b[0m\u001b[0m\n\u001b[1;32m    189\u001b[0m         \u001b[0;31m# remove c file so that it will not timeout next time\u001b[0m\u001b[0;34m\u001b[0m\u001b[0;34m\u001b[0m\u001b[0;34m\u001b[0m\u001b[0m\n",
            "\u001b[0;32m/usr/local/lib/python3.7/dist-packages/ffcx/codegeneration/jit.py\u001b[0m in \u001b[0;36m_compile_objects\u001b[0;34m(decl, ufl_objects, object_names, module_name, options, cache_dir, cffi_extra_compile_args, cffi_verbose, cffi_debug, cffi_libraries)\u001b[0m\n\u001b[1;32m    248\u001b[0m     \u001b[0;31m# JIT uses module_name as prefix, which is needed to make names of all struct/function\u001b[0m\u001b[0;34m\u001b[0m\u001b[0;34m\u001b[0m\u001b[0;34m\u001b[0m\u001b[0m\n\u001b[1;32m    249\u001b[0m     \u001b[0;31m# unique across modules\u001b[0m\u001b[0;34m\u001b[0m\u001b[0;34m\u001b[0m\u001b[0;34m\u001b[0m\u001b[0m\n\u001b[0;32m--> 250\u001b[0;31m     \u001b[0m_\u001b[0m\u001b[0;34m,\u001b[0m \u001b[0mcode_body\u001b[0m \u001b[0;34m=\u001b[0m \u001b[0mffcx\u001b[0m\u001b[0;34m.\u001b[0m\u001b[0mcompiler\u001b[0m\u001b[0;34m.\u001b[0m\u001b[0mcompile_ufl_objects\u001b[0m\u001b[0;34m(\u001b[0m\u001b[0mufl_objects\u001b[0m\u001b[0;34m,\u001b[0m \u001b[0mprefix\u001b[0m\u001b[0;34m=\u001b[0m\u001b[0mmodule_name\u001b[0m\u001b[0;34m,\u001b[0m \u001b[0moptions\u001b[0m\u001b[0;34m=\u001b[0m\u001b[0moptions\u001b[0m\u001b[0;34m)\u001b[0m\u001b[0;34m\u001b[0m\u001b[0;34m\u001b[0m\u001b[0m\n\u001b[0m\u001b[1;32m    251\u001b[0m \u001b[0;34m\u001b[0m\u001b[0m\n\u001b[1;32m    252\u001b[0m     \u001b[0mffibuilder\u001b[0m \u001b[0;34m=\u001b[0m \u001b[0mcffi\u001b[0m\u001b[0;34m.\u001b[0m\u001b[0mFFI\u001b[0m\u001b[0;34m(\u001b[0m\u001b[0;34m)\u001b[0m\u001b[0;34m\u001b[0m\u001b[0;34m\u001b[0m\u001b[0m\n",
            "\u001b[0;32m/usr/local/lib/python3.7/dist-packages/ffcx/compiler.py\u001b[0m in \u001b[0;36mcompile_ufl_objects\u001b[0;34m(ufl_objects, object_names, prefix, options, visualise)\u001b[0m\n\u001b[1;32m     95\u001b[0m     \u001b[0;31m# Stage 1: analysis\u001b[0m\u001b[0;34m\u001b[0m\u001b[0;34m\u001b[0m\u001b[0;34m\u001b[0m\u001b[0m\n\u001b[1;32m     96\u001b[0m     \u001b[0mcpu_time\u001b[0m \u001b[0;34m=\u001b[0m \u001b[0mtime\u001b[0m\u001b[0;34m(\u001b[0m\u001b[0;34m)\u001b[0m\u001b[0;34m\u001b[0m\u001b[0;34m\u001b[0m\u001b[0m\n\u001b[0;32m---> 97\u001b[0;31m     \u001b[0manalysis\u001b[0m \u001b[0;34m=\u001b[0m \u001b[0manalyze_ufl_objects\u001b[0m\u001b[0;34m(\u001b[0m\u001b[0mufl_objects\u001b[0m\u001b[0;34m,\u001b[0m \u001b[0moptions\u001b[0m\u001b[0;34m)\u001b[0m\u001b[0;34m\u001b[0m\u001b[0;34m\u001b[0m\u001b[0m\n\u001b[0m\u001b[1;32m     98\u001b[0m     \u001b[0m_print_timing\u001b[0m\u001b[0;34m(\u001b[0m\u001b[0;36m1\u001b[0m\u001b[0;34m,\u001b[0m \u001b[0mtime\u001b[0m\u001b[0;34m(\u001b[0m\u001b[0;34m)\u001b[0m \u001b[0;34m-\u001b[0m \u001b[0mcpu_time\u001b[0m\u001b[0;34m)\u001b[0m\u001b[0;34m\u001b[0m\u001b[0;34m\u001b[0m\u001b[0m\n\u001b[1;32m     99\u001b[0m \u001b[0;34m\u001b[0m\u001b[0m\n",
            "\u001b[0;32m/usr/local/lib/python3.7/dist-packages/ffcx/analysis.py\u001b[0m in \u001b[0;36manalyze_ufl_objects\u001b[0;34m(ufl_objects, options)\u001b[0m\n\u001b[1;32m     83\u001b[0m             \u001b[0;32mraise\u001b[0m \u001b[0mTypeError\u001b[0m\u001b[0;34m(\u001b[0m\u001b[0;34m\"UFL objects not recognised.\"\u001b[0m\u001b[0;34m)\u001b[0m\u001b[0;34m\u001b[0m\u001b[0;34m\u001b[0m\u001b[0m\n\u001b[1;32m     84\u001b[0m \u001b[0;34m\u001b[0m\u001b[0m\n\u001b[0;32m---> 85\u001b[0;31m     \u001b[0mform_data\u001b[0m \u001b[0;34m=\u001b[0m \u001b[0mtuple\u001b[0m\u001b[0;34m(\u001b[0m\u001b[0m_analyze_form\u001b[0m\u001b[0;34m(\u001b[0m\u001b[0mform\u001b[0m\u001b[0;34m,\u001b[0m \u001b[0moptions\u001b[0m\u001b[0;34m)\u001b[0m \u001b[0;32mfor\u001b[0m \u001b[0mform\u001b[0m \u001b[0;32min\u001b[0m \u001b[0mforms\u001b[0m\u001b[0;34m)\u001b[0m\u001b[0;34m\u001b[0m\u001b[0;34m\u001b[0m\u001b[0m\n\u001b[0m\u001b[1;32m     86\u001b[0m     \u001b[0;32mfor\u001b[0m \u001b[0mdata\u001b[0m \u001b[0;32min\u001b[0m \u001b[0mform_data\u001b[0m\u001b[0;34m:\u001b[0m\u001b[0;34m\u001b[0m\u001b[0;34m\u001b[0m\u001b[0m\n\u001b[1;32m     87\u001b[0m         \u001b[0melements\u001b[0m \u001b[0;34m+=\u001b[0m \u001b[0;34m[\u001b[0m\u001b[0mconvert_element\u001b[0m\u001b[0;34m(\u001b[0m\u001b[0me\u001b[0m\u001b[0;34m)\u001b[0m \u001b[0;32mfor\u001b[0m \u001b[0me\u001b[0m \u001b[0;32min\u001b[0m \u001b[0mdata\u001b[0m\u001b[0;34m.\u001b[0m\u001b[0munique_sub_elements\u001b[0m\u001b[0;34m]\u001b[0m\u001b[0;34m\u001b[0m\u001b[0;34m\u001b[0m\u001b[0m\n",
            "\u001b[0;32m/usr/local/lib/python3.7/dist-packages/ffcx/analysis.py\u001b[0m in \u001b[0;36m<genexpr>\u001b[0;34m(.0)\u001b[0m\n\u001b[1;32m     83\u001b[0m             \u001b[0;32mraise\u001b[0m \u001b[0mTypeError\u001b[0m\u001b[0;34m(\u001b[0m\u001b[0;34m\"UFL objects not recognised.\"\u001b[0m\u001b[0;34m)\u001b[0m\u001b[0;34m\u001b[0m\u001b[0;34m\u001b[0m\u001b[0m\n\u001b[1;32m     84\u001b[0m \u001b[0;34m\u001b[0m\u001b[0m\n\u001b[0;32m---> 85\u001b[0;31m     \u001b[0mform_data\u001b[0m \u001b[0;34m=\u001b[0m \u001b[0mtuple\u001b[0m\u001b[0;34m(\u001b[0m\u001b[0m_analyze_form\u001b[0m\u001b[0;34m(\u001b[0m\u001b[0mform\u001b[0m\u001b[0;34m,\u001b[0m \u001b[0moptions\u001b[0m\u001b[0;34m)\u001b[0m \u001b[0;32mfor\u001b[0m \u001b[0mform\u001b[0m \u001b[0;32min\u001b[0m \u001b[0mforms\u001b[0m\u001b[0;34m)\u001b[0m\u001b[0;34m\u001b[0m\u001b[0;34m\u001b[0m\u001b[0m\n\u001b[0m\u001b[1;32m     86\u001b[0m     \u001b[0;32mfor\u001b[0m \u001b[0mdata\u001b[0m \u001b[0;32min\u001b[0m \u001b[0mform_data\u001b[0m\u001b[0;34m:\u001b[0m\u001b[0;34m\u001b[0m\u001b[0;34m\u001b[0m\u001b[0m\n\u001b[1;32m     87\u001b[0m         \u001b[0melements\u001b[0m \u001b[0;34m+=\u001b[0m \u001b[0;34m[\u001b[0m\u001b[0mconvert_element\u001b[0m\u001b[0;34m(\u001b[0m\u001b[0me\u001b[0m\u001b[0;34m)\u001b[0m \u001b[0;32mfor\u001b[0m \u001b[0me\u001b[0m \u001b[0;32min\u001b[0m \u001b[0mdata\u001b[0m\u001b[0;34m.\u001b[0m\u001b[0munique_sub_elements\u001b[0m\u001b[0;34m]\u001b[0m\u001b[0;34m\u001b[0m\u001b[0;34m\u001b[0m\u001b[0m\n",
            "\u001b[0;32m/usr/local/lib/python3.7/dist-packages/ffcx/analysis.py\u001b[0m in \u001b[0;36m_analyze_form\u001b[0;34m(form, options)\u001b[0m\n\u001b[1;32m    173\u001b[0m         \u001b[0mdo_apply_restrictions\u001b[0m\u001b[0;34m=\u001b[0m\u001b[0;32mTrue\u001b[0m\u001b[0;34m,\u001b[0m\u001b[0;34m\u001b[0m\u001b[0;34m\u001b[0m\u001b[0m\n\u001b[1;32m    174\u001b[0m         \u001b[0mdo_append_everywhere_integrals\u001b[0m\u001b[0;34m=\u001b[0m\u001b[0;32mFalse\u001b[0m\u001b[0;34m,\u001b[0m  \u001b[0;31m# do not add dx integrals to dx(i) in UFL\u001b[0m\u001b[0;34m\u001b[0m\u001b[0;34m\u001b[0m\u001b[0m\n\u001b[0;32m--> 175\u001b[0;31m         complex_mode=complex_mode)\n\u001b[0m\u001b[1;32m    176\u001b[0m \u001b[0;34m\u001b[0m\u001b[0m\n\u001b[1;32m    177\u001b[0m     \u001b[0;31m# If form contains a quadrature element, use the custom quadrature scheme\u001b[0m\u001b[0;34m\u001b[0m\u001b[0;34m\u001b[0m\u001b[0;34m\u001b[0m\u001b[0m\n",
            "\u001b[0;32m/usr/local/lib/python3.7/dist-packages/ufl/algorithms/compute_form_data.py\u001b[0m in \u001b[0;36mcompute_form_data\u001b[0;34m(form, do_apply_function_pullbacks, do_apply_integral_scaling, do_apply_geometry_lowering, preserve_geometry_types, do_apply_default_restrictions, do_apply_restrictions, do_estimate_degrees, do_append_everywhere_integrals, complex_mode)\u001b[0m\n\u001b[1;32m    405\u001b[0m     \u001b[0mpreprocessed_form\u001b[0m \u001b[0;34m=\u001b[0m \u001b[0mreconstruct_form_from_integral_data\u001b[0m\u001b[0;34m(\u001b[0m\u001b[0mself\u001b[0m\u001b[0;34m.\u001b[0m\u001b[0mintegral_data\u001b[0m\u001b[0;34m)\u001b[0m\u001b[0;34m\u001b[0m\u001b[0;34m\u001b[0m\u001b[0m\n\u001b[1;32m    406\u001b[0m \u001b[0;34m\u001b[0m\u001b[0m\n\u001b[0;32m--> 407\u001b[0;31m     \u001b[0mcheck_form_arity\u001b[0m\u001b[0;34m(\u001b[0m\u001b[0mpreprocessed_form\u001b[0m\u001b[0;34m,\u001b[0m \u001b[0mself\u001b[0m\u001b[0;34m.\u001b[0m\u001b[0moriginal_form\u001b[0m\u001b[0;34m.\u001b[0m\u001b[0marguments\u001b[0m\u001b[0;34m(\u001b[0m\u001b[0;34m)\u001b[0m\u001b[0;34m,\u001b[0m \u001b[0mcomplex_mode\u001b[0m\u001b[0;34m)\u001b[0m  \u001b[0;31m# Currently testing how fast this is\u001b[0m\u001b[0;34m\u001b[0m\u001b[0;34m\u001b[0m\u001b[0m\n\u001b[0m\u001b[1;32m    408\u001b[0m \u001b[0;34m\u001b[0m\u001b[0m\n\u001b[1;32m    409\u001b[0m     \u001b[0;31m# TODO: This member is used by unit tests, change the tests to\u001b[0m\u001b[0;34m\u001b[0m\u001b[0;34m\u001b[0m\u001b[0;34m\u001b[0m\u001b[0m\n",
            "\u001b[0;32m/usr/local/lib/python3.7/dist-packages/ufl/algorithms/check_arities.py\u001b[0m in \u001b[0;36mcheck_form_arity\u001b[0;34m(form, arguments, complex_mode)\u001b[0m\n\u001b[1;32m    175\u001b[0m \u001b[0;32mdef\u001b[0m \u001b[0mcheck_form_arity\u001b[0m\u001b[0;34m(\u001b[0m\u001b[0mform\u001b[0m\u001b[0;34m,\u001b[0m \u001b[0marguments\u001b[0m\u001b[0;34m,\u001b[0m \u001b[0mcomplex_mode\u001b[0m\u001b[0;34m=\u001b[0m\u001b[0;32mFalse\u001b[0m\u001b[0;34m)\u001b[0m\u001b[0;34m:\u001b[0m\u001b[0;34m\u001b[0m\u001b[0;34m\u001b[0m\u001b[0m\n\u001b[1;32m    176\u001b[0m     \u001b[0;32mfor\u001b[0m \u001b[0mitg\u001b[0m \u001b[0;32min\u001b[0m \u001b[0mform\u001b[0m\u001b[0;34m.\u001b[0m\u001b[0mintegrals\u001b[0m\u001b[0;34m(\u001b[0m\u001b[0;34m)\u001b[0m\u001b[0;34m:\u001b[0m\u001b[0;34m\u001b[0m\u001b[0;34m\u001b[0m\u001b[0m\n\u001b[0;32m--> 177\u001b[0;31m         \u001b[0mcheck_integrand_arity\u001b[0m\u001b[0;34m(\u001b[0m\u001b[0mitg\u001b[0m\u001b[0;34m.\u001b[0m\u001b[0mintegrand\u001b[0m\u001b[0;34m(\u001b[0m\u001b[0;34m)\u001b[0m\u001b[0;34m,\u001b[0m \u001b[0marguments\u001b[0m\u001b[0;34m,\u001b[0m \u001b[0mcomplex_mode\u001b[0m\u001b[0;34m)\u001b[0m\u001b[0;34m\u001b[0m\u001b[0;34m\u001b[0m\u001b[0m\n\u001b[0m",
            "\u001b[0;32m/usr/local/lib/python3.7/dist-packages/ufl/algorithms/check_arities.py\u001b[0m in \u001b[0;36mcheck_integrand_arity\u001b[0;34m(expr, arguments, complex_mode)\u001b[0m\n\u001b[1;32m    168\u001b[0m         \u001b[0;32mfor\u001b[0m \u001b[0marg\u001b[0m\u001b[0;34m,\u001b[0m \u001b[0mconj\u001b[0m \u001b[0;32min\u001b[0m \u001b[0marg_tuples\u001b[0m\u001b[0;34m:\u001b[0m\u001b[0;34m\u001b[0m\u001b[0;34m\u001b[0m\u001b[0m\n\u001b[1;32m    169\u001b[0m             \u001b[0;32mif\u001b[0m \u001b[0marg\u001b[0m\u001b[0;34m.\u001b[0m\u001b[0mnumber\u001b[0m\u001b[0;34m(\u001b[0m\u001b[0;34m)\u001b[0m \u001b[0;34m==\u001b[0m \u001b[0;36m0\u001b[0m \u001b[0;32mand\u001b[0m \u001b[0;32mnot\u001b[0m \u001b[0mconj\u001b[0m\u001b[0;34m:\u001b[0m\u001b[0;34m\u001b[0m\u001b[0;34m\u001b[0m\u001b[0m\n\u001b[0;32m--> 170\u001b[0;31m                 \u001b[0;32mraise\u001b[0m \u001b[0mArityMismatch\u001b[0m\u001b[0;34m(\u001b[0m\u001b[0;34m\"Failure to conjugate test function in complex Form\"\u001b[0m\u001b[0;34m)\u001b[0m\u001b[0;34m\u001b[0m\u001b[0;34m\u001b[0m\u001b[0m\n\u001b[0m\u001b[1;32m    171\u001b[0m             \u001b[0;32melif\u001b[0m \u001b[0marg\u001b[0m\u001b[0;34m.\u001b[0m\u001b[0mnumber\u001b[0m\u001b[0;34m(\u001b[0m\u001b[0;34m)\u001b[0m \u001b[0;34m>\u001b[0m \u001b[0;36m0\u001b[0m \u001b[0;32mand\u001b[0m \u001b[0mconj\u001b[0m\u001b[0;34m:\u001b[0m\u001b[0;34m\u001b[0m\u001b[0;34m\u001b[0m\u001b[0m\n\u001b[1;32m    172\u001b[0m                 \u001b[0;32mraise\u001b[0m \u001b[0mArityMismatch\u001b[0m\u001b[0;34m(\u001b[0m\u001b[0;34m\"Argument {0} is spuriously conjugated in complex Form\"\u001b[0m\u001b[0;34m.\u001b[0m\u001b[0mformat\u001b[0m\u001b[0;34m(\u001b[0m\u001b[0marg\u001b[0m\u001b[0;34m)\u001b[0m\u001b[0;34m)\u001b[0m\u001b[0;34m\u001b[0m\u001b[0;34m\u001b[0m\u001b[0m\n",
            "\u001b[0;31mArityMismatch\u001b[0m: Failure to conjugate test function in complex Form"
          ]
        }
      ]
    },
    {
      "cell_type": "markdown",
      "source": [
        "As we saw when exploring scalar fields, there are many ways to visualize the result.  Let's plot along a line."
      ],
      "metadata": {
        "id": "CN9_UD54GtnL"
      },
      "id": "CN9_UD54GtnL"
    },
    {
      "cell_type": "code",
      "source": [
        "from dolfinx.plot import create_vtk_mesh\n",
        "import pyvista\n",
        "pyvista.global_theme.show_edges = True\n",
        "pyvista.set_jupyter_backend(\"pythreejs\")\n",
        "\n",
        "# Extract topology from mesh and create pyvista mesh\n",
        "topology, cell_types, x = create_vtk_mesh(V)\n",
        "grid = pyvista.UnstructuredGrid(topology, cell_types, x)\n",
        "\n",
        "# Set deflection values and add it to plotter\n",
        "grid.point_data[\"u\"] = uh.x.array\n",
        "warped = grid.warp_by_scalar(\"u\", factor=25)\n",
        "\n",
        "plotter = pyvista.PlotterITK()\n",
        "plotter.add_mesh(warped, scalars=\"u\")\n",
        "plotter.show()"
      ],
      "metadata": {
        "id": "chdNU_juG0Rn"
      },
      "id": "chdNU_juG0Rn",
      "execution_count": null,
      "outputs": []
    },
    {
      "cell_type": "markdown",
      "source": [
        "We can also plot the charge density.  First, we have to interpolate the symbolic expression onto our grid."
      ],
      "metadata": {
        "id": "PH-l6DjeIfub"
      },
      "id": "PH-l6DjeIfub"
    },
    {
      "cell_type": "code",
      "source": [
        "# Interpolate the charge density for plotting.\n",
        "expr = fem.Expression(rho, V.element.interpolation_points())\n",
        "charge_density = fem.Function(V)\n",
        "charge_density.interpolate(expr)\n",
        "\n",
        "# Now, plot it.\n",
        "rho_grid = pyvista.UnstructuredGrid(*create_vtk_mesh(V))\n",
        "rho_grid.point_data[\"rho\"] = charge_density.x.array\n",
        "warped_rho = rho_grid.warp_by_scalar(\"rho\", factor=5)\n",
        "\n",
        "plotter = pyvista.PlotterITK()\n",
        "plotter.add_mesh(warped_rho, scalars=\"rho\")\n",
        "plotter.show()"
      ],
      "metadata": {
        "id": "Df229FNBEbNA"
      },
      "id": "Df229FNBEbNA",
      "execution_count": null,
      "outputs": []
    },
    {
      "cell_type": "markdown",
      "source": [
        "We can compare the charge distribution and the potential on the same axes.  This is a little complicated, because we have to determine the value of our grid functions at every point along a line."
      ],
      "metadata": {
        "id": "7VG1M3gZNF4B"
      },
      "id": "7VG1M3gZNF4B"
    },
    {
      "cell_type": "code",
      "source": [
        "# Avoid hitting the outside of the domain.\n",
        "buffer = 0.001\n",
        "num_points = 201\n",
        "\n",
        "r = np.linspace(-r0 + buffer, r0 - buffer, num_points)\n",
        "theta = np.arctan(yC/xC)\n",
        "\n",
        "x = r * np.cos(theta)\n",
        "y = r * np.sin(theta)\n",
        "\n",
        "points = np.zeros((3, num_points))\n",
        "points[0] = x\n",
        "points[1] = y\n",
        "v_values = []\n",
        "rho_values = []"
      ],
      "metadata": {
        "id": "YU0FBnAPI47w"
      },
      "id": "YU0FBnAPI47w",
      "execution_count": null,
      "outputs": []
    },
    {
      "cell_type": "code",
      "source": [
        "from dolfinx import geometry\n",
        "\n",
        "# This is an object that makes searching the mesh faster.\n",
        "bb_tree = geometry.BoundingBoxTree(domain, domain.topology.dim)"
      ],
      "metadata": {
        "id": "R_sV1aI4OkMo"
      },
      "id": "R_sV1aI4OkMo",
      "execution_count": null,
      "outputs": []
    },
    {
      "cell_type": "code",
      "source": [
        "# Move through the cells and find the points we need.\n",
        "cells = []\n",
        "points_on_proc = []\n",
        "\n",
        "# Find cells whose bounding-box collide with the the points\n",
        "cell_candidates = geometry.compute_collisions(bb_tree, points.T)\n",
        "\n",
        "# Choose one of the cells that contains the point\n",
        "colliding_cells = geometry.compute_colliding_cells(domain, cell_candidates, points.T)\n",
        "for i, point in enumerate(points.T):\n",
        "    if len(colliding_cells.links(i))>0:\n",
        "        points_on_proc.append(point)\n",
        "        cells.append(colliding_cells.links(i)[0])"
      ],
      "metadata": {
        "id": "xRzXCqdTOtom"
      },
      "id": "xRzXCqdTOtom",
      "execution_count": null,
      "outputs": []
    },
    {
      "cell_type": "code",
      "source": [
        "# Evaluate the functions on the cells we found.\n",
        "points_on_proc = np.array(points_on_proc, dtype=np.float64)\n",
        "v_values = uh.eval(points_on_proc, cells)\n",
        "rho_values = charge_density.eval(points_on_proc, cells)\n",
        "\n",
        "# Scale the two arrays so they fit on the same axes.\n",
        "scale_factor = rho_values.max() / v_values.max()"
      ],
      "metadata": {
        "id": "MKnJnr2WO_GO"
      },
      "id": "MKnJnr2WO_GO",
      "execution_count": null,
      "outputs": []
    },
    {
      "cell_type": "code",
      "source": [
        "# Make the plot.\n",
        "import matplotlib.pyplot as plt\n",
        "fig = plt.figure(dpi=200)\n",
        "plt.plot(r, scale_factor*v_values, \"k\", linewidth=2, label=\"Potential ($\\\\times %.0f$)\" % scale_factor)\n",
        "plt.plot(r, rho_values, \"b--\", linewidth = 2, label=\"Charge Density\")\n",
        "plt.grid(True)\n",
        "plt.xlabel(\"r\")\n",
        "plt.legend()"
      ],
      "metadata": {
        "id": "63wU3FxMPHx2"
      },
      "id": "63wU3FxMPHx2",
      "execution_count": null,
      "outputs": []
    },
    {
      "cell_type": "code",
      "source": [
        "sphere.points?"
      ],
      "metadata": {
        "id": "b7Rn2OvadvNd"
      },
      "id": "b7Rn2OvadvNd",
      "execution_count": null,
      "outputs": []
    }
  ],
  "metadata": {
    "kernelspec": {
      "display_name": "Python 3 (ipykernel)",
      "language": "python",
      "name": "python3"
    },
    "language_info": {
      "codemirror_mode": {
        "name": "ipython"
      },
      "file_extension": ".py",
      "mimetype": "text/x-python",
      "name": "python",
      "nbconvert_exporter": "python"
    },
    "colab": {
      "provenance": [],
      "include_colab_link": true
    }
  },
  "nbformat": 4,
  "nbformat_minor": 5
}