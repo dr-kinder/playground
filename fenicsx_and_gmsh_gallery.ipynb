{
  "nbformat": 4,
  "nbformat_minor": 0,
  "metadata": {
    "colab": {
      "provenance": [],
      "collapsed_sections": [
        "SawokRUbpBHY",
        "OMBP9XmwJnzd"
      ],
      "authorship_tag": "ABX9TyMZ365oN3D11ky03Z4GFSv7",
      "include_colab_link": true
    },
    "kernelspec": {
      "name": "python3",
      "display_name": "Python 3"
    },
    "language_info": {
      "name": "python"
    }
  },
  "cells": [
    {
      "cell_type": "markdown",
      "metadata": {
        "id": "view-in-github",
        "colab_type": "text"
      },
      "source": [
        "<a href=\"https://colab.research.google.com/github/dr-kinder/playground/blob/dev/fenicsx_and_gmsh_gallery.ipynb\" target=\"_parent\"><img src=\"https://colab.research.google.com/assets/colab-badge.svg\" alt=\"Open In Colab\"/></a>"
      ]
    },
    {
      "cell_type": "markdown",
      "source": [
        "# A Gallery of FEniCSx Examples\n",
        "\n",
        "This document will, I hope, grow in time.  The goal is to provide some working examples of constructing models with gmsh + fenicsx and analyzing the results of a finite element calculation."
      ],
      "metadata": {
        "id": "H4E5Qy2FIfd2"
      }
    },
    {
      "cell_type": "markdown",
      "source": [
        "# Install and Import\n",
        "\n",
        "These three cells will install and import the packages required to run these examples — i.e., those that are not already part of CoLab's Python environment.\n",
        "\n",
        "You can run the cells multiple times.  The installation only happens once, so don't hesitate to reset the kernel or restart the runtime."
      ],
      "metadata": {
        "id": "SawokRUbpBHY"
      }
    },
    {
      "cell_type": "code",
      "source": [
        "try:\n",
        "    # Import gmsh library for generating meshes.\n",
        "    import gmsh\n",
        "except ImportError:\n",
        "    # If it is not available, install it.  Then import it.\n",
        "    !wget \"https://fem-on-colab.github.io/releases/gmsh-install.sh\" -O \"/tmp/gmsh-install.sh\" && bash \"/tmp/gmsh-install.sh\"\n",
        "    import gmsh"
      ],
      "metadata": {
        "id": "uufWNrihOoRo"
      },
      "execution_count": null,
      "outputs": []
    },
    {
      "cell_type": "code",
      "source": [
        "try:\n",
        "    # Import FEniCSx libraries for finite element analysis.\n",
        "    import dolfinx\n",
        "except ImportError:\n",
        "    # If they are not found, install them.  Then import them.\n",
        "    !wget \"https://fem-on-colab.github.io/releases/fenicsx-install-real.sh\" -O \"/tmp/fenicsx-install.sh\" && bash \"/tmp/fenicsx-install.sh\"\n",
        "    import dolfinx"
      ],
      "metadata": {
        "id": "2GtZiFEZOuYK"
      },
      "execution_count": null,
      "outputs": []
    },
    {
      "cell_type": "code",
      "source": [
        "try:\n",
        "    # Import multiphenicsx, mainly for plotting.\n",
        "    import multiphenicsx\n",
        "except ImportError:\n",
        "    # If they are not found, install them.\n",
        "    !pip3 install \"multiphenicsx@git+https://github.com/multiphenics/multiphenicsx.git@8b97b4e\"\n",
        "    import multiphenicsx"
      ],
      "metadata": {
        "id": "y0djhWawOxS3"
      },
      "execution_count": null,
      "outputs": []
    },
    {
      "cell_type": "code",
      "source": [
        "# Everything should be installed now.\n",
        "# Import the rest of what we need, with nicknames that are easier to type.\n",
        "\n",
        "import dolfinx.fem as df\n",
        "import dolfinx.mesh as dm\n",
        "from dolfinx.io import gmshio\n",
        "import mpi4py.MPI as mpi\n",
        "import petsc4py.PETSc as petsc\n",
        "import ufl\n",
        "\n",
        "import numpy as np\n",
        "import multiphenicsx.io as mpio"
      ],
      "metadata": {
        "id": "6yTXK7dvO0Hr"
      },
      "execution_count": null,
      "outputs": []
    },
    {
      "cell_type": "markdown",
      "source": [
        "# Dielectric Rod\n",
        "\n",
        "This section will create a 2D cross section of a dielectric cylinder inside a rectangular pipe.  The walls of the pipe can be held at separate potentials.\n",
        "\n",
        "When the box is large and the dielectric wire is small, the system starts to approximate a dielectric in a uniform background field.\n"
      ],
      "metadata": {
        "id": "OMBP9XmwJnzd"
      }
    },
    {
      "cell_type": "code",
      "source": [
        "# -----------------------------------------------------------------------------\n",
        "# Define geometry.\n",
        "# ----------------------------------------------------------------------------- \n",
        "# Define the dimension of the model.\n",
        "dim = 2\n",
        "\n",
        "# Define material properties.\n",
        "epsilon0 = 1\n",
        "epsilon1 = 300\n",
        "\n",
        "# Define the center of the universe.\n",
        "x0 = 0\n",
        "y0 = 0\n",
        "z0 = 0\n",
        "\n",
        "# Define the rectangle.\n",
        "L = 4\n",
        "W = 8\n",
        "\n",
        "# Define the circle.\n",
        "dX = 0.0\n",
        "dY = 0.0\n",
        "rX = 0.5\n",
        "rY = 0.5\n",
        "\n",
        "# Grid size parameter.  Make it smaller for higher resolution.\n",
        "delta = 0.125"
      ],
      "metadata": {
        "id": "lMFpFs1qJ7v3"
      },
      "execution_count": null,
      "outputs": []
    },
    {
      "cell_type": "code",
      "source": [
        "# -----------------------------------------------------------------------------\n",
        "# Create the model.\n",
        "# ----------------------------------------------------------------------------- \n",
        "gmsh.initialize()\n",
        "gmsh.model.add(\"mesh\")\n",
        "\n",
        "model = gmsh.model\n",
        "geo = gmsh.model.geo\n",
        "\n",
        "## Define rectangle.\n",
        "# Corners\n",
        "p0 = geo.addPoint(x0-L/2, y0-W/2, z0, delta)\n",
        "p1 = geo.addPoint(x0+L/2, y0-W/2, z0, delta)\n",
        "p2 = geo.addPoint(x0+L/2, y0+W/2, z0, delta)\n",
        "p3 = geo.addPoint(x0-L/2, y0+W/2, z0, delta)\n",
        "\n",
        "# Edges\n",
        "l0 = geo.addLine(p0, p1)\n",
        "l1 = geo.addLine(p1, p2)\n",
        "l2 = geo.addLine(p2, p3)\n",
        "l3 = geo.addLine(p3, p0)\n",
        "perimeter = geo.addCurveLoop([l0, l1, l2, l3])\n",
        "\n",
        "## Define disk.\n",
        "# Define points: center of circle and two points on opposite sides.\n",
        "c0 = geo.addPoint(x0+dX, y0+dY, z0, delta)\n",
        "c1 = geo.addPoint(x0+dX, y0+dY-rY, z0, delta)\n",
        "c2 = geo.addPoint(x0+dX, y0+dY+rY, z0, delta)\n",
        "\n",
        "# Define two semicircular arcs that will be joined into a circle.\n",
        "s0 = geo.addCircleArc(c1, c0, c2)\n",
        "s1 = geo.addCircleArc(c2, c0, c1)\n",
        "circumference = geo.addCurveLoop([s0, s1])\n",
        "\n",
        "## Define objects.\n",
        "# The \"background\" is a rectangle with a hole.\n",
        "rectangle = geo.addPlaneSurface([perimeter, circumference])\n",
        "\n",
        "# The object fills the hole.\n",
        "circle = geo.addPlaneSurface([circumference])\n",
        "\n",
        "# Update the model with all of the features we added.\n",
        "geo.synchronize()\n",
        "\n",
        "# Identify the physical objects: boundaries and surfaces.\n",
        "# Add the edges separately, so boundary conditions can be set individually.\n",
        "model.addPhysicalGroup(1, [l0], 1)\n",
        "model.addPhysicalGroup(1, [l1], 2)\n",
        "model.addPhysicalGroup(1, [l2], 3)\n",
        "model.addPhysicalGroup(1, [l3], 4)\n",
        "model.addPhysicalGroup(2, [rectangle], 1)\n",
        "\n",
        "# Add the circle and its boundaries.\n",
        "model.addPhysicalGroup(1, [c0,c1], 5)\n",
        "model.addPhysicalGroup(2, [circle], 5)\n",
        "\n",
        "# Create a mesh for this system.\n",
        "model.mesh.generate(dim)\n",
        "\n",
        "# Bring the mesh into FEniCSx.\n",
        "mesh, subdomains, boundaries = gmshio.model_to_mesh(\n",
        "    model, comm=mpi.COMM_WORLD, rank=0, gdim=2)\n",
        "\n",
        "# Close the mesh generating program.\n",
        "gmsh.finalize()"
      ],
      "metadata": {
        "id": "crsc2NoPK0j1"
      },
      "execution_count": null,
      "outputs": []
    },
    {
      "cell_type": "code",
      "source": [
        "# Plot the entire mesh.\n",
        "mpio.plot_mesh(mesh)"
      ],
      "metadata": {
        "id": "g6r-Wo5DLhAH"
      },
      "execution_count": null,
      "outputs": []
    },
    {
      "cell_type": "code",
      "source": [
        "# Plot the subdomains that FEniCSx has identified.\n",
        "mpio.plot_mesh_tags(subdomains)"
      ],
      "metadata": {
        "id": "7_dsSFo0LkGV"
      },
      "execution_count": null,
      "outputs": []
    },
    {
      "cell_type": "code",
      "source": [
        "# -----------------------------------------------------------------------------\n",
        "# Boundary Conditions\n",
        "# ----------------------------------------------------------------------------- \n",
        "\n",
        "# Set the potential on each wall.\n",
        "# The two ends will be fixed.  The two sides will be open.\n",
        "V1 = 2.0\n",
        "V2 = 0.0\n",
        "V3 = 0.0\n",
        "V4 = 0.0\n",
        "\n",
        "# Define the type of boundary on each wall.\n",
        "# Set to \"True\" or \"1\" for essential (fixed potential).\n",
        "# Set to \"False\" or \"0\" for natural (zero normal derivative).\n",
        "essential_1 = True\n",
        "essential_2 = False\n",
        "essential_3 = True\n",
        "essential_4 = False"
      ],
      "metadata": {
        "id": "nFPoeCuvLn4b"
      },
      "execution_count": null,
      "outputs": []
    },
    {
      "cell_type": "code",
      "source": [
        "# -----------------------------------------------------------------------------\n",
        "# Material Properties\n",
        "# ----------------------------------------------------------------------------- \n",
        "# Define a simple function space for properties.\n",
        "Q = df.FunctionSpace(mesh, (\"DG\", 0))\n",
        "\n",
        "# Get the catalog of materials.\n",
        "material_tags = np.unique(subdomains.values)\n",
        "\n",
        "# Define function for permittivity.\n",
        "epsilon = df.Function(Q)\n",
        "\n",
        "# Now, cycle over all objects and assign material properties. \n",
        "for tag in material_tags:\n",
        "    cells = subdomains.find(tag)\n",
        "    \n",
        "    # Set values for magnetic permeability.\n",
        "    if tag == 1:\n",
        "        # Vacuum\n",
        "        eps_ = epsilon0\n",
        "    elif tag == 5:\n",
        "        # Dielectric\n",
        "        eps_ = epsilon1\n",
        "    else:\n",
        "        # Anything else\n",
        "        eps_ = epsilon0\n",
        "\n",
        "    epsilon.x.array[cells] = np.full_like(cells, eps_, dtype=petsc.ScalarType)"
      ],
      "metadata": {
        "id": "28YCgYFSLpEh"
      },
      "execution_count": null,
      "outputs": []
    },
    {
      "cell_type": "code",
      "source": [
        "# -----------------------------------------------------------------------------\n",
        "# Finite Element Analysis\n",
        "# ----------------------------------------------------------------------------- \n",
        "\n",
        "# Define trial and test functions.\n",
        "V = df.FunctionSpace(mesh, (\"Lagrange\", 2))\n",
        "\n",
        "# Define the trial and test functions.\n",
        "u = ufl.TrialFunction(V)\n",
        "v = ufl.TestFunction(V)\n",
        "\n",
        "# Create a function to store the solution.\n",
        "phi = df.Function(V)\n",
        "\n",
        "# Identify the domain (all the points inside the boundary).\n",
        "Omega = subdomains.indices[subdomains.values == 1]\n",
        "\n",
        "# Identify the boundary for FEniCSx.\n",
        "wall_1 = boundaries.indices[boundaries.values == 1]\n",
        "wall_2 = boundaries.indices[boundaries.values == 2]\n",
        "wall_3 = boundaries.indices[boundaries.values == 3]\n",
        "wall_4 = boundaries.indices[boundaries.values == 4]\n",
        "dOmega_1 = df.locate_dofs_topological(V, boundaries.dim, wall_1)\n",
        "dOmega_2 = df.locate_dofs_topological(V, boundaries.dim, wall_2)\n",
        "dOmega_3 = df.locate_dofs_topological(V, boundaries.dim, wall_3)\n",
        "dOmega_4 = df.locate_dofs_topological(V, boundaries.dim, wall_4)\n",
        "\n",
        "# Now introduce the boundary conditions.\n",
        "# Store the essential boundary conditions in a list.\n",
        "essential_bc = []\n",
        "if essential_1:\n",
        "    Phi0 = df.Constant(mesh, petsc.ScalarType(V1))\n",
        "    essential_bc += [df.dirichletbc(Phi0, dOmega_1, V)]\n",
        "if essential_2:\n",
        "    Phi0 = df.Constant(mesh, petsc.ScalarType(V2))\n",
        "    essential_bc += [df.dirichletbc(Phi0, dOmega_2, V)]\n",
        "if essential_3:\n",
        "    Phi0 = df.Constant(mesh, petsc.ScalarType(V3))\n",
        "    essential_bc += [df.dirichletbc(Phi0, dOmega_3, V)]\n",
        "if essential_4:\n",
        "    Phi0 = df.Constant(mesh, petsc.ScalarType(V4))\n",
        "    essential_bc += [df.dirichletbc(Phi0, dOmega_4, V)]\n",
        "\n",
        "# This is the FEM version of the Laplacian.\n",
        "# It is the left-hand side of Poisson's or Laplace's equation.\n",
        "a = epsilon * ufl.inner(ufl.grad(u), ufl.grad(v)) * ufl.dx\n",
        "\n",
        "# This the right-hand side of Poisson's equation.\n",
        "# We need to create a FEniCSx-friendly version of 0.\n",
        "Zero = df.Constant(mesh, petsc.ScalarType(0.0))\n",
        "L = Zero * v * ufl.dx\n",
        "\n",
        "# Put it all together for FEniCSx.\n",
        "problem = df.petsc.LinearProblem(a, L, essential_bc, u=phi)\n",
        "\n",
        "# Now, solve it!\n",
        "problem.solve()\n",
        "\n",
        "# Tie up some loose ends.\n",
        "phi.vector.ghostUpdate(addv=petsc.InsertMode.INSERT, mode=petsc.ScatterMode.FORWARD)\n",
        "\n",
        "# Define a set of elements for a vector field.\n",
        "W = df.VectorFunctionSpace(mesh, (\"Lagrange\", 2))\n",
        "E = df.Function(W)\n",
        "\n",
        "# Compute the gradient as a symbolic expression, then interpolate it onto the mesh.\n",
        "expr = df.Expression(ufl.as_vector((-phi.dx(0), -phi.dx(1))), W.element.interpolation_points())\n",
        "E.interpolate(expr)"
      ],
      "metadata": {
        "id": "VwIgtQx6LsSx"
      },
      "execution_count": null,
      "outputs": []
    },
    {
      "cell_type": "code",
      "source": [
        "# Plot the potential.\n",
        "mpio.plot_scalar_field(phi, \"Potential\", warp_factor=1)"
      ],
      "metadata": {
        "id": "Te1BNH36LxT8"
      },
      "execution_count": null,
      "outputs": []
    },
    {
      "cell_type": "code",
      "source": [
        "# Use multiphenics to plot the vector field.\n",
        "mpio.plot_vector_field(E,name=\"Electric Field\", glyph_factor=0.2)"
      ],
      "metadata": {
        "id": "p3nDhzkaL_NR"
      },
      "execution_count": null,
      "outputs": []
    },
    {
      "cell_type": "markdown",
      "source": [
        "# Dielectric Sphere\n",
        "\n",
        "This script will create a dielectric sphere inside of a rectangular box.\n",
        "\n",
        "When the box is large and the sphere is small, the system starts to approximate a dielectric in a uniform background field.\n"
      ],
      "metadata": {
        "id": "BHhVeL5tNIXf"
      }
    },
    {
      "cell_type": "code",
      "source": [
        "# -----------------------------------------------------------------------------\n",
        "# Define geometry.\n",
        "# ----------------------------------------------------------------------------- \n",
        "# Define the dimension of the model.\n",
        "dim = 3\n",
        "\n",
        "# Define material properties.\n",
        "epsilon1 = 1\n",
        "epsilon2 = 3\n",
        "\n",
        "# Define the center of the universe.\n",
        "x0 = 0\n",
        "y0 = 0\n",
        "z0 = 0\n",
        "\n",
        "# Define the box size.\n",
        "L = 4\n",
        "W = 4\n",
        "H = 8\n",
        "\n",
        "# Define the sphere: offset and radius.\n",
        "dX = 0.0\n",
        "dY = 0.0\n",
        "dZ = 0.0\n",
        "R = 1.0\n",
        "\n",
        "# Grid size parameter.  Make it smaller for higher resolution.\n",
        "delta = 0.25"
      ],
      "metadata": {
        "id": "XDEsDvUiNvmN"
      },
      "execution_count": null,
      "outputs": []
    },
    {
      "cell_type": "code",
      "source": [
        "# -----------------------------------------------------------------------------\n",
        "# Create the model.\n",
        "# ----------------------------------------------------------------------------- \n",
        "gmsh.initialize()\n",
        "gmsh.model.add(\"mesh\")\n",
        "\n",
        "model = gmsh.model\n",
        "occ = gmsh.model.occ\n",
        "\n",
        "## Add the sphere and the box to the model.\n",
        "sphere = occ.addSphere(x0+dX, y0+dY, z0+dZ, R)\n",
        "box = occ.addBox(x0-L/2, y0-W/2, z0-H/2, L, W, H)\n",
        "\n",
        "## Merge them together.\n",
        "universe = gmsh.model.occ.fragment([(3, box)], [(3,sphere)])\n",
        "\n",
        "# Update the model with all of the features we added.\n",
        "occ.synchronize()\n",
        "\n",
        "## Identify the box and sphere as distinct physical objects.\n",
        "for thing in universe[0]:\n",
        "    mass = occ.getMass(thing[0], thing[1])\n",
        "    if np.isclose(mass, 4/3*np.pi*R**3):\n",
        "        model.addPhysicalGroup(thing[0], [thing[1]], tag=2)\n",
        "    else:\n",
        "        model.addPhysicalGroup(thing[0], [thing[1]], tag=1)\n",
        "\n",
        "# Now add the surfaces to the model.\n",
        "# Label the front and back walls, so we can set the potential.\n",
        "surfaces = occ.getEntities(dim=2)\n",
        "others = []\n",
        "for s in surfaces:\n",
        "    center = occ.getCenterOfMass(s[0], s[1])\n",
        "    if np.allclose(center, [0, 0, -H/2]):\n",
        "        model.addPhysicalGroup(s[0], [s[1]], 1)\n",
        "    elif np.allclose(center, [0, 0, H/2]):\n",
        "        model.addPhysicalGroup(s[0], [s[1]], 2)\n",
        "    else:\n",
        "        others += [s[1]]\n",
        "# model.addPhysicalGroup(2, others, 3)\n",
        "\n",
        "# Set a uniform mesh size.\n",
        "gmsh.model.mesh.setSize(gmsh.model.getEntities(0), delta)\n",
        "\n",
        "# Create a mesh for this system.\n",
        "model.mesh.generate(dim)\n",
        "\n",
        "# Bring the mesh into FEniCSx.\n",
        "mesh, subdomains, boundaries = gmshio.model_to_mesh(\n",
        "    model, comm=mpi.COMM_WORLD, rank=0, gdim=dim)\n",
        "\n",
        "# Close the mesh generating program.\n",
        "gmsh.finalize()"
      ],
      "metadata": {
        "id": "3XYPtUWfN0Bm"
      },
      "execution_count": null,
      "outputs": []
    },
    {
      "cell_type": "code",
      "source": [
        "# -----------------------------------------------------------------------------\n",
        "# Boundary Conditions\n",
        "# ----------------------------------------------------------------------------- \n",
        "# Set the potential on the end walls.\n",
        "V1 = 2.0\n",
        "V2 = 0.0"
      ],
      "metadata": {
        "id": "GEVHpfpXN5TD"
      },
      "execution_count": null,
      "outputs": []
    },
    {
      "cell_type": "code",
      "source": [
        "# -----------------------------------------------------------------------------\n",
        "# Material Properties\n",
        "# ----------------------------------------------------------------------------- \n",
        "# Define a simple function space for properties.\n",
        "Q = df.FunctionSpace(mesh, (\"DG\", 0))\n",
        "\n",
        "# Get the catalog of materials.\n",
        "material_tags = np.unique(subdomains.values)\n",
        "\n",
        "# Define function for permittivity.\n",
        "epsilon = df.Function(Q)\n",
        "\n",
        "# Now, cycle over all objects and assign material properties. \n",
        "for tag in material_tags:\n",
        "    cells = subdomains.find(tag)\n",
        "    \n",
        "    # Set values for magnetic permeability.\n",
        "    if tag == 1:\n",
        "        # Vacuum\n",
        "        eps_ = epsilon1\n",
        "    elif tag == 2:\n",
        "        # Dielectric\n",
        "        eps_ = epsilon2\n",
        "    else:\n",
        "        # Anything else\n",
        "        eps_ = 1\n",
        "\n",
        "    epsilon.x.array[cells] = np.full_like(cells, eps_, dtype=petsc.ScalarType)"
      ],
      "metadata": {
        "id": "iaRIVIOPOMRW"
      },
      "execution_count": null,
      "outputs": []
    },
    {
      "cell_type": "code",
      "source": [
        "# -----------------------------------------------------------------------------\n",
        "# Finite Element Analysis\n",
        "# ----------------------------------------------------------------------------- \n",
        "\n",
        "# Define trial and test functions.\n",
        "V = df.FunctionSpace(mesh, (\"Lagrange\", 2))\n",
        "\n",
        "# Define the trial and test functions.\n",
        "u = ufl.TrialFunction(V)\n",
        "v = ufl.TestFunction(V)\n",
        "\n",
        "# Create a function to store the solution.\n",
        "phi = df.Function(V)\n",
        "\n",
        "# Identify the domain (all the points inside the boundary).\n",
        "Omega = subdomains.indices[subdomains.values == 1]\n",
        "\n",
        "# Identify the boundary for FEniCSx.\n",
        "wall_1 = boundaries.indices[boundaries.values == 1]\n",
        "wall_2 = boundaries.indices[boundaries.values == 2]\n",
        "dOmega_1 = df.locate_dofs_topological(V, boundaries.dim, wall_1)\n",
        "dOmega_2 = df.locate_dofs_topological(V, boundaries.dim, wall_2)\n",
        "\n",
        "# Now introduce the boundary conditions.\n",
        "# Store the essential boundary conditions in a list.\n",
        "essential_bc = []\n",
        "Phi0 = df.Constant(mesh, petsc.ScalarType(V1))\n",
        "essential_bc += [df.dirichletbc(Phi0, dOmega_1, V)]\n",
        "Phi0 = df.Constant(mesh, petsc.ScalarType(V2))\n",
        "essential_bc += [df.dirichletbc(Phi0, dOmega_2, V)]\n",
        "\n",
        "# This is the FEM version of the Laplacian.\n",
        "# It is the left-hand side of Poisson's or Laplace's equation.\n",
        "a = epsilon * ufl.inner(ufl.grad(u), ufl.grad(v)) * ufl.dx\n",
        "\n",
        "# This the right-hand side of Poisson's equation.\n",
        "# We need to create a FEniCSx-friendly version of 0.\n",
        "Zero = df.Constant(mesh, petsc.ScalarType(0.0))\n",
        "L = Zero * v * ufl.dx\n",
        "\n",
        "# Put it all together for FEniCSx.\n",
        "problem = df.petsc.LinearProblem(a, L, essential_bc, u=phi)\n",
        "\n",
        "# Now, solve it!\n",
        "problem.solve()\n",
        "\n",
        "# Tie up some loose ends.\n",
        "phi.vector.ghostUpdate(addv=petsc.InsertMode.INSERT, mode=petsc.ScatterMode.FORWARD)\n",
        "\n",
        "# Define a set of elements for a vector field.\n",
        "W = df.VectorFunctionSpace(mesh, (\"Lagrange\", 2))\n",
        "E = df.Function(W)\n",
        "\n",
        "# Compute the gradient as a symbolic expression, then interpolate it onto the mesh.\n",
        "expr = df.Expression(ufl.as_vector((-phi.dx(0), -phi.dx(1), -phi.dx(2))), W.element.interpolation_points())\n",
        "E.interpolate(expr)"
      ],
      "metadata": {
        "id": "cjcIB3fBOQka"
      },
      "execution_count": null,
      "outputs": []
    },
    {
      "cell_type": "code",
      "source": [
        "# Plot the potential.\n",
        "mpio.plot_scalar_field(phi, \"Potential\", warp_factor=0)"
      ],
      "metadata": {
        "id": "iewbCVaYObNK"
      },
      "execution_count": null,
      "outputs": []
    },
    {
      "cell_type": "code",
      "source": [
        "\n",
        "# Use multiphenics to plot the vector field.\n",
        "mpio.plot_vector_field(E,name=\"Electric Field\", glyph_factor=1)\n"
      ],
      "metadata": {
        "id": "KQjK3OXsOg41"
      },
      "execution_count": null,
      "outputs": []
    },
    {
      "cell_type": "markdown",
      "source": [
        "# Importing Data into NumPy\n",
        "\n",
        "The following commands will extract the numerical data generated by fenicsx and process it with the fammiliar tools of NumPy and matplotlib."
      ],
      "metadata": {
        "id": "RPoegdI8ZBv9"
      }
    },
    {
      "cell_type": "code",
      "source": [
        "# fenicsx stores data its own way, but it is accessible.\n",
        "# To get coordinates, use the FunctionSpace.\n",
        "\n",
        "coordinates = W.tabulate_dof_coordinates()\n",
        "x = coordinates[:,0]\n",
        "y = coordinates[:,1]\n",
        "z = coordinates[:,2]\n",
        "\n",
        "# The array values --- in this case, the values of the electric field ---\n",
        "# are in the object, not the function space.\n",
        "# It is a 1D array, so we need to reshape it.\n",
        "e_vals = E.x.array.reshape(-1,3)\n",
        "ex = e_vals[:,0]\n",
        "ey = e_vals[:,1]\n",
        "ez = e_vals[:,2]"
      ],
      "metadata": {
        "id": "1l0SPnkZZXrF"
      },
      "execution_count": null,
      "outputs": []
    },
    {
      "cell_type": "code",
      "source": [
        "# There are a LOT of points.\n",
        "# Keep this in mind when plotting.\n",
        "x.shape"
      ],
      "metadata": {
        "id": "TKn6gkJ2Z7FS"
      },
      "execution_count": null,
      "outputs": []
    },
    {
      "cell_type": "code",
      "source": [
        "# The points are in the order that fenicsx labeled them,\n",
        "# so scatter plots will provide more information than lines.\n",
        "\n",
        "# Look inside the sphere.\n",
        "inside = (x**2 + y**2 + z**2) < R**2\n",
        "\n",
        "# Number of points to skip in generating plots.\n",
        "n = 10"
      ],
      "metadata": {
        "id": "zdeneUY1aIOl"
      },
      "execution_count": null,
      "outputs": []
    },
    {
      "cell_type": "code",
      "source": [
        "# Import the workhorse libraries.\n",
        "import numpy as np\n",
        "import matplotlib.pyplot as plt"
      ],
      "metadata": {
        "id": "A4AR1Kmiakd_"
      },
      "execution_count": null,
      "outputs": []
    },
    {
      "cell_type": "code",
      "source": [
        "# Plot the field inside the sphere.\n",
        "plt.figure(dpi=200)\n",
        "ax = plt.subplot(projection='3d')\n",
        "ax.quiver3D(x[inside][::n], y[inside][::n], z[inside][::n], ex[inside][::n], ey[inside][::n], ez[inside][::n])\n",
        "plt.show()"
      ],
      "metadata": {
        "id": "FPwB85nsagRn"
      },
      "execution_count": null,
      "outputs": []
    },
    {
      "cell_type": "code",
      "source": [
        "# Plot all of the points.\n",
        "n = 20\n",
        "plt.figure(dpi=300)\n",
        "ax = plt.subplot(projection='3d')\n",
        "ax.quiver3D(x[::n], y[::n], z[::n], ex[::n], ey[::n], ez[::n],alpha=0.3)\n",
        "plt.show()"
      ],
      "metadata": {
        "id": "3miDsyGcazP9"
      },
      "execution_count": null,
      "outputs": []
    },
    {
      "cell_type": "code",
      "source": [
        "# Try to look at a slice through the y=0 plane.\n",
        "# This will identify the points close to y=0.\n",
        "# It is a boolean array that can be used to index\n",
        "# other arrays.\n",
        "view = np.isclose(y,0,atol=0.1)\n",
        "plt.figure(dpi=300)\n",
        "plt.quiver(x[view], z[view], ex[view], ez[view], scale=9, color='green', alpha=0.5, pivot='mid')\n",
        "plt.axis('equal');"
      ],
      "metadata": {
        "id": "f_KAcPYMa9-H"
      },
      "execution_count": null,
      "outputs": []
    },
    {
      "cell_type": "markdown",
      "source": [
        "Importing data to NumPy and matplotlib is a good way to look at assigned properties or ufl functions.  I have not been able to plot these using multiphenicsx.io.  (That does not mean it's not possible.)"
      ],
      "metadata": {
        "id": "fUI8wQebYzZi"
      }
    },
    {
      "cell_type": "code",
      "source": [
        "# The potential was calculated on a different FunctionSpace,\n",
        "# so we need to update the coordinate arrays.\n",
        "coordinates = V.tabulate_dof_coordinates()\n",
        "x = coordinates[:,0]\n",
        "y = coordinates[:,1]\n",
        "z = coordinates[:,2]\n",
        "\n",
        "# The potential is a scalar function, so we do not need to reshape the data.\n",
        "phi_vals = phi.x.array"
      ],
      "metadata": {
        "id": "ZTfuIRhgccTE"
      },
      "execution_count": null,
      "outputs": []
    },
    {
      "cell_type": "code",
      "source": [
        "%matplotlib inline"
      ],
      "metadata": {
        "id": "jkfIZeeYdHPQ"
      },
      "execution_count": null,
      "outputs": []
    },
    {
      "cell_type": "code",
      "source": [
        "# We can try a scatter plot with matplotlib.\n",
        "plt.figure(dpi=300)\n",
        "ax = plt.subplot(projection='3d')\n",
        "cb = ax.scatter(x,y,z,c=phi_vals, cmap='jet', s=0.2, alpha=0.2)\n",
        "plt.colorbar(cb)"
      ],
      "metadata": {
        "id": "pu0GC2KgblsW"
      },
      "execution_count": null,
      "outputs": []
    },
    {
      "cell_type": "code",
      "source": [
        "# We can look at a slice, too.\n",
        "view = np.isclose(y,0,atol=0.5)\n",
        "plt.figure(dpi=300)\n",
        "cb = plt.scatter(x[view], z[view], c=phi_vals[view], cmap='jet', s=0.1, alpha=0.2)\n",
        "plt.colorbar(cb)\n",
        "plt.axis('equal')"
      ],
      "metadata": {
        "id": "8MwdQDt_c4ET"
      },
      "execution_count": null,
      "outputs": []
    },
    {
      "cell_type": "code",
      "source": [
        "# The dielectric constants were defined on yet another FunctionSpace,\n",
        "# so we need to update the coordinate arrays.\n",
        "coordinates = Q.tabulate_dof_coordinates()\n",
        "x = coordinates[:,0]\n",
        "y = coordinates[:,1]\n",
        "z = coordinates[:,2]\n",
        "\n",
        "# The potential is a scalar function, so we do not need to reshape the data.\n",
        "eps_vals = epsilon.x.array\n",
        "\n",
        "# We can try a scatter plot with matplotlib.\n",
        "fig = plt.figure(dpi=300, figsize=(4,8))\n",
        "ax = fig.add_subplot(projection='3d')\n",
        "cb = ax.scatter(x,y,z,c=eps_vals, cmap='jet', s=0.2, alpha=0.2)\n",
        "plt.colorbar(cb)"
      ],
      "metadata": {
        "id": "HbLK3GG3d0mG"
      },
      "execution_count": null,
      "outputs": []
    },
    {
      "cell_type": "code",
      "source": [
        "# We can look at a slice, too.\n",
        "view = np.isclose(y,0,atol=0.3)\n",
        "plt.figure(dpi=300)\n",
        "cb = plt.scatter(x[view], z[view], c=eps_vals[view], cmap='jet', s=0.1, alpha=0.2)\n",
        "plt.colorbar(cb)\n",
        "plt.axis('equal')"
      ],
      "metadata": {
        "id": "mzS6dP_tg8in"
      },
      "execution_count": null,
      "outputs": []
    },
    {
      "cell_type": "markdown",
      "source": [
        "The scatter plots provide a way to \"look inside the box\" and inspect the values of the functions we defined."
      ],
      "metadata": {
        "id": "xZbT2NvIiXUf"
      }
    }
  ]
}