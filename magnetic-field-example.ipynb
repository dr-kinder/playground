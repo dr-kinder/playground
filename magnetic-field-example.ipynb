{
  "cells": [
    {
      "cell_type": "markdown",
      "metadata": {
        "id": "view-in-github",
        "colab_type": "text"
      },
      "source": [
        "<a href=\"https://colab.research.google.com/github/dr-kinder/playground/blob/dev/magnetic-field-example.ipynb\" target=\"_parent\"><img src=\"https://colab.research.google.com/assets/colab-badge.svg\" alt=\"Open In Colab\"/></a>"
      ]
    },
    {
      "cell_type": "markdown",
      "source": [
        "# The Finite Element Method\n",
        "\n",
        "To solve hard electrodynamics problems, we are going to use the finite element method.  This tutorial will help you get familiar with the process.\n",
        "\n",
        "## Acknowledgements\n",
        "\n",
        "The installation commands below come from the [FEM on CoLab](https://fem-on-colab.github.io/index.html) project.\n",
        "\n",
        "This tutorial was adapted from \"Solving the Poisson Equation\" in [The FEniCSx Tutorial](https://jorgensd.github.io/dolfinx-tutorial/chapter1/fundamentals.html).\n",
        "\n",
        "Thanks to all of the contributors to these projects!\n",
        "\n",
        "## FEniCSx, GMSH, and Multiphenicsx\n",
        "\n",
        "The finite element method involves a lot of numerical methods that would be difficult for us to build from scratch.  Instead, we will draw from a few open-source projects with state-of-the-art implementations.\n",
        "\n",
        "- [**FEniCSx**](https://fenicsproject.org/) is the workhorse of our finite element calculations.\n",
        "- [**Gmsh**](https://gmsh.info/) is a library we will use to define the geometry of the systems under study.  It is used in some computer-aided drafting (CAD) applications, too.\n",
        "- [**Multiphenicsx**](https://github.com/multiphenics/multiphenicsx) is a package built on top of FEniCSx with some nice functions for plotting finite element meshes, scalar functions, and vector fields.\n",
        "\n",
        "The code in the next three cells will install these three packages within your CoLab session.\n",
        "\n",
        "The `try ... except` lines below will attempt to import the libraries we need.  If they are not found, they will download and install the libraries.  These commands have been tested on CoLab.  They probably won't work properly elsewhere.\n",
        "\n",
        "It takes a little while to download and install the libraries, so hit \"Play\" on the next three cells, relax and grab a cup of coffee, and finish checking your email.  Then get ready to solve some boundary value problems!"
      ],
      "metadata": {
        "id": "TfAjak0-qO4X"
      },
      "id": "TfAjak0-qO4X"
    },
    {
      "cell_type": "code",
      "source": [
        "try:\n",
        "    # Import gmsh library for generating meshes.\n",
        "    import gmsh\n",
        "except ImportError:\n",
        "    # If it is not available, install it.  Then import it.\n",
        "    !wget \"https://fem-on-colab.github.io/releases/gmsh-install.sh\" -O \"/tmp/gmsh-install.sh\" && bash \"/tmp/gmsh-install.sh\"\n",
        "    import gmsh"
      ],
      "metadata": {
        "id": "7EUMPSN5-gkh"
      },
      "id": "7EUMPSN5-gkh",
      "execution_count": null,
      "outputs": []
    },
    {
      "cell_type": "code",
      "execution_count": null,
      "id": "mediterranean-century",
      "metadata": {
        "id": "mediterranean-century"
      },
      "outputs": [],
      "source": [
        "try:\n",
        "    # Import FEniCSx libraries for finite element analysis.\n",
        "    import dolfinx\n",
        "except ImportError:\n",
        "    # If they are not found, install them.  Then import them.\n",
        "    !wget \"https://fem-on-colab.github.io/releases/fenicsx-install-real.sh\" -O \"/tmp/fenicsx-install.sh\" && bash \"/tmp/fenicsx-install.sh\"\n",
        "    import dolfinx"
      ]
    },
    {
      "cell_type": "code",
      "source": [
        "try:\n",
        "    # Import multiphenicsx, mainly for plotting.\n",
        "    import multiphenicsx\n",
        "except ImportError:\n",
        "    # If they are not found, install them.\n",
        "    !pip3 install \"multiphenicsx@git+https://github.com/multiphenics/multiphenicsx.git@8b97b4e\"\n",
        "    import multiphenicsx"
      ],
      "metadata": {
        "id": "WbKnhYd_hJHf"
      },
      "id": "WbKnhYd_hJHf",
      "execution_count": null,
      "outputs": []
    },
    {
      "cell_type": "markdown",
      "source": [
        "Everything we need should be installed now!\n",
        "\n",
        "If you \"Restart runtime\" from the \"Runtime\" menu, all of your data will be reset, but the packages will remain installed.\n",
        "\n",
        "Let's load the packages we need, and get started!"
      ],
      "metadata": {
        "id": "oj1SSuMXJytW"
      },
      "id": "oj1SSuMXJytW"
    },
    {
      "cell_type": "code",
      "source": [
        "# Everything should be installed now.\n",
        "# Import the rest of what we need.\n",
        "\n",
        "import dolfinx.fem\n",
        "import dolfinx.io\n",
        "import gmsh\n",
        "import mpi4py.MPI\n",
        "import numpy as np\n",
        "import petsc4py.PETSc\n",
        "import ufl\n",
        "import multiphenicsx.fem\n",
        "import multiphenicsx.io"
      ],
      "metadata": {
        "id": "QbcHvDwImO1j"
      },
      "id": "QbcHvDwImO1j",
      "execution_count": null,
      "outputs": []
    },
    {
      "cell_type": "code",
      "source": [
        "# Create a rectangle.\n",
        "# Locate the center.\n",
        "x0 = 0\n",
        "y0 = 0\n",
        "z0 = 0\n",
        "\n",
        "# Define the shape.\n",
        "L = 2\n",
        "W = 2\n",
        "\n",
        "# Locate the corner.\n",
        "x0 = x0 - L/2\n",
        "y0 = y0 - W/2\n",
        "\n",
        "# Tell the modeling program how many dimensions we are using.\n",
        "dim = 2\n",
        "\n",
        "# Grid size parameter.  Make it smaller for higher resolution.\n",
        "delta = 0.1\n",
        "\n",
        "# Create a model.\n",
        "gmsh.initialize()\n",
        "gmsh.model.add(\"mesh\")\n",
        "\n",
        "# Define points: corners of the rectangle.\n",
        "p0 = gmsh.model.geo.addPoint(x0,y0, z0, delta)\n",
        "p1 = gmsh.model.geo.addPoint(x0+L, y0, z0, delta)\n",
        "p2 = gmsh.model.geo.addPoint(x0+L, y0+W,z0, delta)\n",
        "p3 = gmsh.model.geo.addPoint(x0, y0+W, z0, delta)\n",
        "\n",
        "# Define the perimeter of the rectangle as a loop.\n",
        "l0 = gmsh.model.geo.addLine(p0, p1)\n",
        "l1 = gmsh.model.geo.addLine(p1, p2)\n",
        "l2 = gmsh.model.geo.addLine(p2, p3)\n",
        "l3 = gmsh.model.geo.addLine(p3, p0)\n",
        "loop = gmsh.model.geo.addCurveLoop([l0,l1,l2,l3])\n",
        "\n",
        "# Define the interior of the rectangle as a surface.\n",
        "rectangle = gmsh.model.geo.addPlaneSurface([loop])\n",
        "\n",
        "\n",
        "# Define the center of the circle.\n",
        "x0 = 0\n",
        "y0 = 0\n",
        "z0 = 0\n",
        "\n",
        "# Define the radius of the circle.\n",
        "r0 = 3\n",
        "\n",
        "# Define points: center of circle and two points on opposite sides.\n",
        "p0 = gmsh.model.geo.addPoint(x0,y0, z0, delta)\n",
        "p1 = gmsh.model.geo.addPoint(x0, y0-r0, z0, delta)\n",
        "p2 = gmsh.model.geo.addPoint(x0, y0+r0,z0, delta)\n",
        "\n",
        "# Define two semicircular arcs that will be joined into a circle.\n",
        "c0 = gmsh.model.geo.addCircleArc(p1, p0, p2)\n",
        "c1 = gmsh.model.geo.addCircleArc(p2, p0, p1)\n",
        "loop = gmsh.model.geo.addCurveLoop([c0,c1])\n",
        "\n",
        "## Alternate geometry: semicircle\n",
        "# l0 = gmsh.model.geo.addLine(p2, p1)\n",
        "# loop = gmsh.model.geo.addCurveLoop([c0, l0])\n",
        "\n",
        "disk = gmsh.model.geo.addPlaneSurface([loop])\n",
        "\n",
        "# Update the model with all of the features we add.\n",
        "gmsh.model.geo.synchronize()\n",
        "\n",
        "# Some geometric objects were only used to define others.\n",
        "# Identify the physical objects.\n",
        "\n",
        "# Add each edge separately, so it is a unique object.\n",
        "# This will allow us to set the boundary conditions separately.\n",
        "gmsh.model.addPhysicalGroup(1, [l0], 1)\n",
        "gmsh.model.addPhysicalGroup(1, [l1], 2)\n",
        "gmsh.model.addPhysicalGroup(1, [l2], 3)\n",
        "gmsh.model.addPhysicalGroup(1, [l3], 4)\n",
        "\n",
        "# Define the interior of the rectangle as our domain.\n",
        "gmsh.model.addPhysicalGroup(2, [rectangle], 1)\n",
        "\n",
        "# Define the interior of the disk as our domain.\n",
        "gmsh.model.addPhysicalGroup(1, [c0,c1], 5)\n",
        "gmsh.model.addPhysicalGroup(2, [disk], 2)\n",
        "\n",
        "\n",
        "# Create a mesh for this system.\n",
        "gmsh.model.mesh.generate(dim)\n",
        "\n",
        "# Bring the mesh into FEniCSx.\n",
        "mesh, subdomains, boundaries = dolfinx.io.gmshio.model_to_mesh(\n",
        "    gmsh.model, comm=mpi4py.MPI.COMM_WORLD, rank=0, gdim=2)\n",
        "\n",
        "# Close the mesh generating program.\n",
        "gmsh.finalize()"
      ],
      "metadata": {
        "id": "bbbIAVQ4odgj"
      },
      "id": "bbbIAVQ4odgj",
      "execution_count": null,
      "outputs": []
    },
    {
      "cell_type": "code",
      "source": [
        "# Get separate identifiers for the four walls.\n",
        "wall_1 = boundaries.indices[boundaries.values == 1]\n",
        "wall_2 = boundaries.indices[boundaries.values == 2]\n",
        "wall_3 = boundaries.indices[boundaries.values == 3]\n",
        "wall_4 = boundaries.indices[boundaries.values == 4]"
      ],
      "metadata": {
        "id": "Tux5Ak_5tEld"
      },
      "id": "Tux5Ak_5tEld",
      "execution_count": null,
      "outputs": []
    },
    {
      "cell_type": "code",
      "source": [
        "# Plot the entire mesh.\n",
        "multiphenicsx.io.plot_mesh(mesh)"
      ],
      "metadata": {
        "colab": {
          "base_uri": "https://localhost:8080/",
          "height": 717,
          "referenced_widgets": [
            "e7694ab95b0c44659d7d79110785ac50",
            "8cb3b67cb9f7451ea22cd195a60675b2"
          ]
        },
        "id": "F2gto5GKrhJM",
        "outputId": "6af9bd4a-5135-49eb-d576-0181531a9ddc"
      },
      "execution_count": null,
      "outputs": [
        {
          "output_type": "display_data",
          "data": {
            "text/plain": [
              "Viewer(geometries=[{'vtkClass': 'vtkPolyData', 'points': {'vtkClass': 'vtkPoints', 'name': '_points', 'numberO…"
            ],
            "application/vnd.jupyter.widget-view+json": {
              "version_major": 2,
              "version_minor": 0,
              "model_id": "e7694ab95b0c44659d7d79110785ac50"
            }
          },
          "metadata": {
            "application/vnd.jupyter.widget-view+json": {
              "colab": {
                "custom_widget_manager": {
                  "url": "https://ssl.gstatic.com/colaboratory-static/widgets/colab-cdn-widget-manager/d2e234f7cc04bf79/manager.min.js"
                }
              }
            }
          }
        },
        {
          "output_type": "display_data",
          "data": {
            "text/plain": [
              "Viewer(geometries=[{'vtkClass': 'vtkPolyData', 'points': {'vtkClass': 'vtkPoints', 'name': '_points', 'numberO…"
            ],
            "application/vnd.jupyter.widget-view+json": {
              "version_major": 2,
              "version_minor": 0,
              "model_id": "e7694ab95b0c44659d7d79110785ac50"
            }
          },
          "metadata": {
            "application/vnd.jupyter.widget-view+json": {
              "colab": {
                "custom_widget_manager": {
                  "url": "https://ssl.gstatic.com/colaboratory-static/widgets/colab-cdn-widget-manager/d2e234f7cc04bf79/manager.min.js"
                }
              }
            }
          }
        }
      ],
      "id": "F2gto5GKrhJM"
    },
    {
      "cell_type": "code",
      "source": [
        "# Plot the subdomains that FEniCSx has identified.\n",
        "# There should only be one for this model.\n",
        "multiphenicsx.io.plot_mesh_tags(subdomains)"
      ],
      "metadata": {
        "colab": {
          "base_uri": "https://localhost:8080/",
          "height": 717,
          "referenced_widgets": [
            "feb9f64e41a0438a98876ac6f691a4da",
            "98d4c640fb194729907b962215c1dea3"
          ]
        },
        "id": "Xx0VzMfBrhJM",
        "outputId": "1ef2fb91-5b9c-4271-ad79-c1316bb21828"
      },
      "execution_count": null,
      "outputs": [
        {
          "output_type": "display_data",
          "data": {
            "text/plain": [
              "Viewer(geometries=[{'vtkClass': 'vtkPolyData', 'points': {'vtkClass': 'vtkPoints', 'name': '_points', 'numberO…"
            ],
            "application/vnd.jupyter.widget-view+json": {
              "version_major": 2,
              "version_minor": 0,
              "model_id": "feb9f64e41a0438a98876ac6f691a4da"
            }
          },
          "metadata": {
            "application/vnd.jupyter.widget-view+json": {
              "colab": {
                "custom_widget_manager": {
                  "url": "https://ssl.gstatic.com/colaboratory-static/widgets/colab-cdn-widget-manager/d2e234f7cc04bf79/manager.min.js"
                }
              }
            }
          }
        },
        {
          "output_type": "display_data",
          "data": {
            "text/plain": [
              "Viewer(geometries=[{'vtkClass': 'vtkPolyData', 'points': {'vtkClass': 'vtkPoints', 'name': '_points', 'numberO…"
            ],
            "application/vnd.jupyter.widget-view+json": {
              "version_major": 2,
              "version_minor": 0,
              "model_id": "feb9f64e41a0438a98876ac6f691a4da"
            }
          },
          "metadata": {
            "application/vnd.jupyter.widget-view+json": {
              "colab": {
                "custom_widget_manager": {
                  "url": "https://ssl.gstatic.com/colaboratory-static/widgets/colab-cdn-widget-manager/d2e234f7cc04bf79/manager.min.js"
                }
              }
            }
          }
        }
      ],
      "id": "Xx0VzMfBrhJM"
    },
    {
      "cell_type": "code",
      "source": [
        "# Inspect the boundaries of the elements and the system.\n",
        "multiphenicsx.io.plot_mesh_tags(boundaries)\n",
        "\n",
        "# Note that each wall is a different color,\n",
        "# indicating it is a separate \"physical object\"."
      ],
      "metadata": {
        "colab": {
          "base_uri": "https://localhost:8080/",
          "height": 717,
          "referenced_widgets": [
            "f08db32e415d422194f6b596553b73c3",
            "d9d9d825e43343a5aa218cf1bb06ae7d"
          ]
        },
        "id": "1zS-dBForhJN",
        "outputId": "80d2f30d-2130-4f95-e5a4-57b635556808"
      },
      "execution_count": null,
      "outputs": [
        {
          "output_type": "display_data",
          "data": {
            "text/plain": [
              "Viewer(geometries=[{'vtkClass': 'vtkPolyData', 'points': {'vtkClass': 'vtkPoints', 'name': '_points', 'numberO…"
            ],
            "application/vnd.jupyter.widget-view+json": {
              "version_major": 2,
              "version_minor": 0,
              "model_id": "f08db32e415d422194f6b596553b73c3"
            }
          },
          "metadata": {
            "application/vnd.jupyter.widget-view+json": {
              "colab": {
                "custom_widget_manager": {
                  "url": "https://ssl.gstatic.com/colaboratory-static/widgets/colab-cdn-widget-manager/d2e234f7cc04bf79/manager.min.js"
                }
              }
            }
          }
        },
        {
          "output_type": "display_data",
          "data": {
            "text/plain": [
              "Viewer(geometries=[{'vtkClass': 'vtkPolyData', 'points': {'vtkClass': 'vtkPoints', 'name': '_points', 'numberO…"
            ],
            "application/vnd.jupyter.widget-view+json": {
              "version_major": 2,
              "version_minor": 0,
              "model_id": "f08db32e415d422194f6b596553b73c3"
            }
          },
          "metadata": {
            "application/vnd.jupyter.widget-view+json": {
              "colab": {
                "custom_widget_manager": {
                  "url": "https://ssl.gstatic.com/colaboratory-static/widgets/colab-cdn-widget-manager/d2e234f7cc04bf79/manager.min.js"
                }
              }
            }
          }
        }
      ],
      "id": "1zS-dBForhJN"
    },
    {
      "cell_type": "code",
      "source": [
        "# Change the last function argument to see the individual walls.\n",
        "multiphenicsx.io.plot_mesh_entities(mesh, mesh.topology.dim - 1, wall_1)"
      ],
      "metadata": {
        "colab": {
          "base_uri": "https://localhost:8080/",
          "height": 717,
          "referenced_widgets": [
            "a2444d5c2ae44799884175f54b5bcc5a",
            "442a56ceea9d4c46a5ed2ea9b39c4200"
          ]
        },
        "id": "TbIeRtUKrdbC",
        "outputId": "4809d144-b586-4227-bd82-bd83ce956a5e"
      },
      "id": "TbIeRtUKrdbC",
      "execution_count": null,
      "outputs": [
        {
          "output_type": "display_data",
          "data": {
            "text/plain": [
              "Viewer(geometries=[{'vtkClass': 'vtkPolyData', 'points': {'vtkClass': 'vtkPoints', 'name': '_points', 'numberO…"
            ],
            "application/vnd.jupyter.widget-view+json": {
              "version_major": 2,
              "version_minor": 0,
              "model_id": "a2444d5c2ae44799884175f54b5bcc5a"
            }
          },
          "metadata": {
            "application/vnd.jupyter.widget-view+json": {
              "colab": {
                "custom_widget_manager": {
                  "url": "https://ssl.gstatic.com/colaboratory-static/widgets/colab-cdn-widget-manager/d2e234f7cc04bf79/manager.min.js"
                }
              }
            }
          }
        },
        {
          "output_type": "display_data",
          "data": {
            "text/plain": [
              "Viewer(geometries=[{'vtkClass': 'vtkPolyData', 'points': {'vtkClass': 'vtkPoints', 'name': '_points', 'numberO…"
            ],
            "application/vnd.jupyter.widget-view+json": {
              "version_major": 2,
              "version_minor": 0,
              "model_id": "a2444d5c2ae44799884175f54b5bcc5a"
            }
          },
          "metadata": {
            "application/vnd.jupyter.widget-view+json": {
              "colab": {
                "custom_widget_manager": {
                  "url": "https://ssl.gstatic.com/colaboratory-static/widgets/colab-cdn-widget-manager/d2e234f7cc04bf79/manager.min.js"
                }
              }
            }
          }
        }
      ]
    },
    {
      "cell_type": "code",
      "source": [
        "## Set up the finite element problem.\n",
        "\n",
        "# Define trial and test functions.\n",
        "V = dolfinx.fem.FunctionSpace(mesh, (\"Lagrange\", 2))\n",
        "\n",
        "# Define the trial and test functions.\n",
        "u = ufl.TrialFunction(V)\n",
        "v = ufl.TestFunction(V)\n",
        "\n",
        "# Create a function to store the solution.\n",
        "phi = dolfinx.fem.Function(V)\n",
        "\n",
        "# Identify the domain (all the points inside the boundary).\n",
        "Omega = subdomains.indices[subdomains.values == 1]\n",
        "dOmega = boundaries.indices[boundaries.values != 0]\n",
        "\n",
        "# Use these objects to tell FEniCSx where the boundary is.\n",
        "boundary_elements = dolfinx.fem.locate_dofs_topological(V, boundaries.dim, dOmega)\n",
        "\n",
        "# Now introduce the boundary condition: constant potential on the boundary.\n",
        "phi0 = 0\n",
        "Phi0 = dolfinx.fem.Constant(mesh, petsc4py.PETSc.ScalarType(phi0))\n",
        "bc = dolfinx.fem.dirichletbc(Phi0, boundary_elements, V)\n",
        "\n",
        "#####\n",
        "\n",
        "# Identify the boundaries for FEniCSx.\n",
        "# Use these objects to tell FEniCSx where the boundary is.\n",
        "dOmega_1 = dolfinx.fem.locate_dofs_topological(V, boundaries.dim, wall_1)\n",
        "dOmega_2 = dolfinx.fem.locate_dofs_topological(V, boundaries.dim, wall_2)\n",
        "dOmega_3 = dolfinx.fem.locate_dofs_topological(V, boundaries.dim, wall_3)\n",
        "dOmega_4 = dolfinx.fem.locate_dofs_topological(V, boundaries.dim, wall_4)\n",
        "\n",
        "# Now introduce the boundary condition: constant potential on the boundary.\n",
        "phi0 = 0.0\n",
        "phi1 = 2.0\n",
        "Phi0 = dolfinx.fem.Constant(mesh, petsc4py.PETSc.ScalarType(phi0))\n",
        "Phi1 = dolfinx.fem.Constant(mesh, petsc4py.PETSc.ScalarType(phi1))\n",
        "\n",
        "# Fix the potential on the walls.\n",
        "bc_1 = dolfinx.fem.dirichletbc(Phi1, dOmega_1, V)\n",
        "bc_2 = dolfinx.fem.dirichletbc(Phi0, dOmega_2, V)\n",
        "bc_3 = dolfinx.fem.dirichletbc(Phi0, dOmega_3, V)\n",
        "bc_4 = dolfinx.fem.dirichletbc(Phi0, dOmega_4, V)\n",
        "\n",
        "# Combine all boundary conditions into a list for FEniCSx.\n",
        "bc = [bc_1, bc_2, bc_3, bc_4]\n",
        "\n",
        "# This is the FEM version of the Laplacian.\n",
        "# It is the left-hand side of Poisson's equation.\n",
        "a = ufl.inner(ufl.grad(u), ufl.grad(v)) * ufl.dx\n",
        "\n",
        "# This the right-hand side of Poisson's equation.\n",
        "# We need to create a FEniCSx-friendly version of 0.\n",
        "Zero = dolfinx.fem.Constant(mesh, petsc4py.PETSc.ScalarType(0.0))\n",
        "One = dolfinx.fem.Constant(mesh, petsc4py.PETSc.ScalarType(1.0))\n",
        "\n",
        "L = Zero * v * ufl.dx\n",
        "\n",
        "# Put it all together for FEniCSx.\n",
        "# problem = dolfinx.fem.petsc.LinearProblem(a, L, bcs=[bc], u=phi, petsc_options={\"ksp_type\": \"preonly\", \"pc_type\": \"lu\"})\n",
        "problem = dolfinx.fem.petsc.LinearProblem(a, L, bcs=bc, u=phi)\n",
        "\n",
        "# Now, solve it!\n",
        "problem.solve()\n",
        "\n",
        "# Tie up some loose ends.\n",
        "phi.vector.ghostUpdate(addv=petsc4py.PETSc.InsertMode.INSERT, mode=petsc4py.PETSc.ScatterMode.FORWARD)"
      ],
      "metadata": {
        "id": "NK2U7uz5vElB"
      },
      "id": "NK2U7uz5vElB",
      "execution_count": null,
      "outputs": []
    },
    {
      "cell_type": "code",
      "source": [
        "# Plot the solution.\n",
        "multiphenicsx.io.plot_scalar_field(phi, \"Potential\", 1)"
      ],
      "metadata": {
        "outputId": "b8b08818-58cc-4c34-bd79-34d4667bd1e6",
        "colab": {
          "base_uri": "https://localhost:8080/",
          "height": 717,
          "referenced_widgets": [
            "d21b38528ccd48e19a5469f5e2d938fe",
            "891fc8c97923479c8ccaf1cf472f91d1"
          ]
        },
        "id": "nsLVYr1fSiKZ"
      },
      "execution_count": null,
      "outputs": [
        {
          "output_type": "display_data",
          "data": {
            "text/plain": [
              "Viewer(geometries=[{'vtkClass': 'vtkPolyData', 'points': {'vtkClass': 'vtkPoints', 'name': '_points', 'numberO…"
            ],
            "application/vnd.jupyter.widget-view+json": {
              "version_major": 2,
              "version_minor": 0,
              "model_id": "d21b38528ccd48e19a5469f5e2d938fe"
            }
          },
          "metadata": {
            "application/vnd.jupyter.widget-view+json": {
              "colab": {
                "custom_widget_manager": {
                  "url": "https://ssl.gstatic.com/colaboratory-static/widgets/colab-cdn-widget-manager/d2e234f7cc04bf79/manager.min.js"
                }
              }
            }
          }
        },
        {
          "output_type": "display_data",
          "data": {
            "text/plain": [
              "Viewer(geometries=[{'vtkClass': 'vtkPolyData', 'points': {'vtkClass': 'vtkPoints', 'name': '_points', 'numberO…"
            ],
            "application/vnd.jupyter.widget-view+json": {
              "version_major": 2,
              "version_minor": 0,
              "model_id": "d21b38528ccd48e19a5469f5e2d938fe"
            }
          },
          "metadata": {
            "application/vnd.jupyter.widget-view+json": {
              "colab": {
                "custom_widget_manager": {
                  "url": "https://ssl.gstatic.com/colaboratory-static/widgets/colab-cdn-widget-manager/d2e234f7cc04bf79/manager.min.js"
                }
              }
            }
          }
        }
      ],
      "id": "nsLVYr1fSiKZ"
    },
    {
      "cell_type": "code",
      "source": [
        "# Plot the solution.\n",
        "multiphenicsx.io.plot_scalar_field(phi, \"Potential\", 1)"
      ],
      "metadata": {
        "outputId": "74a71084-83ba-4fa3-b64c-b4d61cbfadc3",
        "colab": {
          "base_uri": "https://localhost:8080/",
          "height": 717,
          "referenced_widgets": [
            "9461de862bcb4ab69d0d6112f0fd3b0b",
            "7b9132ca1bc2427abb9f18c3bfe570ac"
          ]
        },
        "id": "TfKEZ3HuTWy5"
      },
      "execution_count": null,
      "outputs": [
        {
          "output_type": "display_data",
          "data": {
            "text/plain": [
              "Viewer(geometries=[{'vtkClass': 'vtkPolyData', 'points': {'vtkClass': 'vtkPoints', 'name': '_points', 'numberO…"
            ],
            "application/vnd.jupyter.widget-view+json": {
              "version_major": 2,
              "version_minor": 0,
              "model_id": "9461de862bcb4ab69d0d6112f0fd3b0b"
            }
          },
          "metadata": {
            "application/vnd.jupyter.widget-view+json": {
              "colab": {
                "custom_widget_manager": {
                  "url": "https://ssl.gstatic.com/colaboratory-static/widgets/colab-cdn-widget-manager/d2e234f7cc04bf79/manager.min.js"
                }
              }
            }
          }
        },
        {
          "output_type": "display_data",
          "data": {
            "text/plain": [
              "Viewer(geometries=[{'vtkClass': 'vtkPolyData', 'points': {'vtkClass': 'vtkPoints', 'name': '_points', 'numberO…"
            ],
            "application/vnd.jupyter.widget-view+json": {
              "version_major": 2,
              "version_minor": 0,
              "model_id": "9461de862bcb4ab69d0d6112f0fd3b0b"
            }
          },
          "metadata": {
            "application/vnd.jupyter.widget-view+json": {
              "colab": {
                "custom_widget_manager": {
                  "url": "https://ssl.gstatic.com/colaboratory-static/widgets/colab-cdn-widget-manager/d2e234f7cc04bf79/manager.min.js"
                }
              }
            }
          }
        }
      ],
      "id": "TfKEZ3HuTWy5"
    },
    {
      "cell_type": "markdown",
      "source": [
        "## Create a Model\n",
        "\n",
        "We are going to solve the Poisson equation for charged wire inside a grounded, conducting cylinder.  We will assume the cylinder and wire are long enough that we can ignore any variation along the axis of the cylinder and wire, and we focus our attention on a 2D cross section.\n",
        "\n",
        "Thus, we need a circular disk as our space, and we need to identify the points on the boundary, so we can set them equal to zero.\n",
        "\n",
        "The Gmsh package will allow us to do this.\n",
        "\n",
        "Don't just run the following code.  Read through it and try to figure out how it works."
      ],
      "metadata": {
        "id": "X8SRNVQWkygC"
      },
      "id": "X8SRNVQWkygC"
    },
    {
      "cell_type": "markdown",
      "source": [
        "We should have a mesh now: a collection of nodes and elements.  Let's see what we've created."
      ],
      "metadata": {
        "id": "HJNWHXfYOGxZ"
      },
      "id": "HJNWHXfYOGxZ"
    },
    {
      "cell_type": "markdown",
      "source": [
        "Gmsh has just created this model for us.  Describe what you see.\n",
        "\n",
        "- Did we make the correct shape?\n",
        "- What kind of \"mesh\" did Gmsh create?\n",
        "- Does the mesh seem reasonable?"
      ],
      "metadata": {
        "id": "F-lCm4uaSUyE"
      },
      "id": "F-lCm4uaSUyE"
    },
    {
      "cell_type": "markdown",
      "source": [
        "***Replace with your response.***"
      ],
      "metadata": {
        "id": "tAVCGOOhS0wd"
      },
      "id": "tAVCGOOhS0wd"
    },
    {
      "cell_type": "markdown",
      "source": [
        "## Finite Element Method\n",
        "\n",
        "We now have a physical system and a grid to work with.  The next step is to define our problem in such a way that FEniCSx can solve it.\n",
        "\n",
        "The first step is to define a set of functions on our grid.*italicized text*"
      ],
      "metadata": {
        "id": "7BtAk2obCneH"
      },
      "id": "7BtAk2obCneH"
    },
    {
      "cell_type": "markdown",
      "source": [
        "### Charge Density\n",
        "\n",
        "Next, we will define the charge density of the wire.  We use a Gaussian distribution (bell curve) here.\n",
        "\n",
        "Define the charge density.  We will use a Gaussian charge distribution.  You can adjust the center and the spread of the distribution."
      ],
      "metadata": {
        "id": "bg2VyQIPCu-n"
      },
      "id": "bg2VyQIPCu-n"
    },
    {
      "cell_type": "markdown",
      "source": [
        "We can plot the charge density.  First, we have to interpolate the symbolic expression onto our grid."
      ],
      "metadata": {
        "id": "PH-l6DjeIfub"
      },
      "id": "PH-l6DjeIfub"
    },
    {
      "cell_type": "markdown",
      "source": [
        "### Electric Field\n",
        "\n",
        "\n",
        "The electric field is the (negative) gradient of the potential, so we can compute and visualize this, too!\n",
        "\n",
        "Make another prediction first, though.\n",
        "\n",
        "What do you expect the electric field to look like?"
      ],
      "metadata": {
        "id": "2a_XpbJRWbQp"
      },
      "id": "2a_XpbJRWbQp"
    },
    {
      "cell_type": "markdown",
      "source": [
        "***Replace with your prediction.***"
      ],
      "metadata": {
        "id": "f_vUbuleWr0x"
      },
      "id": "f_vUbuleWr0x"
    },
    {
      "cell_type": "code",
      "source": [
        "# Define a set of elements for a vector field.\n",
        "W = dolfinx.fem.VectorFunctionSpace(mesh, (\"Lagrange\", 2))\n",
        "E = dolfinx.fem.Function(W)\n",
        "\n",
        "# Compute the gradient as a symbolic expression, then interpolate it onto the mesh.\n",
        "expr = dolfinx.fem.Expression(ufl.as_vector((-phi.dx(0), -phi.dx(1))), W.element.interpolation_points())\n",
        "E.interpolate(expr)"
      ],
      "metadata": {
        "id": "NvvIw5Is85Bz"
      },
      "id": "NvvIw5Is85Bz",
      "execution_count": null,
      "outputs": []
    },
    {
      "cell_type": "markdown",
      "source": [
        "The `glyph_factor` controls the appearance of the arrows, similar to the `warp_factor` for a scalar field.  Adjust it to make the plot easier to interpret."
      ],
      "metadata": {
        "id": "VrCZc-ZzXFQI"
      },
      "id": "VrCZc-ZzXFQI"
    },
    {
      "cell_type": "code",
      "source": [
        "# Use multiphenics to plot the vector field.\n",
        "multiphenicsx.io.plot_vector_field(E,name=\"Electric Field\", glyph_factor=1e-2)"
      ],
      "metadata": {
        "id": "ZXvRgHo87tnb",
        "colab": {
          "base_uri": "https://localhost:8080/",
          "height": 717,
          "referenced_widgets": [
            "954070460a314f79870d5eef6a348251",
            "93835dcb0f3c4e9db1fb2a11a37f37f7"
          ]
        },
        "outputId": "24dc4ebd-b1bd-409c-dfad-fcac1d7fa3ed"
      },
      "id": "ZXvRgHo87tnb",
      "execution_count": null,
      "outputs": [
        {
          "output_type": "display_data",
          "data": {
            "text/plain": [
              "Viewer(geometries=[{'vtkClass': 'vtkPolyData', 'points': {'vtkClass': 'vtkPoints', 'name': '_points', 'numberO…"
            ],
            "application/vnd.jupyter.widget-view+json": {
              "version_major": 2,
              "version_minor": 0,
              "model_id": "954070460a314f79870d5eef6a348251"
            }
          },
          "metadata": {
            "application/vnd.jupyter.widget-view+json": {
              "colab": {
                "custom_widget_manager": {
                  "url": "https://ssl.gstatic.com/colaboratory-static/widgets/colab-cdn-widget-manager/d2e234f7cc04bf79/manager.min.js"
                }
              }
            }
          }
        },
        {
          "output_type": "display_data",
          "data": {
            "text/plain": [
              "Viewer(geometries=[{'vtkClass': 'vtkPolyData', 'points': {'vtkClass': 'vtkPoints', 'name': '_points', 'numberO…"
            ],
            "application/vnd.jupyter.widget-view+json": {
              "version_major": 2,
              "version_minor": 0,
              "model_id": "954070460a314f79870d5eef6a348251"
            }
          },
          "metadata": {
            "application/vnd.jupyter.widget-view+json": {
              "colab": {
                "custom_widget_manager": {
                  "url": "https://ssl.gstatic.com/colaboratory-static/widgets/colab-cdn-widget-manager/d2e234f7cc04bf79/manager.min.js"
                }
              }
            }
          }
        }
      ]
    },
    {
      "cell_type": "markdown",
      "source": [
        "Describe what you see.\n",
        " \n",
        "- What does the electric field look like?\n",
        "- Did you predict the main features of the field?  If not, what surprised you?"
      ],
      "metadata": {
        "id": "Yfm-3X12XSRi"
      },
      "id": "Yfm-3X12XSRi"
    },
    {
      "cell_type": "markdown",
      "source": [
        "***Replace with your response.***"
      ],
      "metadata": {
        "id": "wwAqOvquXmcZ"
      },
      "id": "wwAqOvquXmcZ"
    },
    {
      "cell_type": "markdown",
      "source": [
        "## Reflection\n",
        "\n",
        "Summarize what you've learned in working through this notebook."
      ],
      "metadata": {
        "id": "sniOWVkaXqVq"
      },
      "id": "sniOWVkaXqVq"
    },
    {
      "cell_type": "markdown",
      "source": [
        "***Replace with your response.***"
      ],
      "metadata": {
        "id": "w8iNyEwIXv_z"
      },
      "id": "w8iNyEwIXv_z"
    },
    {
      "cell_type": "markdown",
      "source": [
        "## Challenge\n",
        "\n",
        "Make a copy of this notebook in your GitHub repository.  Then, modify the code and explore the results.\n",
        "\n",
        "Some things to try ...\n",
        "- Move the charge around inside the disk.  How does its location affect the potential and electric field?\n",
        "- Change the size of the disk.  How do you think the potential and fields will change?\n",
        "- Change the spread of the charge distribution.  How does this affect the potential and electric field?\n",
        "- Change the fixed potential on the boundary.  How does this affect the potential and electric field?\n",
        "- Put two charges inside the system — one positive and one negative.  How does that affect the resulting potential and field?\n",
        "\n",
        "Try any of these, or your own ideas."
      ],
      "metadata": {
        "id": "lIOwC9nbX1R6"
      },
      "id": "lIOwC9nbX1R6"
    },
    {
      "cell_type": "code",
      "source": [],
      "metadata": {
        "id": "_TMHNSv8W6mo"
      },
      "id": "_TMHNSv8W6mo",
      "execution_count": null,
      "outputs": []
    },
    {
      "cell_type": "code",
      "source": [
        "import gmsh\n",
        "import numpy as np\n",
        "from mpi4py import MPI\n",
        "\n",
        "rank = MPI.COMM_WORLD.rank\n",
        "\n",
        "gmsh.initialize()\n",
        "r = 0.1   # Radius of copper wires\n",
        "R = 5     # Radius of domain\n",
        "a = 1     # Radius of inner iron cylinder\n",
        "b = 1.2   # Radius of outer iron cylinder\n",
        "N = 3     # Number of windings\n",
        "c_1 = 0.8 # Radius of inner copper wires\n",
        "c_2 = 1.4 # Radius of outer copper wires\n",
        "gdim = 2  # Geometric dimension of the mesh\n",
        "model_rank = 0\n",
        "mesh_comm = MPI.COMM_WORLD\n",
        "if mesh_comm.rank == model_rank:\n",
        "\n",
        "    # Define geometry for iron cylinder\n",
        "    outer_iron = gmsh.model.occ.addCircle(0, 0, 0, b)\n",
        "    inner_iron = gmsh.model.occ.addCircle(0, 0, 0, a)\n",
        "    gmsh.model.occ.addCurveLoop([outer_iron], 5)\n",
        "    gmsh.model.occ.addCurveLoop([inner_iron], 6)\n",
        "    iron = gmsh.model.occ.addPlaneSurface([5, 6])\n",
        "    gmsh.model.occ.synchronize()\n",
        "\n",
        "    # Define geometry for background\n",
        "    background = gmsh.model.occ.addDisk(0, 0, 0, R, R)\n",
        "    gmsh.model.occ.synchronize()\n",
        "\n",
        "    # Define the copper-wires inside iron cylinder\n",
        "    angles_N = [i*2*np.pi/N for i in range(N)]\n",
        "    wires_N = [(2, gmsh.model.occ.addDisk(c_1*np.cos(v), c_1*np.sin(v), 0, r, r)) for v in angles_N]\n",
        "\n",
        "    # Define the copper-wires outside the iron cylinder\n",
        "    angles_S = [(i+0.5)*2*np.pi/N for i in range(N)]\n",
        "    wires_S = [(2, gmsh.model.occ.addDisk(c_2*np.cos(v), c_2*np.sin(v), 0, r, r)) for v in angles_S]\n",
        "    gmsh.model.occ.synchronize()\n",
        "    # Resolve all boundaries of the different wires in the background domain\n",
        "    all_surfaces = [(2, iron)]\n",
        "    all_surfaces.extend(wires_S)\n",
        "    all_surfaces.extend(wires_N)\n",
        "    whole_domain = gmsh.model.occ.fragment([(2, background)], all_surfaces)\n",
        "    gmsh.model.occ.synchronize()\n",
        "    # Create physical markers for the different wires.\n",
        "    # We use the following markers:\n",
        "    # - Vacuum: 0\n",
        "    # - Iron cylinder: 1\n",
        "    # - Inner copper wires: $[2,3,\\dots,N+1]$\n",
        "    # - Outer copper wires: $[N+2,\\dots, 2\\cdot N+1]$\n",
        "    inner_tag = 2\n",
        "    outer_tag = 2 + N\n",
        "    background_surfaces = []\n",
        "    other_surfaces = []\n",
        "    for domain in whole_domain[0]:\n",
        "        com = gmsh.model.occ.getCenterOfMass(domain[0], domain[1])\n",
        "        mass = gmsh.model.occ.getMass(domain[0], domain[1])\n",
        "        # Identify iron circle by its mass\n",
        "        if np.isclose(mass, np.pi*(b**2-a**2)):\n",
        "            gmsh.model.addPhysicalGroup(domain[0], [domain[1]], tag=1)\n",
        "            other_surfaces.append(domain)\n",
        "        # Identify the background circle by its center of mass\n",
        "        elif np.allclose(com, [0, 0, 0]):\n",
        "            background_surfaces.append(domain[1])\n",
        "\n",
        "        # Identify the inner circles by their center of mass\n",
        "        elif np.isclose(np.linalg.norm(com), c_1):\n",
        "            gmsh.model.addPhysicalGroup(domain[0], [domain[1]], inner_tag)\n",
        "            inner_tag +=1\n",
        "            other_surfaces.append(domain)\n",
        "        # Identify the outer circles by their center of mass\n",
        "        elif np.isclose(np.linalg.norm(com), c_2):\n",
        "            gmsh.model.addPhysicalGroup(domain[0], [domain[1]], outer_tag)\n",
        "            outer_tag +=1\n",
        "            other_surfaces.append(domain)\n",
        "    # Add marker for the vacuum\n",
        "    gmsh.model.addPhysicalGroup(2, background_surfaces, tag=0)\n",
        "    # Create mesh resolution that is fine around the wires and\n",
        "    # iron cylinder, coarser the further away you get\n",
        "    gmsh.model.mesh.field.add(\"Distance\", 1)\n",
        "    edges = gmsh.model.getBoundary(other_surfaces, oriented=False)\n",
        "    gmsh.model.mesh.field.setNumbers(1, \"EdgesList\", [e[1] for e in edges])\n",
        "    gmsh.model.mesh.field.add(\"Threshold\", 2)\n",
        "    gmsh.model.mesh.field.setNumber(2, \"IField\", 1)\n",
        "    gmsh.model.mesh.field.setNumber(2, \"LcMin\", r / 2)\n",
        "    gmsh.model.mesh.field.setNumber(2, \"LcMax\", 5 * r)\n",
        "    gmsh.model.mesh.field.setNumber(2, \"DistMin\", 2 * r)\n",
        "    gmsh.model.mesh.field.setNumber(2, \"DistMax\", 4 * r)\n",
        "    gmsh.model.mesh.field.setAsBackgroundMesh(2)\n",
        "    # Generate mesh\n",
        "    gmsh.option.setNumber(\"Mesh.Algorithm\", 7)\n",
        "    gmsh.model.mesh.generate(gdim)"
      ],
      "metadata": {
        "id": "WMF_BbU8dCyM"
      },
      "id": "WMF_BbU8dCyM",
      "execution_count": null,
      "outputs": []
    },
    {
      "cell_type": "code",
      "source": [
        "from dolfinx.io.gmshio import model_to_mesh\n",
        "mesh, ct, _ = model_to_mesh(gmsh.model, mesh_comm, model_rank, gdim=2)\n",
        "gmsh.finalize()"
      ],
      "metadata": {
        "id": "SXgY_YN6dFcB"
      },
      "id": "SXgY_YN6dFcB",
      "execution_count": null,
      "outputs": []
    },
    {
      "cell_type": "code",
      "source": [
        "# Plot the entire mesh.\n",
        "multiphenicsx.io.plot_mesh(mesh)"
      ],
      "metadata": {
        "id": "E9oNVmRXdOUD",
        "outputId": "23802e49-cfe9-4217-e73b-5257f6c1eb43",
        "colab": {
          "base_uri": "https://localhost:8080/",
          "height": 717,
          "referenced_widgets": [
            "8bcc452738ff4813b750df076f4aaeba",
            "7fc4c45639fc41f5afb06515ad40b65e"
          ]
        }
      },
      "id": "E9oNVmRXdOUD",
      "execution_count": null,
      "outputs": [
        {
          "output_type": "display_data",
          "data": {
            "text/plain": [
              "Viewer(geometries=[{'vtkClass': 'vtkPolyData', 'points': {'vtkClass': 'vtkPoints', 'name': '_points', 'numberO…"
            ],
            "application/vnd.jupyter.widget-view+json": {
              "version_major": 2,
              "version_minor": 0,
              "model_id": "8bcc452738ff4813b750df076f4aaeba"
            }
          },
          "metadata": {
            "application/vnd.jupyter.widget-view+json": {
              "colab": {
                "custom_widget_manager": {
                  "url": "https://ssl.gstatic.com/colaboratory-static/widgets/colab-cdn-widget-manager/d2e234f7cc04bf79/manager.min.js"
                }
              }
            }
          }
        },
        {
          "output_type": "display_data",
          "data": {
            "text/plain": [
              "Viewer(geometries=[{'vtkClass': 'vtkPolyData', 'points': {'vtkClass': 'vtkPoints', 'name': '_points', 'numberO…"
            ],
            "application/vnd.jupyter.widget-view+json": {
              "version_major": 2,
              "version_minor": 0,
              "model_id": "8bcc452738ff4813b750df076f4aaeba"
            }
          },
          "metadata": {
            "application/vnd.jupyter.widget-view+json": {
              "colab": {
                "custom_widget_manager": {
                  "url": "https://ssl.gstatic.com/colaboratory-static/widgets/colab-cdn-widget-manager/d2e234f7cc04bf79/manager.min.js"
                }
              }
            }
          }
        }
      ]
    },
    {
      "cell_type": "code",
      "source": [
        "from dolfinx.fem import (dirichletbc, Expression, Function, FunctionSpace, \n",
        "                         VectorFunctionSpace, locate_dofs_topological)\n",
        "from dolfinx.fem.petsc import LinearProblem\n",
        "from dolfinx.mesh import locate_entities_boundary\n",
        "from ufl import TestFunction, TrialFunction, as_vector, dot, dx, grad, inner\n",
        "from petsc4py.PETSc import ScalarType\n",
        "\n",
        "Q = FunctionSpace(mesh, (\"DG\", 0))\n",
        "material_tags = np.unique(ct.values)\n",
        "mu = Function(Q)\n",
        "J = Function(Q)\n",
        "# As we only set some values in J, initialize all as 0\n",
        "J.x.array[:] = 0\n",
        "for tag in material_tags:\n",
        "    cells = ct.find(tag)\n",
        "    # Set values for mu\n",
        "    if tag == 0:\n",
        "        mu_ = 1 # Vacuum\n",
        "    elif tag == 1:\n",
        "        mu_ = 1 # Iron (This should really be 6.3e-3)\n",
        "    else:\n",
        "        mu_ = 10 # Copper\n",
        "    mu.x.array[cells] = np.full_like(cells, mu_, dtype=ScalarType)\n",
        "    if tag in range(2, 2+N):\n",
        "        J.x.array[cells] = np.full_like(cells, 1, dtype=ScalarType)\n",
        "    elif tag in range(2+N, 2*N + 2):\n",
        "        J.x.array[cells] = np.full_like(cells, -1, dtype=ScalarType)"
      ],
      "metadata": {
        "id": "NWzMA3MQdXv0"
      },
      "id": "NWzMA3MQdXv0",
      "execution_count": null,
      "outputs": []
    },
    {
      "cell_type": "code",
      "source": [
        "V = FunctionSpace(mesh, (\"Lagrange\", 2))\n",
        "tdim = mesh.topology.dim\n",
        "facets = locate_entities_boundary(mesh, tdim-1, lambda x: np.full(x.shape[1], True))\n",
        "dofs = locate_dofs_topological(V, tdim-1, facets)\n",
        "bc = dirichletbc(ScalarType(0), dofs, V)\n",
        "\n",
        "u = TrialFunction(V)\n",
        "v = TestFunction(V)\n",
        "a = (1 / mu) * dot(grad(u), grad(v)) * dx\n",
        "L = J * v * dx"
      ],
      "metadata": {
        "id": "BCkf3RavecLA"
      },
      "id": "BCkf3RavecLA",
      "execution_count": null,
      "outputs": []
    },
    {
      "cell_type": "code",
      "source": [
        "A_z = Function(V)\n",
        "problem = LinearProblem(a, L, u=A_z, bcs=[bc])\n",
        "problem.solve()"
      ],
      "metadata": {
        "id": "gExcMat2egJ9",
        "outputId": "c9ba2f3e-3a41-437a-b278-ca29fda22ad2",
        "colab": {
          "base_uri": "https://localhost:8080/"
        }
      },
      "id": "gExcMat2egJ9",
      "execution_count": null,
      "outputs": [
        {
          "output_type": "execute_result",
          "data": {
            "text/plain": [
              "Coefficient(FunctionSpace(Mesh(VectorElement(Basix element (P, triangle, 1, equispaced, unset, False), 2), 7), Basix element (P, triangle, 2, gll_warped, unset, False)), 71)"
            ]
          },
          "metadata": {},
          "execution_count": 190
        }
      ]
    },
    {
      "cell_type": "code",
      "source": [
        "W = VectorFunctionSpace(mesh, (\"CG\", 2))\n",
        "B = Function(W)\n",
        "B_expr = Expression(as_vector((A_z.dx(1), -A_z.dx(0))), W.element.interpolation_points())\n",
        "B.interpolate(B_expr)"
      ],
      "metadata": {
        "id": "6s_DnHRIeipN"
      },
      "id": "6s_DnHRIeipN",
      "execution_count": null,
      "outputs": []
    },
    {
      "cell_type": "code",
      "source": [
        "# Plot the entire mesh.\n",
        "multiphenicsx.io.plot_scalar_field(A_z,\"Vector Potential\", warp_factor=2)"
      ],
      "metadata": {
        "id": "I3LLHcRdeumt",
        "outputId": "5bd08dd6-9d74-41cd-d5bc-c2e1318c9d3a",
        "colab": {
          "base_uri": "https://localhost:8080/",
          "height": 717,
          "referenced_widgets": [
            "1508e7a3f4d241c591c46c5fa9b8bdef",
            "dd462690207e40199b87059ff13d668d"
          ]
        }
      },
      "id": "I3LLHcRdeumt",
      "execution_count": null,
      "outputs": [
        {
          "output_type": "display_data",
          "data": {
            "text/plain": [
              "Viewer(geometries=[{'vtkClass': 'vtkPolyData', 'points': {'vtkClass': 'vtkPoints', 'name': '_points', 'numberO…"
            ],
            "application/vnd.jupyter.widget-view+json": {
              "version_major": 2,
              "version_minor": 0,
              "model_id": "1508e7a3f4d241c591c46c5fa9b8bdef"
            }
          },
          "metadata": {
            "application/vnd.jupyter.widget-view+json": {
              "colab": {
                "custom_widget_manager": {
                  "url": "https://ssl.gstatic.com/colaboratory-static/widgets/colab-cdn-widget-manager/d2e234f7cc04bf79/manager.min.js"
                }
              }
            }
          }
        },
        {
          "output_type": "display_data",
          "data": {
            "text/plain": [
              "Viewer(geometries=[{'vtkClass': 'vtkPolyData', 'points': {'vtkClass': 'vtkPoints', 'name': '_points', 'numberO…"
            ],
            "application/vnd.jupyter.widget-view+json": {
              "version_major": 2,
              "version_minor": 0,
              "model_id": "1508e7a3f4d241c591c46c5fa9b8bdef"
            }
          },
          "metadata": {
            "application/vnd.jupyter.widget-view+json": {
              "colab": {
                "custom_widget_manager": {
                  "url": "https://ssl.gstatic.com/colaboratory-static/widgets/colab-cdn-widget-manager/d2e234f7cc04bf79/manager.min.js"
                }
              }
            }
          }
        }
      ]
    },
    {
      "cell_type": "code",
      "source": [
        "multiphenicsx.io.plot_vector_field(B,\"Magnetic Field\", glyph_factor=0.5)"
      ],
      "metadata": {
        "id": "3ZlxAwyBe479",
        "outputId": "80e57ec1-d652-498e-d89f-aa41b505f75c",
        "colab": {
          "base_uri": "https://localhost:8080/",
          "height": 717,
          "referenced_widgets": [
            "dc5499f9bf7e4f159edd533199eed6e7",
            "bc08ee16b5064a77bd6e70ee49d7d773"
          ]
        }
      },
      "id": "3ZlxAwyBe479",
      "execution_count": null,
      "outputs": [
        {
          "output_type": "display_data",
          "data": {
            "text/plain": [
              "Viewer(geometries=[{'vtkClass': 'vtkPolyData', 'points': {'vtkClass': 'vtkPoints', 'name': '_points', 'numberO…"
            ],
            "application/vnd.jupyter.widget-view+json": {
              "version_major": 2,
              "version_minor": 0,
              "model_id": "dc5499f9bf7e4f159edd533199eed6e7"
            }
          },
          "metadata": {
            "application/vnd.jupyter.widget-view+json": {
              "colab": {
                "custom_widget_manager": {
                  "url": "https://ssl.gstatic.com/colaboratory-static/widgets/colab-cdn-widget-manager/d2e234f7cc04bf79/manager.min.js"
                }
              }
            }
          }
        },
        {
          "output_type": "display_data",
          "data": {
            "text/plain": [
              "Viewer(geometries=[{'vtkClass': 'vtkPolyData', 'points': {'vtkClass': 'vtkPoints', 'name': '_points', 'numberO…"
            ],
            "application/vnd.jupyter.widget-view+json": {
              "version_major": 2,
              "version_minor": 0,
              "model_id": "dc5499f9bf7e4f159edd533199eed6e7"
            }
          },
          "metadata": {
            "application/vnd.jupyter.widget-view+json": {
              "colab": {
                "custom_widget_manager": {
                  "url": "https://ssl.gstatic.com/colaboratory-static/widgets/colab-cdn-widget-manager/d2e234f7cc04bf79/manager.min.js"
                }
              }
            }
          }
        }
      ]
    },
    {
      "cell_type": "code",
      "source": [],
      "metadata": {
        "id": "dstBIHu2gAAR"
      },
      "id": "dstBIHu2gAAR",
      "execution_count": null,
      "outputs": []
    }
  ],
  "metadata": {
    "kernelspec": {
      "display_name": "Python 3 (ipykernel)",
      "language": "python",
      "name": "python3"
    },
    "language_info": {
      "codemirror_mode": {
        "name": "ipython"
      },
      "file_extension": ".py",
      "mimetype": "text/x-python",
      "name": "python",
      "nbconvert_exporter": "python"
    },
    "colab": {
      "provenance": [],
      "include_colab_link": true
    },
    "widgets": {
      "application/vnd.jupyter.widget-state+json": {
        "e7694ab95b0c44659d7d79110785ac50": {
          "model_module": "itkwidgets",
          "model_name": "ViewerModel",
          "model_module_version": "^0.32.3",
          "state": {
            "_custom_cmap": null,
            "_dom_classes": [],
            "_downsampling": false,
            "_largest_roi": {
              "shape": [
                2,
                3
              ],
              "dtype": "float64"
            },
            "_model_module": "itkwidgets",
            "_model_module_version": "^0.32.3",
            "_model_name": "ViewerModel",
            "_rendering_image": false,
            "_reset_crop_requested": false,
            "_scale_factors": {
              "shape": [
                3
              ],
              "dtype": "uint8"
            },
            "_view_count": null,
            "_view_module": "itkwidgets",
            "_view_module_version": "^0.32.3",
            "_view_name": "ViewerView",
            "annotations": true,
            "axes": false,
            "background": [
              0.2196078431372549,
              0.2196078431372549,
              0.2196078431372549
            ],
            "blend_mode": "composite",
            "camera": {
              "shape": [
                3,
                3
              ],
              "dtype": "float32"
            },
            "channels": [],
            "clicked_slice_point": null,
            "cmap": null,
            "geometries": [
              {
                "vtkClass": "vtkPolyData",
                "points": {
                  "vtkClass": "vtkPoints",
                  "name": "_points",
                  "numberOfComponents": 3,
                  "dataType": "Float32Array",
                  "size": 1539
                },
                "polys": {
                  "vtkClass": "vtkCellArray",
                  "name": "_polys",
                  "numberOfComponents": 1,
                  "size": 3776,
                  "dataType": "Uint32Array"
                },
                "metadata": {
                  "name": "Geometry 0"
                }
              }
            ],
            "geometry_colors": {
              "shape": [
                1,
                3
              ],
              "dtype": "float32"
            },
            "geometry_opacities": {
              "shape": [
                1
              ],
              "dtype": "float32"
            },
            "gradient_opacity": 0.2,
            "interpolation": true,
            "label_image_blend": 0.5,
            "label_image_names": null,
            "label_image_weights": null,
            "layout": "IPY_MODEL_8cb3b67cb9f7451ea22cd195a60675b2",
            "lut": "glasbey",
            "mode": "v",
            "opacity_gaussians": null,
            "point_set_colors": {
              "shape": [
                0,
                3
              ],
              "dtype": "float32"
            },
            "point_set_opacities": {
              "shape": [
                0
              ],
              "dtype": "float32"
            },
            "point_set_representations": [],
            "point_set_sizes": {
              "shape": [
                0
              ],
              "dtype": "uint8"
            },
            "point_sets": [],
            "rendered_image": null,
            "rendered_label_image": null,
            "roi": {
              "shape": [
                2,
                3
              ],
              "dtype": "float64"
            },
            "rotate": false,
            "sample_distance": 0.25,
            "select_roi": false,
            "shadow": true,
            "slicing_planes": false,
            "ui_collapsed": false,
            "units": "",
            "vmax": null,
            "vmin": null,
            "x_slice": null,
            "y_slice": null,
            "z_slice": null
          }
        },
        "8cb3b67cb9f7451ea22cd195a60675b2": {
          "model_module": "@jupyter-widgets/base",
          "model_name": "LayoutModel",
          "model_module_version": "1.2.0",
          "state": {
            "_model_module": "@jupyter-widgets/base",
            "_model_module_version": "1.2.0",
            "_model_name": "LayoutModel",
            "_view_count": null,
            "_view_module": "@jupyter-widgets/base",
            "_view_module_version": "1.2.0",
            "_view_name": "LayoutView",
            "align_content": null,
            "align_items": null,
            "align_self": null,
            "border": null,
            "bottom": null,
            "display": null,
            "flex": null,
            "flex_flow": null,
            "grid_area": null,
            "grid_auto_columns": null,
            "grid_auto_flow": null,
            "grid_auto_rows": null,
            "grid_column": null,
            "grid_gap": null,
            "grid_row": null,
            "grid_template_areas": null,
            "grid_template_columns": null,
            "grid_template_rows": null,
            "height": null,
            "justify_content": null,
            "justify_items": null,
            "left": null,
            "margin": null,
            "max_height": null,
            "max_width": null,
            "min_height": null,
            "min_width": null,
            "object_fit": null,
            "object_position": null,
            "order": null,
            "overflow": null,
            "overflow_x": null,
            "overflow_y": null,
            "padding": null,
            "right": null,
            "top": null,
            "visibility": null,
            "width": null
          }
        },
        "feb9f64e41a0438a98876ac6f691a4da": {
          "model_module": "itkwidgets",
          "model_name": "ViewerModel",
          "model_module_version": "^0.32.3",
          "state": {
            "_custom_cmap": null,
            "_dom_classes": [],
            "_downsampling": false,
            "_largest_roi": {
              "shape": [
                2,
                3
              ],
              "dtype": "float64"
            },
            "_model_module": "itkwidgets",
            "_model_module_version": "^0.32.3",
            "_model_name": "ViewerModel",
            "_rendering_image": false,
            "_reset_crop_requested": false,
            "_scale_factors": {
              "shape": [
                3
              ],
              "dtype": "uint8"
            },
            "_view_count": null,
            "_view_module": "itkwidgets",
            "_view_module_version": "^0.32.3",
            "_view_name": "ViewerView",
            "annotations": true,
            "axes": false,
            "background": [
              0.2196078431372549,
              0.2196078431372549,
              0.2196078431372549
            ],
            "blend_mode": "composite",
            "camera": {
              "shape": [
                3,
                3
              ],
              "dtype": "float32"
            },
            "channels": [],
            "clicked_slice_point": null,
            "cmap": null,
            "geometries": [
              {
                "vtkClass": "vtkPolyData",
                "points": {
                  "vtkClass": "vtkPoints",
                  "name": "_points",
                  "numberOfComponents": 3,
                  "dataType": "Float32Array",
                  "size": 1539
                },
                "polys": {
                  "vtkClass": "vtkCellArray",
                  "name": "_polys",
                  "numberOfComponents": 1,
                  "size": 3776,
                  "dataType": "Uint32Array"
                },
                "cellData": {
                  "vtkClass": "vtkDataSetAttributes",
                  "activeScalars": 0,
                  "arrays": [
                    {
                      "data": {
                        "vtkClass": "vtkDataArray",
                        "name": "Subdomains",
                        "numberOfComponents": 1,
                        "size": 944,
                        "dataType": "Float64Array"
                      }
                    }
                  ]
                },
                "metadata": {
                  "name": "Geometry 0"
                }
              }
            ],
            "geometry_colors": {
              "shape": [
                1,
                3
              ],
              "dtype": "float32"
            },
            "geometry_opacities": {
              "shape": [
                1
              ],
              "dtype": "float32"
            },
            "gradient_opacity": 0.2,
            "interpolation": true,
            "label_image_blend": 0.5,
            "label_image_names": null,
            "label_image_weights": null,
            "layout": "IPY_MODEL_98d4c640fb194729907b962215c1dea3",
            "lut": "glasbey",
            "mode": "v",
            "opacity_gaussians": null,
            "point_set_colors": {
              "shape": [
                0,
                3
              ],
              "dtype": "float32"
            },
            "point_set_opacities": {
              "shape": [
                0
              ],
              "dtype": "float32"
            },
            "point_set_representations": [],
            "point_set_sizes": {
              "shape": [
                0
              ],
              "dtype": "uint8"
            },
            "point_sets": [],
            "rendered_image": null,
            "rendered_label_image": null,
            "roi": {
              "shape": [
                2,
                3
              ],
              "dtype": "float64"
            },
            "rotate": false,
            "sample_distance": 0.25,
            "select_roi": false,
            "shadow": true,
            "slicing_planes": false,
            "ui_collapsed": true,
            "units": "",
            "vmax": null,
            "vmin": null,
            "x_slice": null,
            "y_slice": null,
            "z_slice": null
          }
        },
        "98d4c640fb194729907b962215c1dea3": {
          "model_module": "@jupyter-widgets/base",
          "model_name": "LayoutModel",
          "model_module_version": "1.2.0",
          "state": {
            "_model_module": "@jupyter-widgets/base",
            "_model_module_version": "1.2.0",
            "_model_name": "LayoutModel",
            "_view_count": null,
            "_view_module": "@jupyter-widgets/base",
            "_view_module_version": "1.2.0",
            "_view_name": "LayoutView",
            "align_content": null,
            "align_items": null,
            "align_self": null,
            "border": null,
            "bottom": null,
            "display": null,
            "flex": null,
            "flex_flow": null,
            "grid_area": null,
            "grid_auto_columns": null,
            "grid_auto_flow": null,
            "grid_auto_rows": null,
            "grid_column": null,
            "grid_gap": null,
            "grid_row": null,
            "grid_template_areas": null,
            "grid_template_columns": null,
            "grid_template_rows": null,
            "height": null,
            "justify_content": null,
            "justify_items": null,
            "left": null,
            "margin": null,
            "max_height": null,
            "max_width": null,
            "min_height": null,
            "min_width": null,
            "object_fit": null,
            "object_position": null,
            "order": null,
            "overflow": null,
            "overflow_x": null,
            "overflow_y": null,
            "padding": null,
            "right": null,
            "top": null,
            "visibility": null,
            "width": null
          }
        },
        "f08db32e415d422194f6b596553b73c3": {
          "model_module": "itkwidgets",
          "model_name": "ViewerModel",
          "model_module_version": "^0.32.3",
          "state": {
            "_custom_cmap": null,
            "_dom_classes": [],
            "_downsampling": false,
            "_largest_roi": {
              "shape": [
                2,
                3
              ],
              "dtype": "float64"
            },
            "_model_module": "itkwidgets",
            "_model_module_version": "^0.32.3",
            "_model_name": "ViewerModel",
            "_rendering_image": false,
            "_reset_crop_requested": false,
            "_scale_factors": {
              "shape": [
                3
              ],
              "dtype": "uint8"
            },
            "_view_count": null,
            "_view_module": "itkwidgets",
            "_view_module_version": "^0.32.3",
            "_view_name": "ViewerView",
            "annotations": true,
            "axes": false,
            "background": [
              0.2196078431372549,
              0.2196078431372549,
              0.2196078431372549
            ],
            "blend_mode": "composite",
            "camera": {
              "shape": [
                3,
                3
              ],
              "dtype": "float32"
            },
            "channels": [],
            "clicked_slice_point": null,
            "cmap": null,
            "geometries": [
              {
                "vtkClass": "vtkPolyData",
                "points": {
                  "vtkClass": "vtkPoints",
                  "name": "_points",
                  "numberOfComponents": 3,
                  "dataType": "Float32Array",
                  "size": 1539
                },
                "lines": {
                  "vtkClass": "vtkCellArray",
                  "name": "_lines",
                  "numberOfComponents": 1,
                  "size": 4368,
                  "dataType": "Uint32Array"
                },
                "cellData": {
                  "vtkClass": "vtkDataSetAttributes",
                  "activeScalars": 0,
                  "arrays": [
                    {
                      "data": {
                        "vtkClass": "vtkDataArray",
                        "name": "Boundaries",
                        "numberOfComponents": 1,
                        "size": 1456,
                        "dataType": "Float64Array"
                      }
                    }
                  ]
                },
                "metadata": {
                  "name": "Geometry 0"
                }
              }
            ],
            "geometry_colors": {
              "shape": [
                1,
                3
              ],
              "dtype": "float32"
            },
            "geometry_opacities": {
              "shape": [
                1
              ],
              "dtype": "float32"
            },
            "gradient_opacity": 0.2,
            "interpolation": true,
            "label_image_blend": 0.5,
            "label_image_names": null,
            "label_image_weights": null,
            "layout": "IPY_MODEL_d9d9d825e43343a5aa218cf1bb06ae7d",
            "lut": "glasbey",
            "mode": "v",
            "opacity_gaussians": null,
            "point_set_colors": {
              "shape": [
                0,
                3
              ],
              "dtype": "float32"
            },
            "point_set_opacities": {
              "shape": [
                0
              ],
              "dtype": "float32"
            },
            "point_set_representations": [],
            "point_set_sizes": {
              "shape": [
                0
              ],
              "dtype": "uint8"
            },
            "point_sets": [],
            "rendered_image": null,
            "rendered_label_image": null,
            "roi": {
              "shape": [
                2,
                3
              ],
              "dtype": "float64"
            },
            "rotate": false,
            "sample_distance": 0.25,
            "select_roi": false,
            "shadow": true,
            "slicing_planes": false,
            "ui_collapsed": true,
            "units": "",
            "vmax": null,
            "vmin": null,
            "x_slice": null,
            "y_slice": null,
            "z_slice": null
          }
        },
        "d9d9d825e43343a5aa218cf1bb06ae7d": {
          "model_module": "@jupyter-widgets/base",
          "model_name": "LayoutModel",
          "model_module_version": "1.2.0",
          "state": {
            "_model_module": "@jupyter-widgets/base",
            "_model_module_version": "1.2.0",
            "_model_name": "LayoutModel",
            "_view_count": null,
            "_view_module": "@jupyter-widgets/base",
            "_view_module_version": "1.2.0",
            "_view_name": "LayoutView",
            "align_content": null,
            "align_items": null,
            "align_self": null,
            "border": null,
            "bottom": null,
            "display": null,
            "flex": null,
            "flex_flow": null,
            "grid_area": null,
            "grid_auto_columns": null,
            "grid_auto_flow": null,
            "grid_auto_rows": null,
            "grid_column": null,
            "grid_gap": null,
            "grid_row": null,
            "grid_template_areas": null,
            "grid_template_columns": null,
            "grid_template_rows": null,
            "height": null,
            "justify_content": null,
            "justify_items": null,
            "left": null,
            "margin": null,
            "max_height": null,
            "max_width": null,
            "min_height": null,
            "min_width": null,
            "object_fit": null,
            "object_position": null,
            "order": null,
            "overflow": null,
            "overflow_x": null,
            "overflow_y": null,
            "padding": null,
            "right": null,
            "top": null,
            "visibility": null,
            "width": null
          }
        },
        "a2444d5c2ae44799884175f54b5bcc5a": {
          "model_module": "itkwidgets",
          "model_name": "ViewerModel",
          "model_module_version": "^0.32.3",
          "state": {
            "_custom_cmap": null,
            "_dom_classes": [],
            "_downsampling": false,
            "_largest_roi": {
              "shape": [
                2,
                3
              ],
              "dtype": "float64"
            },
            "_model_module": "itkwidgets",
            "_model_module_version": "^0.32.3",
            "_model_name": "ViewerModel",
            "_rendering_image": false,
            "_reset_crop_requested": false,
            "_scale_factors": {
              "shape": [
                3
              ],
              "dtype": "uint8"
            },
            "_view_count": null,
            "_view_module": "itkwidgets",
            "_view_module_version": "^0.32.3",
            "_view_name": "ViewerView",
            "annotations": true,
            "axes": false,
            "background": [
              0.2196078431372549,
              0.2196078431372549,
              0.2196078431372549
            ],
            "blend_mode": "composite",
            "camera": {
              "shape": [
                3,
                3
              ],
              "dtype": "float32"
            },
            "channels": [],
            "clicked_slice_point": null,
            "cmap": null,
            "geometries": [
              {
                "vtkClass": "vtkPolyData",
                "points": {
                  "vtkClass": "vtkPoints",
                  "name": "_points",
                  "numberOfComponents": 3,
                  "dataType": "Float32Array",
                  "size": 1539
                },
                "lines": {
                  "vtkClass": "vtkCellArray",
                  "name": "_lines",
                  "numberOfComponents": 1,
                  "size": 4368,
                  "dataType": "Uint32Array"
                },
                "cellData": {
                  "vtkClass": "vtkDataSetAttributes",
                  "activeScalars": 0,
                  "arrays": [
                    {
                      "data": {
                        "vtkClass": "vtkDataArray",
                        "name": "Boundaries",
                        "numberOfComponents": 1,
                        "size": 1456,
                        "dataType": "Float64Array"
                      }
                    }
                  ]
                },
                "metadata": {
                  "name": "Geometry 0"
                }
              }
            ],
            "geometry_colors": {
              "shape": [
                1,
                3
              ],
              "dtype": "float32"
            },
            "geometry_opacities": {
              "shape": [
                1
              ],
              "dtype": "float32"
            },
            "gradient_opacity": 0.2,
            "interpolation": true,
            "label_image_blend": 0.5,
            "label_image_names": null,
            "label_image_weights": null,
            "layout": "IPY_MODEL_442a56ceea9d4c46a5ed2ea9b39c4200",
            "lut": "glasbey",
            "mode": "v",
            "opacity_gaussians": null,
            "point_set_colors": {
              "shape": [
                0,
                3
              ],
              "dtype": "float32"
            },
            "point_set_opacities": {
              "shape": [
                0
              ],
              "dtype": "float32"
            },
            "point_set_representations": [],
            "point_set_sizes": {
              "shape": [
                0
              ],
              "dtype": "uint8"
            },
            "point_sets": [],
            "rendered_image": null,
            "rendered_label_image": null,
            "roi": {
              "shape": [
                2,
                3
              ],
              "dtype": "float64"
            },
            "rotate": false,
            "sample_distance": 0.25,
            "select_roi": false,
            "shadow": true,
            "slicing_planes": false,
            "ui_collapsed": true,
            "units": "",
            "vmax": null,
            "vmin": null,
            "x_slice": null,
            "y_slice": null,
            "z_slice": null
          }
        },
        "442a56ceea9d4c46a5ed2ea9b39c4200": {
          "model_module": "@jupyter-widgets/base",
          "model_name": "LayoutModel",
          "model_module_version": "1.2.0",
          "state": {
            "_model_module": "@jupyter-widgets/base",
            "_model_module_version": "1.2.0",
            "_model_name": "LayoutModel",
            "_view_count": null,
            "_view_module": "@jupyter-widgets/base",
            "_view_module_version": "1.2.0",
            "_view_name": "LayoutView",
            "align_content": null,
            "align_items": null,
            "align_self": null,
            "border": null,
            "bottom": null,
            "display": null,
            "flex": null,
            "flex_flow": null,
            "grid_area": null,
            "grid_auto_columns": null,
            "grid_auto_flow": null,
            "grid_auto_rows": null,
            "grid_column": null,
            "grid_gap": null,
            "grid_row": null,
            "grid_template_areas": null,
            "grid_template_columns": null,
            "grid_template_rows": null,
            "height": null,
            "justify_content": null,
            "justify_items": null,
            "left": null,
            "margin": null,
            "max_height": null,
            "max_width": null,
            "min_height": null,
            "min_width": null,
            "object_fit": null,
            "object_position": null,
            "order": null,
            "overflow": null,
            "overflow_x": null,
            "overflow_y": null,
            "padding": null,
            "right": null,
            "top": null,
            "visibility": null,
            "width": null
          }
        },
        "d21b38528ccd48e19a5469f5e2d938fe": {
          "model_module": "itkwidgets",
          "model_name": "ViewerModel",
          "model_module_version": "^0.32.3",
          "state": {
            "_custom_cmap": null,
            "_dom_classes": [],
            "_downsampling": false,
            "_largest_roi": {
              "shape": [
                2,
                3
              ],
              "dtype": "float64"
            },
            "_model_module": "itkwidgets",
            "_model_module_version": "^0.32.3",
            "_model_name": "ViewerModel",
            "_rendering_image": false,
            "_reset_crop_requested": false,
            "_scale_factors": {
              "shape": [
                3
              ],
              "dtype": "uint8"
            },
            "_view_count": null,
            "_view_module": "itkwidgets",
            "_view_module_version": "^0.32.3",
            "_view_name": "ViewerView",
            "annotations": true,
            "axes": false,
            "background": [
              0.2196078431372549,
              0.2196078431372549,
              0.2196078431372549
            ],
            "blend_mode": "composite",
            "camera": {
              "shape": [
                3,
                3
              ],
              "dtype": "float32"
            },
            "channels": [],
            "clicked_slice_point": null,
            "cmap": null,
            "geometries": [
              {
                "vtkClass": "vtkPolyData",
                "points": {
                  "vtkClass": "vtkPoints",
                  "name": "_points",
                  "numberOfComponents": 3,
                  "dataType": "Float32Array",
                  "size": 5907
                },
                "polys": {
                  "vtkClass": "vtkCellArray",
                  "name": "_polys",
                  "numberOfComponents": 1,
                  "size": 15104,
                  "dataType": "Uint32Array"
                },
                "pointData": {
                  "vtkClass": "vtkDataSetAttributes",
                  "activeScalars": 0,
                  "arrays": [
                    {
                      "data": {
                        "vtkClass": "vtkDataArray",
                        "name": "Potential",
                        "numberOfComponents": 1,
                        "size": 1969,
                        "dataType": "Float64Array"
                      }
                    }
                  ]
                },
                "metadata": {
                  "name": "Geometry 0"
                }
              }
            ],
            "geometry_colors": {
              "shape": [
                1,
                3
              ],
              "dtype": "float32"
            },
            "geometry_opacities": {
              "shape": [
                1
              ],
              "dtype": "float32"
            },
            "gradient_opacity": 0.2,
            "interpolation": true,
            "label_image_blend": 0.5,
            "label_image_names": null,
            "label_image_weights": null,
            "layout": "IPY_MODEL_891fc8c97923479c8ccaf1cf472f91d1",
            "lut": "glasbey",
            "mode": "v",
            "opacity_gaussians": null,
            "point_set_colors": {
              "shape": [
                0,
                3
              ],
              "dtype": "float32"
            },
            "point_set_opacities": {
              "shape": [
                0
              ],
              "dtype": "float32"
            },
            "point_set_representations": [],
            "point_set_sizes": {
              "shape": [
                0
              ],
              "dtype": "uint8"
            },
            "point_sets": [],
            "rendered_image": null,
            "rendered_label_image": null,
            "roi": {
              "shape": [
                2,
                3
              ],
              "dtype": "float64"
            },
            "rotate": false,
            "sample_distance": 0.25,
            "select_roi": false,
            "shadow": true,
            "slicing_planes": false,
            "ui_collapsed": false,
            "units": "",
            "vmax": null,
            "vmin": null,
            "x_slice": null,
            "y_slice": null,
            "z_slice": null
          }
        },
        "891fc8c97923479c8ccaf1cf472f91d1": {
          "model_module": "@jupyter-widgets/base",
          "model_name": "LayoutModel",
          "model_module_version": "1.2.0",
          "state": {
            "_model_module": "@jupyter-widgets/base",
            "_model_module_version": "1.2.0",
            "_model_name": "LayoutModel",
            "_view_count": null,
            "_view_module": "@jupyter-widgets/base",
            "_view_module_version": "1.2.0",
            "_view_name": "LayoutView",
            "align_content": null,
            "align_items": null,
            "align_self": null,
            "border": null,
            "bottom": null,
            "display": null,
            "flex": null,
            "flex_flow": null,
            "grid_area": null,
            "grid_auto_columns": null,
            "grid_auto_flow": null,
            "grid_auto_rows": null,
            "grid_column": null,
            "grid_gap": null,
            "grid_row": null,
            "grid_template_areas": null,
            "grid_template_columns": null,
            "grid_template_rows": null,
            "height": null,
            "justify_content": null,
            "justify_items": null,
            "left": null,
            "margin": null,
            "max_height": null,
            "max_width": null,
            "min_height": null,
            "min_width": null,
            "object_fit": null,
            "object_position": null,
            "order": null,
            "overflow": null,
            "overflow_x": null,
            "overflow_y": null,
            "padding": null,
            "right": null,
            "top": null,
            "visibility": null,
            "width": null
          }
        },
        "9461de862bcb4ab69d0d6112f0fd3b0b": {
          "model_module": "itkwidgets",
          "model_name": "ViewerModel",
          "model_module_version": "^0.32.3",
          "state": {
            "_custom_cmap": null,
            "_dom_classes": [],
            "_downsampling": false,
            "_largest_roi": {
              "shape": [
                2,
                3
              ],
              "dtype": "float64"
            },
            "_model_module": "itkwidgets",
            "_model_module_version": "^0.32.3",
            "_model_name": "ViewerModel",
            "_rendering_image": false,
            "_reset_crop_requested": false,
            "_scale_factors": {
              "shape": [
                3
              ],
              "dtype": "uint8"
            },
            "_view_count": null,
            "_view_module": "itkwidgets",
            "_view_module_version": "^0.32.3",
            "_view_name": "ViewerView",
            "annotations": false,
            "axes": true,
            "background": [
              1,
              1,
              1
            ],
            "blend_mode": "composite",
            "camera": {
              "shape": [
                3,
                3
              ],
              "dtype": "float32"
            },
            "channels": [],
            "clicked_slice_point": null,
            "cmap": null,
            "geometries": [
              {
                "vtkClass": "vtkPolyData",
                "points": {
                  "vtkClass": "vtkPoints",
                  "name": "_points",
                  "numberOfComponents": 3,
                  "dataType": "Float32Array",
                  "size": 5907
                },
                "polys": {
                  "vtkClass": "vtkCellArray",
                  "name": "_polys",
                  "numberOfComponents": 1,
                  "size": 15104,
                  "dataType": "Uint32Array"
                },
                "pointData": {
                  "vtkClass": "vtkDataSetAttributes",
                  "activeScalars": 0,
                  "arrays": [
                    {
                      "data": {
                        "vtkClass": "vtkDataArray",
                        "name": "Potential",
                        "numberOfComponents": 1,
                        "size": 1969,
                        "dataType": "Float64Array"
                      }
                    }
                  ]
                },
                "metadata": {
                  "name": "Geometry 0"
                }
              }
            ],
            "geometry_colors": {
              "shape": [
                1,
                3
              ],
              "dtype": "float32"
            },
            "geometry_opacities": {
              "shape": [
                1
              ],
              "dtype": "float32"
            },
            "gradient_opacity": 0.2,
            "interpolation": true,
            "label_image_blend": 0.5,
            "label_image_names": null,
            "label_image_weights": null,
            "layout": "IPY_MODEL_7b9132ca1bc2427abb9f18c3bfe570ac",
            "lut": "glasbey",
            "mode": "v",
            "opacity_gaussians": null,
            "point_set_colors": {
              "shape": [
                0,
                3
              ],
              "dtype": "float32"
            },
            "point_set_opacities": {
              "shape": [
                0
              ],
              "dtype": "float32"
            },
            "point_set_representations": [],
            "point_set_sizes": {
              "shape": [
                0
              ],
              "dtype": "uint8"
            },
            "point_sets": [],
            "rendered_image": null,
            "rendered_label_image": null,
            "roi": {
              "shape": [
                2,
                3
              ],
              "dtype": "float64"
            },
            "rotate": false,
            "sample_distance": 0.25,
            "select_roi": false,
            "shadow": true,
            "slicing_planes": false,
            "ui_collapsed": true,
            "units": "",
            "vmax": null,
            "vmin": null,
            "x_slice": null,
            "y_slice": null,
            "z_slice": null
          }
        },
        "7b9132ca1bc2427abb9f18c3bfe570ac": {
          "model_module": "@jupyter-widgets/base",
          "model_name": "LayoutModel",
          "model_module_version": "1.2.0",
          "state": {
            "_model_module": "@jupyter-widgets/base",
            "_model_module_version": "1.2.0",
            "_model_name": "LayoutModel",
            "_view_count": null,
            "_view_module": "@jupyter-widgets/base",
            "_view_module_version": "1.2.0",
            "_view_name": "LayoutView",
            "align_content": null,
            "align_items": null,
            "align_self": null,
            "border": null,
            "bottom": null,
            "display": null,
            "flex": null,
            "flex_flow": null,
            "grid_area": null,
            "grid_auto_columns": null,
            "grid_auto_flow": null,
            "grid_auto_rows": null,
            "grid_column": null,
            "grid_gap": null,
            "grid_row": null,
            "grid_template_areas": null,
            "grid_template_columns": null,
            "grid_template_rows": null,
            "height": null,
            "justify_content": null,
            "justify_items": null,
            "left": null,
            "margin": null,
            "max_height": null,
            "max_width": null,
            "min_height": null,
            "min_width": null,
            "object_fit": null,
            "object_position": null,
            "order": null,
            "overflow": null,
            "overflow_x": null,
            "overflow_y": null,
            "padding": null,
            "right": null,
            "top": null,
            "visibility": null,
            "width": null
          }
        },
        "954070460a314f79870d5eef6a348251": {
          "model_module": "itkwidgets",
          "model_name": "ViewerModel",
          "model_module_version": "^0.32.3",
          "state": {
            "_custom_cmap": null,
            "_dom_classes": [],
            "_downsampling": false,
            "_largest_roi": {
              "shape": [
                2,
                3
              ],
              "dtype": "float64"
            },
            "_model_module": "itkwidgets",
            "_model_module_version": "^0.32.3",
            "_model_name": "ViewerModel",
            "_rendering_image": false,
            "_reset_crop_requested": false,
            "_scale_factors": {
              "shape": [
                3
              ],
              "dtype": "uint8"
            },
            "_view_count": null,
            "_view_module": "itkwidgets",
            "_view_module_version": "^0.32.3",
            "_view_name": "ViewerView",
            "annotations": true,
            "axes": false,
            "background": [
              1,
              1,
              1
            ],
            "blend_mode": "composite",
            "camera": {
              "shape": [
                3,
                3
              ],
              "dtype": "float32"
            },
            "channels": [],
            "clicked_slice_point": null,
            "cmap": null,
            "geometries": [
              {
                "vtkClass": "vtkPolyData",
                "points": {
                  "vtkClass": "vtkPoints",
                  "name": "_points",
                  "numberOfComponents": 3,
                  "dataType": "Float32Array",
                  "size": 183117
                },
                "polys": {
                  "vtkClass": "vtkCellArray",
                  "name": "_polys",
                  "numberOfComponents": 1,
                  "size": 147675,
                  "dataType": "Uint32Array"
                },
                "pointData": {
                  "vtkClass": "vtkDataSetAttributes",
                  "activeScalars": 0,
                  "activeVectors": 1,
                  "arrays": [
                    {
                      "data": {
                        "vtkClass": "vtkDataArray",
                        "name": "GlyphScale",
                        "numberOfComponents": 1,
                        "size": 61039,
                        "dataType": "Float32Array"
                      }
                    },
                    {
                      "data": {
                        "vtkClass": "vtkDataArray",
                        "name": "GlyphVector",
                        "numberOfComponents": 3,
                        "size": 183117,
                        "dataType": "Float32Array"
                      }
                    }
                  ]
                },
                "metadata": {
                  "name": "Geometry 0"
                }
              },
              {
                "vtkClass": "vtkPolyData",
                "points": {
                  "vtkClass": "vtkPoints",
                  "name": "_points",
                  "numberOfComponents": 3,
                  "dataType": "Float32Array",
                  "size": 1539
                },
                "lines": {
                  "vtkClass": "vtkCellArray",
                  "name": "_lines",
                  "numberOfComponents": 1,
                  "size": 4368,
                  "dataType": "Uint32Array"
                },
                "metadata": {
                  "name": "Geometry 1"
                }
              }
            ],
            "geometry_colors": {
              "shape": [
                2,
                3
              ],
              "dtype": "float32"
            },
            "geometry_opacities": {
              "shape": [
                2
              ],
              "dtype": "float32"
            },
            "gradient_opacity": 0.2,
            "interpolation": true,
            "label_image_blend": 0.5,
            "label_image_names": null,
            "label_image_weights": null,
            "layout": "IPY_MODEL_93835dcb0f3c4e9db1fb2a11a37f37f7",
            "lut": "glasbey",
            "mode": "v",
            "opacity_gaussians": null,
            "point_set_colors": {
              "shape": [
                0,
                3
              ],
              "dtype": "float32"
            },
            "point_set_opacities": {
              "shape": [
                0
              ],
              "dtype": "float32"
            },
            "point_set_representations": [],
            "point_set_sizes": {
              "shape": [
                0
              ],
              "dtype": "uint8"
            },
            "point_sets": [],
            "rendered_image": null,
            "rendered_label_image": null,
            "roi": {
              "shape": [
                2,
                3
              ],
              "dtype": "float64"
            },
            "rotate": false,
            "sample_distance": 0.25,
            "select_roi": false,
            "shadow": true,
            "slicing_planes": false,
            "ui_collapsed": false,
            "units": "",
            "vmax": null,
            "vmin": null,
            "x_slice": null,
            "y_slice": null,
            "z_slice": null
          }
        },
        "93835dcb0f3c4e9db1fb2a11a37f37f7": {
          "model_module": "@jupyter-widgets/base",
          "model_name": "LayoutModel",
          "model_module_version": "1.2.0",
          "state": {
            "_model_module": "@jupyter-widgets/base",
            "_model_module_version": "1.2.0",
            "_model_name": "LayoutModel",
            "_view_count": null,
            "_view_module": "@jupyter-widgets/base",
            "_view_module_version": "1.2.0",
            "_view_name": "LayoutView",
            "align_content": null,
            "align_items": null,
            "align_self": null,
            "border": null,
            "bottom": null,
            "display": null,
            "flex": null,
            "flex_flow": null,
            "grid_area": null,
            "grid_auto_columns": null,
            "grid_auto_flow": null,
            "grid_auto_rows": null,
            "grid_column": null,
            "grid_gap": null,
            "grid_row": null,
            "grid_template_areas": null,
            "grid_template_columns": null,
            "grid_template_rows": null,
            "height": null,
            "justify_content": null,
            "justify_items": null,
            "left": null,
            "margin": null,
            "max_height": null,
            "max_width": null,
            "min_height": null,
            "min_width": null,
            "object_fit": null,
            "object_position": null,
            "order": null,
            "overflow": null,
            "overflow_x": null,
            "overflow_y": null,
            "padding": null,
            "right": null,
            "top": null,
            "visibility": null,
            "width": null
          }
        },
        "8bcc452738ff4813b750df076f4aaeba": {
          "model_module": "itkwidgets",
          "model_name": "ViewerModel",
          "model_module_version": "^0.32.3",
          "state": {
            "_custom_cmap": null,
            "_dom_classes": [],
            "_downsampling": false,
            "_largest_roi": {
              "shape": [
                2,
                3
              ],
              "dtype": "float64"
            },
            "_model_module": "itkwidgets",
            "_model_module_version": "^0.32.3",
            "_model_name": "ViewerModel",
            "_rendering_image": false,
            "_reset_crop_requested": false,
            "_scale_factors": {
              "shape": [
                3
              ],
              "dtype": "uint8"
            },
            "_view_count": null,
            "_view_module": "itkwidgets",
            "_view_module_version": "^0.32.3",
            "_view_name": "ViewerView",
            "annotations": true,
            "axes": false,
            "background": [
              0,
              0,
              0
            ],
            "blend_mode": "composite",
            "camera": {
              "shape": [
                3,
                3
              ],
              "dtype": "float32"
            },
            "channels": [],
            "clicked_slice_point": null,
            "cmap": null,
            "geometries": [
              {
                "vtkClass": "vtkPolyData",
                "points": {
                  "vtkClass": "vtkPoints",
                  "name": "_points",
                  "numberOfComponents": 3,
                  "dataType": "Float32Array",
                  "size": 8649
                },
                "polys": {
                  "vtkClass": "vtkCellArray",
                  "name": "_polys",
                  "numberOfComponents": 1,
                  "size": 22804,
                  "dataType": "Uint32Array"
                },
                "metadata": {
                  "name": "Geometry 0"
                }
              }
            ],
            "geometry_colors": {
              "shape": [
                1,
                3
              ],
              "dtype": "float32"
            },
            "geometry_opacities": {
              "shape": [
                1
              ],
              "dtype": "float32"
            },
            "gradient_opacity": 0.2,
            "interpolation": true,
            "label_image_blend": 0.5,
            "label_image_names": null,
            "label_image_weights": null,
            "layout": "IPY_MODEL_7fc4c45639fc41f5afb06515ad40b65e",
            "lut": "glasbey",
            "mode": "v",
            "opacity_gaussians": null,
            "point_set_colors": {
              "shape": [
                0,
                3
              ],
              "dtype": "float32"
            },
            "point_set_opacities": {
              "shape": [
                0
              ],
              "dtype": "float32"
            },
            "point_set_representations": [],
            "point_set_sizes": {
              "shape": [
                0
              ],
              "dtype": "uint8"
            },
            "point_sets": [],
            "rendered_image": null,
            "rendered_label_image": null,
            "roi": {
              "shape": [
                2,
                3
              ],
              "dtype": "float64"
            },
            "rotate": false,
            "sample_distance": 0.25,
            "select_roi": false,
            "shadow": true,
            "slicing_planes": false,
            "ui_collapsed": false,
            "units": "",
            "vmax": null,
            "vmin": null,
            "x_slice": null,
            "y_slice": null,
            "z_slice": null
          }
        },
        "7fc4c45639fc41f5afb06515ad40b65e": {
          "model_module": "@jupyter-widgets/base",
          "model_name": "LayoutModel",
          "model_module_version": "1.2.0",
          "state": {
            "_model_module": "@jupyter-widgets/base",
            "_model_module_version": "1.2.0",
            "_model_name": "LayoutModel",
            "_view_count": null,
            "_view_module": "@jupyter-widgets/base",
            "_view_module_version": "1.2.0",
            "_view_name": "LayoutView",
            "align_content": null,
            "align_items": null,
            "align_self": null,
            "border": null,
            "bottom": null,
            "display": null,
            "flex": null,
            "flex_flow": null,
            "grid_area": null,
            "grid_auto_columns": null,
            "grid_auto_flow": null,
            "grid_auto_rows": null,
            "grid_column": null,
            "grid_gap": null,
            "grid_row": null,
            "grid_template_areas": null,
            "grid_template_columns": null,
            "grid_template_rows": null,
            "height": null,
            "justify_content": null,
            "justify_items": null,
            "left": null,
            "margin": null,
            "max_height": null,
            "max_width": null,
            "min_height": null,
            "min_width": null,
            "object_fit": null,
            "object_position": null,
            "order": null,
            "overflow": null,
            "overflow_x": null,
            "overflow_y": null,
            "padding": null,
            "right": null,
            "top": null,
            "visibility": null,
            "width": null
          }
        },
        "1508e7a3f4d241c591c46c5fa9b8bdef": {
          "model_module": "itkwidgets",
          "model_name": "ViewerModel",
          "model_module_version": "^0.32.3",
          "state": {
            "_custom_cmap": null,
            "_dom_classes": [],
            "_downsampling": false,
            "_largest_roi": {
              "shape": [
                2,
                3
              ],
              "dtype": "float64"
            },
            "_model_module": "itkwidgets",
            "_model_module_version": "^0.32.3",
            "_model_name": "ViewerModel",
            "_rendering_image": false,
            "_reset_crop_requested": false,
            "_scale_factors": {
              "shape": [
                3
              ],
              "dtype": "uint8"
            },
            "_view_count": null,
            "_view_module": "itkwidgets",
            "_view_module_version": "^0.32.3",
            "_view_name": "ViewerView",
            "annotations": true,
            "axes": false,
            "background": [
              0.2196078431372549,
              0.2196078431372549,
              0.2196078431372549
            ],
            "blend_mode": "composite",
            "camera": {
              "shape": [
                3,
                3
              ],
              "dtype": "float32"
            },
            "channels": [],
            "clicked_slice_point": null,
            "cmap": null,
            "geometries": [
              {
                "vtkClass": "vtkPolyData",
                "points": {
                  "vtkClass": "vtkPoints",
                  "name": "_points",
                  "numberOfComponents": 3,
                  "dataType": "Float32Array",
                  "size": 34398
                },
                "polys": {
                  "vtkClass": "vtkCellArray",
                  "name": "_polys",
                  "numberOfComponents": 1,
                  "size": 91216,
                  "dataType": "Uint32Array"
                },
                "pointData": {
                  "vtkClass": "vtkDataSetAttributes",
                  "activeScalars": 0,
                  "arrays": [
                    {
                      "data": {
                        "vtkClass": "vtkDataArray",
                        "name": "Vector Potential",
                        "numberOfComponents": 1,
                        "size": 11466,
                        "dataType": "Float64Array"
                      }
                    }
                  ]
                },
                "metadata": {
                  "name": "Geometry 0"
                }
              }
            ],
            "geometry_colors": {
              "shape": [
                1,
                3
              ],
              "dtype": "float32"
            },
            "geometry_opacities": {
              "shape": [
                1
              ],
              "dtype": "float32"
            },
            "gradient_opacity": 0.2,
            "interpolation": true,
            "label_image_blend": 0.5,
            "label_image_names": null,
            "label_image_weights": null,
            "layout": "IPY_MODEL_dd462690207e40199b87059ff13d668d",
            "lut": "glasbey",
            "mode": "v",
            "opacity_gaussians": null,
            "point_set_colors": {
              "shape": [
                0,
                3
              ],
              "dtype": "float32"
            },
            "point_set_opacities": {
              "shape": [
                0
              ],
              "dtype": "float32"
            },
            "point_set_representations": [],
            "point_set_sizes": {
              "shape": [
                0
              ],
              "dtype": "uint8"
            },
            "point_sets": [],
            "rendered_image": null,
            "rendered_label_image": null,
            "roi": {
              "shape": [
                2,
                3
              ],
              "dtype": "float64"
            },
            "rotate": false,
            "sample_distance": 0.25,
            "select_roi": false,
            "shadow": true,
            "slicing_planes": false,
            "ui_collapsed": true,
            "units": "",
            "vmax": null,
            "vmin": null,
            "x_slice": null,
            "y_slice": null,
            "z_slice": null
          }
        },
        "dd462690207e40199b87059ff13d668d": {
          "model_module": "@jupyter-widgets/base",
          "model_name": "LayoutModel",
          "model_module_version": "1.2.0",
          "state": {
            "_model_module": "@jupyter-widgets/base",
            "_model_module_version": "1.2.0",
            "_model_name": "LayoutModel",
            "_view_count": null,
            "_view_module": "@jupyter-widgets/base",
            "_view_module_version": "1.2.0",
            "_view_name": "LayoutView",
            "align_content": null,
            "align_items": null,
            "align_self": null,
            "border": null,
            "bottom": null,
            "display": null,
            "flex": null,
            "flex_flow": null,
            "grid_area": null,
            "grid_auto_columns": null,
            "grid_auto_flow": null,
            "grid_auto_rows": null,
            "grid_column": null,
            "grid_gap": null,
            "grid_row": null,
            "grid_template_areas": null,
            "grid_template_columns": null,
            "grid_template_rows": null,
            "height": null,
            "justify_content": null,
            "justify_items": null,
            "left": null,
            "margin": null,
            "max_height": null,
            "max_width": null,
            "min_height": null,
            "min_width": null,
            "object_fit": null,
            "object_position": null,
            "order": null,
            "overflow": null,
            "overflow_x": null,
            "overflow_y": null,
            "padding": null,
            "right": null,
            "top": null,
            "visibility": null,
            "width": null
          }
        },
        "dc5499f9bf7e4f159edd533199eed6e7": {
          "model_module": "itkwidgets",
          "model_name": "ViewerModel",
          "model_module_version": "^0.32.3",
          "state": {
            "_custom_cmap": null,
            "_dom_classes": [],
            "_downsampling": false,
            "_largest_roi": {
              "shape": [
                2,
                3
              ],
              "dtype": "float64"
            },
            "_model_module": "itkwidgets",
            "_model_module_version": "^0.32.3",
            "_model_name": "ViewerModel",
            "_rendering_image": false,
            "_reset_crop_requested": false,
            "_scale_factors": {
              "shape": [
                3
              ],
              "dtype": "uint8"
            },
            "_view_count": null,
            "_view_module": "itkwidgets",
            "_view_module_version": "^0.32.3",
            "_view_name": "ViewerView",
            "annotations": true,
            "axes": false,
            "background": [
              1,
              1,
              1
            ],
            "blend_mode": "composite",
            "camera": {
              "shape": [
                3,
                3
              ],
              "dtype": "float32"
            },
            "channels": [],
            "clicked_slice_point": null,
            "cmap": null,
            "geometries": [
              {
                "vtkClass": "vtkPolyData",
                "points": {
                  "vtkClass": "vtkPoints",
                  "name": "_points",
                  "numberOfComponents": 3,
                  "dataType": "Float32Array",
                  "size": 1066338
                },
                "polys": {
                  "vtkClass": "vtkCellArray",
                  "name": "_polys",
                  "numberOfComponents": 1,
                  "size": 859950,
                  "dataType": "Uint32Array"
                },
                "pointData": {
                  "vtkClass": "vtkDataSetAttributes",
                  "activeScalars": 0,
                  "activeVectors": 1,
                  "arrays": [
                    {
                      "data": {
                        "vtkClass": "vtkDataArray",
                        "name": "GlyphScale",
                        "numberOfComponents": 1,
                        "size": 355446,
                        "dataType": "Float32Array"
                      }
                    },
                    {
                      "data": {
                        "vtkClass": "vtkDataArray",
                        "name": "GlyphVector",
                        "numberOfComponents": 3,
                        "size": 1066338,
                        "dataType": "Float32Array"
                      }
                    }
                  ]
                },
                "metadata": {
                  "name": "Geometry 0"
                }
              },
              {
                "vtkClass": "vtkPolyData",
                "points": {
                  "vtkClass": "vtkPoints",
                  "name": "_points",
                  "numberOfComponents": 3,
                  "dataType": "Float32Array",
                  "size": 8649
                },
                "lines": {
                  "vtkClass": "vtkCellArray",
                  "name": "_lines",
                  "numberOfComponents": 1,
                  "size": 25749,
                  "dataType": "Uint32Array"
                },
                "metadata": {
                  "name": "Geometry 1"
                }
              }
            ],
            "geometry_colors": {
              "shape": [
                2,
                3
              ],
              "dtype": "float32"
            },
            "geometry_opacities": {
              "shape": [
                2
              ],
              "dtype": "float32"
            },
            "gradient_opacity": 0.2,
            "interpolation": true,
            "label_image_blend": 0.5,
            "label_image_names": null,
            "label_image_weights": null,
            "layout": "IPY_MODEL_bc08ee16b5064a77bd6e70ee49d7d773",
            "lut": "glasbey",
            "mode": "v",
            "opacity_gaussians": null,
            "point_set_colors": {
              "shape": [
                0,
                3
              ],
              "dtype": "float32"
            },
            "point_set_opacities": {
              "shape": [
                0
              ],
              "dtype": "float32"
            },
            "point_set_representations": [],
            "point_set_sizes": {
              "shape": [
                0
              ],
              "dtype": "uint8"
            },
            "point_sets": [],
            "rendered_image": null,
            "rendered_label_image": null,
            "roi": {
              "shape": [
                2,
                3
              ],
              "dtype": "float64"
            },
            "rotate": false,
            "sample_distance": 0.25,
            "select_roi": false,
            "shadow": true,
            "slicing_planes": false,
            "ui_collapsed": false,
            "units": "",
            "vmax": null,
            "vmin": null,
            "x_slice": null,
            "y_slice": null,
            "z_slice": null
          }
        },
        "bc08ee16b5064a77bd6e70ee49d7d773": {
          "model_module": "@jupyter-widgets/base",
          "model_name": "LayoutModel",
          "model_module_version": "1.2.0",
          "state": {
            "_model_module": "@jupyter-widgets/base",
            "_model_module_version": "1.2.0",
            "_model_name": "LayoutModel",
            "_view_count": null,
            "_view_module": "@jupyter-widgets/base",
            "_view_module_version": "1.2.0",
            "_view_name": "LayoutView",
            "align_content": null,
            "align_items": null,
            "align_self": null,
            "border": null,
            "bottom": null,
            "display": null,
            "flex": null,
            "flex_flow": null,
            "grid_area": null,
            "grid_auto_columns": null,
            "grid_auto_flow": null,
            "grid_auto_rows": null,
            "grid_column": null,
            "grid_gap": null,
            "grid_row": null,
            "grid_template_areas": null,
            "grid_template_columns": null,
            "grid_template_rows": null,
            "height": null,
            "justify_content": null,
            "justify_items": null,
            "left": null,
            "margin": null,
            "max_height": null,
            "max_width": null,
            "min_height": null,
            "min_width": null,
            "object_fit": null,
            "object_position": null,
            "order": null,
            "overflow": null,
            "overflow_x": null,
            "overflow_y": null,
            "padding": null,
            "right": null,
            "top": null,
            "visibility": null,
            "width": null
          }
        }
      }
    }
  },
  "nbformat": 4,
  "nbformat_minor": 5
}