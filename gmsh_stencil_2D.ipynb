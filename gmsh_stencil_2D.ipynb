{
  "nbformat": 4,
  "nbformat_minor": 0,
  "metadata": {
    "colab": {
      "provenance": [],
      "collapsed_sections": [],
      "include_colab_link": true
    },
    "kernelspec": {
      "name": "python3",
      "display_name": "Python 3"
    },
    "language_info": {
      "name": "python"
    },
    "widgets": {
      "application/vnd.jupyter.widget-state+json": {
        "5e24c5323a1e4bd8ba5e2a1755efa78e": {
          "model_module": "itkwidgets",
          "model_name": "ViewerModel",
          "model_module_version": "^0.32.3",
          "state": {
            "_custom_cmap": null,
            "_dom_classes": [],
            "_downsampling": false,
            "_largest_roi": {
              "shape": [
                2,
                3
              ],
              "dtype": "float64"
            },
            "_model_module": "itkwidgets",
            "_model_module_version": "^0.32.3",
            "_model_name": "ViewerModel",
            "_rendering_image": false,
            "_reset_crop_requested": false,
            "_scale_factors": {
              "shape": [
                3
              ],
              "dtype": "uint8"
            },
            "_view_count": null,
            "_view_module": "itkwidgets",
            "_view_module_version": "^0.32.3",
            "_view_name": "ViewerView",
            "annotations": true,
            "axes": false,
            "background": [
              1,
              1,
              1
            ],
            "blend_mode": "composite",
            "camera": {
              "shape": [
                3,
                3
              ],
              "dtype": "float32"
            },
            "channels": [],
            "clicked_slice_point": null,
            "cmap": null,
            "geometries": [
              {
                "vtkClass": "vtkPolyData",
                "points": {
                  "vtkClass": "vtkPoints",
                  "name": "_points",
                  "numberOfComponents": 3,
                  "dataType": "Float32Array",
                  "size": 29370
                },
                "polys": {
                  "vtkClass": "vtkCellArray",
                  "name": "_polys",
                  "numberOfComponents": 1,
                  "size": 77048,
                  "dataType": "Uint32Array"
                },
                "metadata": {
                  "name": "Geometry 0"
                }
              }
            ],
            "geometry_colors": {
              "shape": [
                1,
                3
              ],
              "dtype": "float32"
            },
            "geometry_opacities": {
              "shape": [
                1
              ],
              "dtype": "float32"
            },
            "gradient_opacity": 0.2,
            "interpolation": true,
            "label_image_blend": 0.5,
            "label_image_names": null,
            "label_image_weights": null,
            "layout": "IPY_MODEL_32cb911126f34b03a3a387baab166e30",
            "lut": "glasbey",
            "mode": "v",
            "opacity_gaussians": null,
            "point_set_colors": {
              "shape": [
                0,
                3
              ],
              "dtype": "float32"
            },
            "point_set_opacities": {
              "shape": [
                0
              ],
              "dtype": "float32"
            },
            "point_set_representations": [],
            "point_set_sizes": {
              "shape": [
                0
              ],
              "dtype": "uint8"
            },
            "point_sets": [],
            "rendered_image": null,
            "rendered_label_image": null,
            "roi": {
              "shape": [
                2,
                3
              ],
              "dtype": "float64"
            },
            "rotate": false,
            "sample_distance": 0.25,
            "select_roi": false,
            "shadow": true,
            "slicing_planes": false,
            "ui_collapsed": true,
            "units": "",
            "vmax": null,
            "vmin": null,
            "x_slice": null,
            "y_slice": null,
            "z_slice": null
          }
        },
        "32cb911126f34b03a3a387baab166e30": {
          "model_module": "@jupyter-widgets/base",
          "model_name": "LayoutModel",
          "model_module_version": "1.2.0",
          "state": {
            "_model_module": "@jupyter-widgets/base",
            "_model_module_version": "1.2.0",
            "_model_name": "LayoutModel",
            "_view_count": null,
            "_view_module": "@jupyter-widgets/base",
            "_view_module_version": "1.2.0",
            "_view_name": "LayoutView",
            "align_content": null,
            "align_items": null,
            "align_self": null,
            "border": null,
            "bottom": null,
            "display": null,
            "flex": null,
            "flex_flow": null,
            "grid_area": null,
            "grid_auto_columns": null,
            "grid_auto_flow": null,
            "grid_auto_rows": null,
            "grid_column": null,
            "grid_gap": null,
            "grid_row": null,
            "grid_template_areas": null,
            "grid_template_columns": null,
            "grid_template_rows": null,
            "height": null,
            "justify_content": null,
            "justify_items": null,
            "left": null,
            "margin": null,
            "max_height": null,
            "max_width": null,
            "min_height": null,
            "min_width": null,
            "object_fit": null,
            "object_position": null,
            "order": null,
            "overflow": null,
            "overflow_x": null,
            "overflow_y": null,
            "padding": null,
            "right": null,
            "top": null,
            "visibility": null,
            "width": null
          }
        },
        "a372637143e44ab7b9e7eccbdf758fcc": {
          "model_module": "itkwidgets",
          "model_name": "ViewerModel",
          "model_module_version": "^0.32.3",
          "state": {
            "_custom_cmap": null,
            "_dom_classes": [],
            "_downsampling": false,
            "_largest_roi": {
              "shape": [
                2,
                3
              ],
              "dtype": "float64"
            },
            "_model_module": "itkwidgets",
            "_model_module_version": "^0.32.3",
            "_model_name": "ViewerModel",
            "_rendering_image": false,
            "_reset_crop_requested": false,
            "_scale_factors": {
              "shape": [
                3
              ],
              "dtype": "uint8"
            },
            "_view_count": null,
            "_view_module": "itkwidgets",
            "_view_module_version": "^0.32.3",
            "_view_name": "ViewerView",
            "annotations": true,
            "axes": false,
            "background": [
              1,
              1,
              1
            ],
            "blend_mode": "composite",
            "camera": {
              "shape": [
                3,
                3
              ],
              "dtype": "float32"
            },
            "channels": [],
            "clicked_slice_point": null,
            "cmap": null,
            "geometries": [
              {
                "vtkClass": "vtkPolyData",
                "points": {
                  "vtkClass": "vtkPoints",
                  "name": "_points",
                  "numberOfComponents": 3,
                  "dataType": "Float32Array",
                  "size": 29370
                },
                "polys": {
                  "vtkClass": "vtkCellArray",
                  "name": "_polys",
                  "numberOfComponents": 1,
                  "size": 77048,
                  "dataType": "Uint32Array"
                },
                "cellData": {
                  "vtkClass": "vtkDataSetAttributes",
                  "activeScalars": 0,
                  "arrays": [
                    {
                      "data": {
                        "vtkClass": "vtkDataArray",
                        "name": "Subdomains",
                        "numberOfComponents": 1,
                        "size": 19262,
                        "dataType": "Float64Array"
                      }
                    }
                  ]
                },
                "metadata": {
                  "name": "Geometry 0"
                }
              }
            ],
            "geometry_colors": {
              "shape": [
                1,
                3
              ],
              "dtype": "float32"
            },
            "geometry_opacities": {
              "shape": [
                1
              ],
              "dtype": "float32"
            },
            "gradient_opacity": 0.2,
            "interpolation": true,
            "label_image_blend": 0.5,
            "label_image_names": null,
            "label_image_weights": null,
            "layout": "IPY_MODEL_0a9d7f6c0d9b488fa527d8c4a1965e70",
            "lut": "glasbey",
            "mode": "v",
            "opacity_gaussians": null,
            "point_set_colors": {
              "shape": [
                0,
                3
              ],
              "dtype": "float32"
            },
            "point_set_opacities": {
              "shape": [
                0
              ],
              "dtype": "float32"
            },
            "point_set_representations": [],
            "point_set_sizes": {
              "shape": [
                0
              ],
              "dtype": "uint8"
            },
            "point_sets": [],
            "rendered_image": null,
            "rendered_label_image": null,
            "roi": {
              "shape": [
                2,
                3
              ],
              "dtype": "float64"
            },
            "rotate": false,
            "sample_distance": 0.25,
            "select_roi": false,
            "shadow": true,
            "slicing_planes": false,
            "ui_collapsed": true,
            "units": "",
            "vmax": null,
            "vmin": null,
            "x_slice": null,
            "y_slice": null,
            "z_slice": null
          }
        },
        "0a9d7f6c0d9b488fa527d8c4a1965e70": {
          "model_module": "@jupyter-widgets/base",
          "model_name": "LayoutModel",
          "model_module_version": "1.2.0",
          "state": {
            "_model_module": "@jupyter-widgets/base",
            "_model_module_version": "1.2.0",
            "_model_name": "LayoutModel",
            "_view_count": null,
            "_view_module": "@jupyter-widgets/base",
            "_view_module_version": "1.2.0",
            "_view_name": "LayoutView",
            "align_content": null,
            "align_items": null,
            "align_self": null,
            "border": null,
            "bottom": null,
            "display": null,
            "flex": null,
            "flex_flow": null,
            "grid_area": null,
            "grid_auto_columns": null,
            "grid_auto_flow": null,
            "grid_auto_rows": null,
            "grid_column": null,
            "grid_gap": null,
            "grid_row": null,
            "grid_template_areas": null,
            "grid_template_columns": null,
            "grid_template_rows": null,
            "height": null,
            "justify_content": null,
            "justify_items": null,
            "left": null,
            "margin": null,
            "max_height": null,
            "max_width": null,
            "min_height": null,
            "min_width": null,
            "object_fit": null,
            "object_position": null,
            "order": null,
            "overflow": null,
            "overflow_x": null,
            "overflow_y": null,
            "padding": null,
            "right": null,
            "top": null,
            "visibility": null,
            "width": null
          }
        },
        "09d872659f634d759c9e4ffca54b5936": {
          "model_module": "itkwidgets",
          "model_name": "ViewerModel",
          "model_module_version": "^0.32.3",
          "state": {
            "_custom_cmap": null,
            "_dom_classes": [],
            "_downsampling": false,
            "_largest_roi": {
              "shape": [
                2,
                3
              ],
              "dtype": "float64"
            },
            "_model_module": "itkwidgets",
            "_model_module_version": "^0.32.3",
            "_model_name": "ViewerModel",
            "_rendering_image": false,
            "_reset_crop_requested": false,
            "_scale_factors": {
              "shape": [
                3
              ],
              "dtype": "uint8"
            },
            "_view_count": null,
            "_view_module": "itkwidgets",
            "_view_module_version": "^0.32.3",
            "_view_name": "ViewerView",
            "annotations": true,
            "axes": false,
            "background": [
              1,
              1,
              1
            ],
            "blend_mode": "composite",
            "camera": {
              "shape": [
                3,
                3
              ],
              "dtype": "float32"
            },
            "channels": [],
            "clicked_slice_point": null,
            "cmap": null,
            "geometries": [
              {
                "vtkClass": "vtkPolyData",
                "points": {
                  "vtkClass": "vtkPoints",
                  "name": "_points",
                  "numberOfComponents": 3,
                  "dataType": "Float32Array",
                  "size": 29370
                },
                "lines": {
                  "vtkClass": "vtkCellArray",
                  "name": "_lines",
                  "numberOfComponents": 1,
                  "size": 87153,
                  "dataType": "Uint32Array"
                },
                "cellData": {
                  "vtkClass": "vtkDataSetAttributes",
                  "activeScalars": 0,
                  "arrays": [
                    {
                      "data": {
                        "vtkClass": "vtkDataArray",
                        "name": "Boundaries",
                        "numberOfComponents": 1,
                        "size": 29051,
                        "dataType": "Float64Array"
                      }
                    }
                  ]
                },
                "metadata": {
                  "name": "Geometry 0"
                }
              }
            ],
            "geometry_colors": {
              "shape": [
                1,
                3
              ],
              "dtype": "float32"
            },
            "geometry_opacities": {
              "shape": [
                1
              ],
              "dtype": "float32"
            },
            "gradient_opacity": 0.2,
            "interpolation": true,
            "label_image_blend": 0.5,
            "label_image_names": null,
            "label_image_weights": null,
            "layout": "IPY_MODEL_24845241ffc74c3fa9614732a4c55c58",
            "lut": "glasbey",
            "mode": "v",
            "opacity_gaussians": null,
            "point_set_colors": {
              "shape": [
                0,
                3
              ],
              "dtype": "float32"
            },
            "point_set_opacities": {
              "shape": [
                0
              ],
              "dtype": "float32"
            },
            "point_set_representations": [],
            "point_set_sizes": {
              "shape": [
                0
              ],
              "dtype": "uint8"
            },
            "point_sets": [],
            "rendered_image": null,
            "rendered_label_image": null,
            "roi": {
              "shape": [
                2,
                3
              ],
              "dtype": "float64"
            },
            "rotate": false,
            "sample_distance": 0.25,
            "select_roi": false,
            "shadow": true,
            "slicing_planes": false,
            "ui_collapsed": true,
            "units": "",
            "vmax": null,
            "vmin": null,
            "x_slice": null,
            "y_slice": null,
            "z_slice": null
          }
        },
        "24845241ffc74c3fa9614732a4c55c58": {
          "model_module": "@jupyter-widgets/base",
          "model_name": "LayoutModel",
          "model_module_version": "1.2.0",
          "state": {
            "_model_module": "@jupyter-widgets/base",
            "_model_module_version": "1.2.0",
            "_model_name": "LayoutModel",
            "_view_count": null,
            "_view_module": "@jupyter-widgets/base",
            "_view_module_version": "1.2.0",
            "_view_name": "LayoutView",
            "align_content": null,
            "align_items": null,
            "align_self": null,
            "border": null,
            "bottom": null,
            "display": null,
            "flex": null,
            "flex_flow": null,
            "grid_area": null,
            "grid_auto_columns": null,
            "grid_auto_flow": null,
            "grid_auto_rows": null,
            "grid_column": null,
            "grid_gap": null,
            "grid_row": null,
            "grid_template_areas": null,
            "grid_template_columns": null,
            "grid_template_rows": null,
            "height": null,
            "justify_content": null,
            "justify_items": null,
            "left": null,
            "margin": null,
            "max_height": null,
            "max_width": null,
            "min_height": null,
            "min_width": null,
            "object_fit": null,
            "object_position": null,
            "order": null,
            "overflow": null,
            "overflow_x": null,
            "overflow_y": null,
            "padding": null,
            "right": null,
            "top": null,
            "visibility": null,
            "width": null
          }
        }
      }
    }
  },
  "cells": [
    {
      "cell_type": "markdown",
      "metadata": {
        "id": "view-in-github",
        "colab_type": "text"
      },
      "source": [
        "<a href=\"https://colab.research.google.com/github/dr-kinder/playground/blob/master/gmsh_stencil_2D.ipynb\" target=\"_parent\"><img src=\"https://colab.research.google.com/assets/colab-badge.svg\" alt=\"Open In Colab\"/></a>"
      ]
    },
    {
      "cell_type": "markdown",
      "source": [
        "# Install and Import"
      ],
      "metadata": {
        "id": "SawokRUbpBHY"
      }
    },
    {
      "cell_type": "code",
      "source": [
        "try:\n",
        "    # Import gmsh library for generating meshes.\n",
        "    import gmsh\n",
        "except ImportError:\n",
        "    # If it is not available, install it.  Then import it.\n",
        "    !wget \"https://fem-on-colab.github.io/releases/gmsh-install.sh\" -O \"/tmp/gmsh-install.sh\" && bash \"/tmp/gmsh-install.sh\"\n",
        "    import gmsh"
      ],
      "metadata": {
        "id": "uufWNrihOoRo"
      },
      "execution_count": null,
      "outputs": []
    },
    {
      "cell_type": "code",
      "source": [
        "try:\n",
        "    # Import FEniCSx libraries for finite element analysis.\n",
        "    import dolfinx\n",
        "except ImportError:\n",
        "    # If they are not found, install them.  Then import them.\n",
        "    !wget \"https://fem-on-colab.github.io/releases/fenicsx-install-real.sh\" -O \"/tmp/fenicsx-install.sh\" && bash \"/tmp/fenicsx-install.sh\"\n",
        "    import dolfinx"
      ],
      "metadata": {
        "id": "2GtZiFEZOuYK"
      },
      "execution_count": null,
      "outputs": []
    },
    {
      "cell_type": "code",
      "source": [
        "try:\n",
        "    # Import multiphenicsx, mainly for plotting.\n",
        "    import multiphenicsx\n",
        "except ImportError:\n",
        "    # If they are not found, install them.\n",
        "    !pip3 install \"multiphenicsx@git+https://github.com/multiphenics/multiphenicsx.git@8b97b4e\"\n",
        "    import multiphenicsx"
      ],
      "metadata": {
        "id": "y0djhWawOxS3"
      },
      "execution_count": null,
      "outputs": []
    },
    {
      "cell_type": "code",
      "source": [
        "# Everything should be installed now.\n",
        "# Import the rest of what we need.\n",
        "\n",
        "import dolfinx.fem\n",
        "import dolfinx.io\n",
        "import gmsh\n",
        "import mpi4py.MPI\n",
        "import numpy as np\n",
        "import petsc4py.PETSc\n",
        "import ufl\n",
        "import multiphenicsx.io"
      ],
      "metadata": {
        "id": "6yTXK7dvO0Hr"
      },
      "execution_count": null,
      "outputs": []
    },
    {
      "cell_type": "markdown",
      "source": [
        "# Build a model with GMSH\n",
        "\n",
        "This model has several separate parts that we want to combine into a single mesh.  GMSH won't complain if surfaces overlap, but FEniCSx will.\n",
        "There are several ways to define a single mesh with multiple entities using GMSH.  (See [the GMSH tutorials](https://gitlab.onelab.info/gmsh/gmsh/-/tree/gmsh_4_9_5/tutorials/python) for some examples — in particular, `t4.py` and `t5.py`.)\n",
        "\n",
        "This example creates a stencil.  We define the \"universe\" to be the entire region of interest — a large circular disk.  The \"universe\" is actually three distinct regions in this system: two magnets and the background.  We define the shape of the magnets first.  Then we define the background to be the universe, but with holes cut out for the magnets.  And then we define surfaces for the two magnets.  We then introduce the physical objects: the boundaries, the background, and the two magnets.  They must fit together like pieces of a jigsaw puzzle.\n",
        "\n",
        "Plotting the mesh shows the three regions.  They are tagged in the model, too, so we can assign different properties to each."
      ],
      "metadata": {
        "id": "jZ0k3NsVpLa0"
      }
    },
    {
      "cell_type": "code",
      "source": [
        "# Define the center of the circle.\n",
        "x0 = 0\n",
        "y0 = 0\n",
        "z0 = 0\n",
        "\n",
        "#Define the top magnet\n",
        "P1X = -2.5\n",
        "P1Y = 4.33\n",
        "P2X = -2.5\n",
        "P2Y = 2.17\n",
        "P3X = 2.5\n",
        "P3Y = 2.17\n",
        "P4X = 2.5\n",
        "P4Y = 4.33\n",
        "\n",
        "#Define Bottom Magnet\n",
        "B1X = -2.5\n",
        "B1Y = -4.33\n",
        "B2X = -2.5\n",
        "B2Y = -1.76\n",
        "B3X = -2\n",
        "B3Y = -1.76\n",
        "B4X = -2\n",
        "B4Y = -2.76\n",
        "B5X = 2\n",
        "B5Y = -2.76\n",
        "B6X = 2\n",
        "B6Y = -1.76\n",
        "B7X = 2.5\n",
        "B7Y = -1.76\n",
        "B8X = 2.5\n",
        "B8Y = -4.33\n",
        "\n",
        "# Define the radius of the circle.\n",
        "r0 = 10\n",
        "\n",
        "# Tell the modeling program how many dimensions we are using.\n",
        "dim = 2\n",
        "\n",
        "# Grid size parameter.  Make it smaller for higher resolution.\n",
        "delta = 0.2"
      ],
      "metadata": {
        "id": "so3ODzgdO3gf"
      },
      "execution_count": 2,
      "outputs": []
    },
    {
      "cell_type": "code",
      "source": [
        "# Let's check the shape before trying to get GMSH to make a model ...\n",
        "import matplotlib.pyplot as plt\n",
        "\n",
        "x1 = [B1X, B2X, B3X, B4X, B5X, B6X, B7X, B8X, B1X]\n",
        "y1 = [B1Y, B2Y, B3Y, B4Y, B5Y, B6Y, B7Y, B8Y, B1Y]\n",
        "\n",
        "x2 = [P1X, P2X, x0, P3X, P4X, P1X]\n",
        "y2 = [P1Y, P2Y, y0, P3Y, P4Y, P1Y]\n",
        "\n",
        "plt.plot(x1,y1, 'b-o')\n",
        "plt.plot(x2,y2,'r-o')\n",
        "\n",
        "plt.axis(\"equal\")"
      ],
      "metadata": {
        "id": "mHumOzZSWnke"
      },
      "execution_count": null,
      "outputs": []
    },
    {
      "cell_type": "code",
      "source": [
        "# Create the model.\n",
        "gmsh.initialize()\n",
        "gmsh.model.add(\"mesh\")\n",
        "\n",
        "# Define points: center of circle and two points on opposite sides.\n",
        "p0 = gmsh.model.geo.addPoint(x0,y0, z0, delta)\n",
        "p1 = gmsh.model.geo.addPoint(x0, y0-r0, z0, delta)\n",
        "p2 = gmsh.model.geo.addPoint(x0, y0+r0,z0, delta)\n",
        "\n",
        "#Define points: Top Magnet\n",
        "T1 = gmsh.model.geo.addPoint(P1X, P1Y, z0, delta)\n",
        "T2 = gmsh.model.geo.addPoint(P2X, P2Y, z0, delta)\n",
        "T3 = gmsh.model.geo.addPoint(x0,y0, z0, delta)\n",
        "T4 = gmsh.model.geo.addPoint(P3X, P3Y, z0, delta)\n",
        "T5 = gmsh.model.geo.addPoint(P4X, P4Y, z0, delta)\n",
        "\n",
        "#Define points: Bottom Magnet\n",
        "B1 = gmsh.model.geo.addPoint(B1X, B1Y, z0, delta)\n",
        "B2 = gmsh.model.geo.addPoint(B2X, B2Y, z0, delta)\n",
        "B3 = gmsh.model.geo.addPoint(B3X, B3Y, z0, delta)\n",
        "B4 = gmsh.model.geo.addPoint(B4X, B4Y, z0, delta)\n",
        "B5 = gmsh.model.geo.addPoint(B5X, B5Y, z0, delta)\n",
        "B6 = gmsh.model.geo.addPoint(B6X, B6Y, z0, delta)\n",
        "B7 = gmsh.model.geo.addPoint(B7X, B7Y, z0, delta)\n",
        "B8 = gmsh.model.geo.addPoint(B8X, B8Y, z0, delta)\n",
        "\n",
        "#Define: Top magnet shape\n",
        "L1 = gmsh.model.geo.addLine(T1, T2)\n",
        "L2 = gmsh.model.geo.addLine(T2, T3)\n",
        "L3 = gmsh.model.geo.addLine(T3, T4)\n",
        "L4 = gmsh.model.geo.addLine(T4, T5)\n",
        "L5 = gmsh.model.geo.addLine(T5, T1)\n",
        "topLoop = gmsh.model.geo.addCurveLoop([L1, L2, L3, L4,L5])\n",
        "\n",
        "#Define: Bottom magnet shape\n",
        "D1 = gmsh.model.geo.addLine(B1, B2)\n",
        "D2 = gmsh.model.geo.addLine(B2, B3)\n",
        "D3 = gmsh.model.geo.addLine(B3, B4)\n",
        "D4 = gmsh.model.geo.addLine(B4, B5)\n",
        "D5 = gmsh.model.geo.addLine(B5, B6)\n",
        "D6 = gmsh.model.geo.addLine(B6, B7)\n",
        "D7 = gmsh.model.geo.addLine(B7, B8)\n",
        "D8 = gmsh.model.geo.addLine(B8, B1)\n",
        "bottomLoop = gmsh.model.geo.addCurveLoop([D1, D2, D3, D4, D5, D6, D7, D8])\n",
        "\n",
        "# Define two semicircular arcs that will be joined into a circle.\n",
        "# The circular disk is the \"universe\" --- the entire region of interest.\n",
        "c0 = gmsh.model.geo.addCircleArc(p1, p0, p2)\n",
        "c1 = gmsh.model.geo.addCircleArc(p2, p0, p1)\n",
        "universe = gmsh.model.geo.addCurveLoop([c0,c1])\n",
        "\n",
        "# The \"background\" is the universe, minus holes for the objects inside.\n",
        "background = gmsh.model.geo.addPlaneSurface([loop,topLoop,bottomLoop])\n",
        "\n",
        "# The two objects fill in the holes in the background.\n",
        "topMagnet = gmsh.model.geo.addPlaneSurface([topLoop])\n",
        "bottomMagnet = gmsh.model.geo.addPlaneSurface([bottomLoop])\n",
        "\n",
        "# Update the model with all of the features we add.\n",
        "gmsh.model.geo.synchronize()\n",
        "\n",
        "# Identify the physical objects: boundaries and surfaces.\n",
        "gmsh.model.addPhysicalGroup(1, [c0,c1], 1)\n",
        "gmsh.model.addPhysicalGroup(2, [background], 1)\n",
        "gmsh.model.addPhysicalGroup(1, [L1, L2, L3, L4,L5], 2)\n",
        "gmsh.model.addPhysicalGroup(2, [topMagnet], 2)\n",
        "gmsh.model.addPhysicalGroup(1, [D1, D2, D3, D4, D5, D6, D7, D8], 3)\n",
        "gmsh.model.addPhysicalGroup(2, [bottomMagnet], 3)\n",
        "\n",
        "# Create a mesh for this system.\n",
        "gmsh.model.mesh.generate(dim)\n",
        "\n",
        "# Bring the mesh into FEniCSx.\n",
        "mesh, subdomains, boundaries = dolfinx.io.gmshio.model_to_mesh(\n",
        "    gmsh.model, comm=mpi4py.MPI.COMM_WORLD, rank=0, gdim=2)\n",
        "\n",
        "# Close the mesh generating program.\n",
        "gmsh.finalize()"
      ],
      "metadata": {
        "id": "oXfwz6_mWJgM"
      },
      "execution_count": null,
      "outputs": []
    },
    {
      "cell_type": "code",
      "source": [
        "# Plot the entire mesh.\n",
        "multiphenicsx.io.plot_mesh(mesh)"
      ],
      "metadata": {
        "id": "grOPzYknaJB6",
        "colab": {
          "base_uri": "https://localhost:8080/",
          "height": 717,
          "referenced_widgets": [
            "5e24c5323a1e4bd8ba5e2a1755efa78e",
            "32cb911126f34b03a3a387baab166e30"
          ]
        },
        "outputId": "d7ab2f1b-499b-4d91-e5a7-d8abe5b1acfd"
      },
      "execution_count": null,
      "outputs": [
        {
          "output_type": "display_data",
          "data": {
            "text/plain": [
              "Viewer(geometries=[{'vtkClass': 'vtkPolyData', 'points': {'vtkClass': 'vtkPoints', 'name': '_points', 'numberO…"
            ],
            "application/vnd.jupyter.widget-view+json": {
              "version_major": 2,
              "version_minor": 0,
              "model_id": "5e24c5323a1e4bd8ba5e2a1755efa78e"
            }
          },
          "metadata": {
            "application/vnd.jupyter.widget-view+json": {
              "colab": {
                "custom_widget_manager": {
                  "url": "https://ssl.gstatic.com/colaboratory-static/widgets/colab-cdn-widget-manager/d2e234f7cc04bf79/manager.min.js"
                }
              }
            }
          }
        },
        {
          "output_type": "display_data",
          "data": {
            "text/plain": [
              "Viewer(geometries=[{'vtkClass': 'vtkPolyData', 'points': {'vtkClass': 'vtkPoints', 'name': '_points', 'numberO…"
            ],
            "application/vnd.jupyter.widget-view+json": {
              "version_major": 2,
              "version_minor": 0,
              "model_id": "5e24c5323a1e4bd8ba5e2a1755efa78e"
            }
          },
          "metadata": {
            "application/vnd.jupyter.widget-view+json": {
              "colab": {
                "custom_widget_manager": {
                  "url": "https://ssl.gstatic.com/colaboratory-static/widgets/colab-cdn-widget-manager/d2e234f7cc04bf79/manager.min.js"
                }
              }
            }
          }
        }
      ]
    },
    {
      "cell_type": "code",
      "source": [
        "# Plot the subdomains that FEniCSx has identified.\n",
        "multiphenicsx.io.plot_mesh_tags(subdomains)"
      ],
      "metadata": {
        "id": "H1WunCT4abCR",
        "colab": {
          "base_uri": "https://localhost:8080/",
          "height": 717,
          "referenced_widgets": [
            "a372637143e44ab7b9e7eccbdf758fcc",
            "0a9d7f6c0d9b488fa527d8c4a1965e70"
          ]
        },
        "outputId": "ef756c7f-e885-45aa-832e-1a8864196448"
      },
      "execution_count": null,
      "outputs": [
        {
          "output_type": "display_data",
          "data": {
            "text/plain": [
              "Viewer(geometries=[{'vtkClass': 'vtkPolyData', 'points': {'vtkClass': 'vtkPoints', 'name': '_points', 'numberO…"
            ],
            "application/vnd.jupyter.widget-view+json": {
              "version_major": 2,
              "version_minor": 0,
              "model_id": "a372637143e44ab7b9e7eccbdf758fcc"
            }
          },
          "metadata": {
            "application/vnd.jupyter.widget-view+json": {
              "colab": {
                "custom_widget_manager": {
                  "url": "https://ssl.gstatic.com/colaboratory-static/widgets/colab-cdn-widget-manager/d2e234f7cc04bf79/manager.min.js"
                }
              }
            }
          }
        },
        {
          "output_type": "display_data",
          "data": {
            "text/plain": [
              "Viewer(geometries=[{'vtkClass': 'vtkPolyData', 'points': {'vtkClass': 'vtkPoints', 'name': '_points', 'numberO…"
            ],
            "application/vnd.jupyter.widget-view+json": {
              "version_major": 2,
              "version_minor": 0,
              "model_id": "a372637143e44ab7b9e7eccbdf758fcc"
            }
          },
          "metadata": {
            "application/vnd.jupyter.widget-view+json": {
              "colab": {
                "custom_widget_manager": {
                  "url": "https://ssl.gstatic.com/colaboratory-static/widgets/colab-cdn-widget-manager/d2e234f7cc04bf79/manager.min.js"
                }
              }
            }
          }
        }
      ]
    },
    {
      "cell_type": "code",
      "source": [
        "# Inspect the boundaries of the elements and the system.\n",
        "multiphenicsx.io.plot_mesh_tags(boundaries)"
      ],
      "metadata": {
        "id": "nKXtBQVcbyjR",
        "colab": {
          "base_uri": "https://localhost:8080/",
          "height": 717,
          "referenced_widgets": [
            "09d872659f634d759c9e4ffca54b5936",
            "24845241ffc74c3fa9614732a4c55c58"
          ]
        },
        "outputId": "25ae7d5c-c737-4342-8900-470472c3c73e"
      },
      "execution_count": null,
      "outputs": [
        {
          "output_type": "display_data",
          "data": {
            "text/plain": [
              "Viewer(geometries=[{'vtkClass': 'vtkPolyData', 'points': {'vtkClass': 'vtkPoints', 'name': '_points', 'numberO…"
            ],
            "application/vnd.jupyter.widget-view+json": {
              "version_major": 2,
              "version_minor": 0,
              "model_id": "09d872659f634d759c9e4ffca54b5936"
            }
          },
          "metadata": {
            "application/vnd.jupyter.widget-view+json": {
              "colab": {
                "custom_widget_manager": {
                  "url": "https://ssl.gstatic.com/colaboratory-static/widgets/colab-cdn-widget-manager/d2e234f7cc04bf79/manager.min.js"
                }
              }
            }
          }
        },
        {
          "output_type": "display_data",
          "data": {
            "text/plain": [
              "Viewer(geometries=[{'vtkClass': 'vtkPolyData', 'points': {'vtkClass': 'vtkPoints', 'name': '_points', 'numberO…"
            ],
            "application/vnd.jupyter.widget-view+json": {
              "version_major": 2,
              "version_minor": 0,
              "model_id": "09d872659f634d759c9e4ffca54b5936"
            }
          },
          "metadata": {
            "application/vnd.jupyter.widget-view+json": {
              "colab": {
                "custom_widget_manager": {
                  "url": "https://ssl.gstatic.com/colaboratory-static/widgets/colab-cdn-widget-manager/d2e234f7cc04bf79/manager.min.js"
                }
              }
            }
          }
        }
      ]
    }
  ]
}