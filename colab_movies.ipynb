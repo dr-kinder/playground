{
  "cells": [
    {
      "cell_type": "markdown",
      "metadata": {
        "id": "view-in-github",
        "colab_type": "text"
      },
      "source": [
        "<a href=\"https://colab.research.google.com/github/dr-kinder/playground/blob/dev/colab_movies.ipynb\" target=\"_parent\"><img src=\"https://colab.research.google.com/assets/colab-badge.svg\" alt=\"Open In Colab\"/></a>"
      ]
    },
    {
      "cell_type": "markdown",
      "metadata": {
        "id": "8xYOJjrrmvL7"
      },
      "source": [
        "# Installation"
      ]
    },
    {
      "cell_type": "code",
      "execution_count": null,
      "metadata": {
        "id": "1nWiL9DC3Noa"
      },
      "outputs": [],
      "source": [
        "# Need to upgrade matplotlib for some PyVista plotting commands to work.\n",
        "# Run this cell, then select \"Runtime > Restart runtime\" from the CoLab menu.\n",
        "!pip install --upgrade matplotlib\n",
        "\n",
        "display.clear_output()"
      ]
    },
    {
      "cell_type": "code",
      "execution_count": null,
      "metadata": {
        "id": "dUcWSRSU55t7"
      },
      "outputs": [],
      "source": [
        "from IPython import display"
      ]
    },
    {
      "cell_type": "code",
      "execution_count": null,
      "metadata": {
        "id": "2fYTkoDJmkR4"
      },
      "outputs": [],
      "source": [
        "try:\n",
        "    import gmsh\n",
        "except ImportError:\n",
        "    !wget \"https://fem-on-colab.github.io/releases/gmsh-install.sh\" -O \"/tmp/gmsh-install.sh\" && bash \"/tmp/gmsh-install.sh\"\n",
        "    import gmsh\n",
        "\n",
        "display.clear_output()"
      ]
    },
    {
      "cell_type": "code",
      "execution_count": null,
      "metadata": {
        "id": "CspovEw3lxk4"
      },
      "outputs": [],
      "source": [
        "# This simulation uses real values.\n",
        "try:\n",
        "    import dolfinx\n",
        "except ImportError:\n",
        "    !wget \"https://fem-on-colab.github.io/releases/fenicsx-install-real.sh\" -O \"/tmp/fenicsx-install.sh\" && bash \"/tmp/fenicsx-install.sh\"\n",
        "    import dolfinx\n",
        "\n",
        "display.clear_output()"
      ]
    },
    {
      "cell_type": "code",
      "execution_count": null,
      "metadata": {
        "id": "Uo80FMagml8w"
      },
      "outputs": [],
      "source": [
        "try:\n",
        "    import multiphenicsx\n",
        "except ImportError:\n",
        "    !pip3 install \"multiphenicsx@git+https://github.com/multiphenics/multiphenicsx.git@906a91b\"\n",
        "    import multiphenicsx\n",
        "\n",
        "display.clear_output()"
      ]
    },
    {
      "cell_type": "markdown",
      "source": [
        "# Making Movies in CoLab\n",
        "\n",
        "The cells below illustrate how to make a movie in CoLab using PyVista.  The first cell comes directly from the PyVista documentation.  The original code is at\n",
        "\n",
        "https://docs.pyvista.org/examples/02-plot/gif.html\n",
        "\n",
        "The command `pv.start_xvfb()` seems necessary to create graphics with CoLab.  It may not be necessary on other platforms.\n",
        "\n",
        "Comments have been added to explain the process.\n",
        "\n",
        "This cell creates a movie by exporting a series of separate plots as images in a GIF.  PyVista does all the processing.  In CoLab, the file will be saved in the current directory: `./`.  It can also be accessed in the `/content/` directory.\n",
        "\n",
        "The next cell uses IPython's HTML and image display tools to display the GIF in the notebook."
      ],
      "metadata": {
        "id": "wfD2qGNBKUjl"
      }
    },
    {
      "cell_type": "code",
      "execution_count": null,
      "metadata": {
        "id": "m5OGnRkj0DFC"
      },
      "outputs": [],
      "source": [
        "# https://docs.pyvista.org/examples/02-plot/gif.html\n",
        "import numpy as np\n",
        "import matplotlib\n",
        "\n",
        "import pyvista as pv\n",
        "# Start virtual framebuffer for plotting.\n",
        "# Seems essential in CoLab.\n",
        "pv.start_xvfb()\n",
        "\n",
        "# Define coordinate and function arrays.\n",
        "x = np.arange(-10, 10, 0.5)\n",
        "y = np.arange(-10, 10, 0.5)\n",
        "x, y = np.meshgrid(x, y)\n",
        "r = np.sqrt(x**2 + y**2)\n",
        "z = np.sin(r)\n",
        "\n",
        "# Create a structured surface.\n",
        "grid = pv.StructuredGrid(x, y, z)\n",
        "\n",
        "# Create a plotter object and set the scalars to the Z height.\n",
        "# The scalar values determine the color of each region.\n",
        "plotter = pv.Plotter(notebook=False, off_screen=True)\n",
        "plotter.add_mesh(\n",
        "    grid,\n",
        "    scalars=z.ravel(),\n",
        "    lighting=False,\n",
        "    show_edges=True,\n",
        "    scalar_bar_args={\"title\": \"Height\"},\n",
        "    clim=[-1, 1],\n",
        ")\n",
        "\n",
        "# Open a gif.\n",
        "plotter.open_gif(\"wave.gif\")\n",
        "\n",
        "# Make a copy of the point array.\n",
        "# Update the z-values for each frame.\n",
        "pts = grid.points.copy()\n",
        "\n",
        "# Update Z and write a frame for each update.\n",
        "nframe = 15\n",
        "for phase in np.linspace(0, 2 * np.pi, nframe + 1)[:nframe]:\n",
        "    # Update the points.\n",
        "    z = np.sin(r + phase)\n",
        "    pts[:, -1] = z.ravel()\n",
        "\n",
        "    # Update the plot.\n",
        "    plotter.update_coordinates(pts, render=False)\n",
        "    plotter.update_scalars(z.ravel(), render=False)\n",
        "\n",
        "    # Write a frame. This triggers a render.\n",
        "    plotter.write_frame()\n",
        "\n",
        "# Close the plotter and finalize the movie.\n",
        "plotter.close()"
      ]
    },
    {
      "cell_type": "code",
      "execution_count": null,
      "metadata": {
        "id": "3IIkPCO62rhl"
      },
      "outputs": [],
      "source": [
        "from IPython.display import Image\n",
        "\n",
        "# Open the GIF and read it byte by byte.\n",
        "gif = open('/content/wave.gif', 'rb').read()\n",
        "\n",
        "# Display it as an image.\n",
        "Image(gif) "
      ]
    },
    {
      "cell_type": "markdown",
      "metadata": {
        "id": "8X0iITBxm0iH"
      },
      "source": [
        "# Diffusion\n",
        "\n",
        "The rest of the notebook illustrate how to solve a diffusion problem and visualize the results using FEniCSx.  It was adapted for CoLab from the tutorial for the FEniCS 2022 conference:\n",
        "\n",
        "https://jorgensd.github.io/fenics22-tutorial/heat_eq.html"
      ]
    },
    {
      "cell_type": "code",
      "execution_count": null,
      "metadata": {
        "id": "BToO26B4m3E5"
      },
      "outputs": [],
      "source": [
        "# Import specific libraries from dolfinx.\n",
        "from dolfinx import mesh, fem, io, plot, la"
      ]
    },
    {
      "cell_type": "code",
      "execution_count": null,
      "metadata": {
        "id": "7ceyHWrzn6tg"
      },
      "outputs": [],
      "source": [
        "# Create a simple rectangular mesh.\n",
        "from mpi4py import MPI\n",
        "length, height = 10, 3\n",
        "Nx, Ny = 80, 60\n",
        "extent = [[0., 0.], [length, height]]\n",
        "domain = mesh.create_rectangle(\n",
        "    MPI.COMM_WORLD, extent, [Nx, Ny], mesh.CellType.quadrilateral)"
      ]
    },
    {
      "cell_type": "code",
      "execution_count": null,
      "metadata": {
        "id": "LbZV3E7cn78X"
      },
      "outputs": [],
      "source": [
        "# If there are multiple processes, distribute the mesh to each.\n",
        "local_domain = mesh.create_rectangle(\n",
        "    MPI.COMM_SELF, extent, [Nx, Ny], mesh.CellType.quadrilateral)"
      ]
    },
    {
      "cell_type": "code",
      "execution_count": null,
      "metadata": {
        "id": "EkNWZPG_n-Sf"
      },
      "outputs": [],
      "source": [
        "# Prepare the mesh for plotting.\n",
        "import dolfinx.plot\n",
        "topology, cells, geometry = dolfinx.plot.create_vtk_mesh(domain)"
      ]
    },
    {
      "cell_type": "code",
      "source": [
        "# Plot the mesh with PyVista.\n",
        "import pyvista\n",
        "pyvista.start_xvfb()\n",
        "\n",
        "# Turn the mesh into a PyVista grid.\n",
        "grid = pyvista.UnstructuredGrid(topology, cells, geometry)\n",
        "pyvista.set_jupyter_backend(\"pythreejs\")\n",
        "\n",
        "# Create the plot and export it to HTML.\n",
        "plotter = pyvista.Plotter(window_size=(800, 400))\n",
        "renderer = plotter.add_mesh(grid, show_edges=True)\n",
        "plotter.view_xy()\n",
        "plotter.camera.zoom(2)\n",
        "\n",
        "# Save the HTML file.\n",
        "plotter.export_html(\"./beam.html\", backend=\"pythreejs\")"
      ],
      "metadata": {
        "id": "fjCWHCYTPCPl"
      },
      "execution_count": null,
      "outputs": []
    },
    {
      "cell_type": "code",
      "execution_count": null,
      "metadata": {
        "id": "WC2a9e_3wv-q"
      },
      "outputs": [],
      "source": [
        "# Use the IPython library to embed the HTML in the CoLab notebook.\n",
        "import IPython\n",
        "IPython.display.HTML(filename='/content/beam.html')"
      ]
    },
    {
      "cell_type": "code",
      "execution_count": null,
      "metadata": {
        "id": "sTPagyEXxDVv"
      },
      "outputs": [],
      "source": [
        "# Now set up the finite element problem.\n",
        "# ufl gives us the tools for an abstract description of the problem.\n",
        "from ufl import (TestFunction, SpatialCoordinate, TrialFunction,\n",
        "                 as_vector, dx, grad, inner, system)\n",
        "\n",
        "# These are the functions and function spaces for the finite element problem.\n",
        "V = fem.FunctionSpace(domain, (\"Lagrange\", 1))\n",
        "u = TrialFunction(V)\n",
        "v = TestFunction(V)\n",
        "un = fem.Function(V)\n",
        "\n",
        "# This is the source.  We set it to zero for a diffusion equation whose\n",
        "# sources are only on the boundary.\n",
        "f = fem.Constant(domain, 0.0)\n",
        "\n",
        "# This is the diffusion coefficient.\n",
        "mu = fem.Constant(domain, 100.0)\n",
        "\n",
        "# This is the time step for the simulation.\n",
        "dt = fem.Constant(domain, 0.05)"
      ]
    },
    {
      "cell_type": "code",
      "execution_count": null,
      "metadata": {
        "id": "VMKeLpYwx7Wk"
      },
      "outputs": [],
      "source": [
        "# This is the problem we are going to solve.\n",
        "F = inner(u - un, v) * dx + dt * mu * inner(grad(u), grad(v)) * dx\n",
        "F -= dt * inner(f, v) * dx\n",
        "(a, L) = system(F)"
      ]
    },
    {
      "cell_type": "code",
      "execution_count": null,
      "metadata": {
        "id": "MuR3ZvMfx945"
      },
      "outputs": [],
      "source": [
        "# Define the potential on one boundary.\n",
        "# The other boundaries will be open.\n",
        "import numpy as np\n",
        "\n",
        "def uD_function(t):\n",
        "    return lambda x: np.exp(-(x[1] - height/2)**2) * np.cos(t)\n",
        "    # return lambda x: x[1] * np.cos(t)\n",
        "\n",
        "# Turn this function definition into a time-dependent function on the mesh.\n",
        "uD = fem.Function(V)\n",
        "\n",
        "# Initialize the function for t=0.\n",
        "t = 0\n",
        "uD.interpolate(uD_function(t))"
      ]
    },
    {
      "cell_type": "code",
      "execution_count": null,
      "metadata": {
        "id": "F_4KpXvPyAYx"
      },
      "outputs": [],
      "source": [
        "# Define a function to locate boundaries.\n",
        "# It will return True for points on the boundary, and False otherwise.\n",
        "def dirichlet_facets(x):\n",
        "    return np.isclose(x[0], length)\n",
        "\n",
        "# Next, we use this function to tag each cell along the boundary.\n",
        "tdim = domain.topology.dim\n",
        "bc_facets = mesh.locate_entities_boundary(\n",
        "    domain, tdim - 1, dirichlet_facets)\n",
        "\n",
        "# Identify those for which the function was True as\n",
        "# boundary_dofs = \"boundary degrees of freedom\"\n",
        "bndry_dofs = fem.locate_dofs_topological(V, tdim - 1, bc_facets)\n",
        "\n",
        "# Add these to the list of boundary conditions to be imposed.\n",
        "# This will apply the uD function to the cells along the boundary.\n",
        "# It will be updated during each time step.\n",
        "bcs = [fem.dirichletbc(uD, bndry_dofs)]"
      ]
    },
    {
      "cell_type": "code",
      "execution_count": null,
      "metadata": {
        "id": "ZC3wgTtyyHMg"
      },
      "outputs": [],
      "source": [
        "# Building the matrix for the finite element problem takes a while.\n",
        "# It does not change throughout the problem, either.  The following\n",
        "# line build the matrix once and store it for reuse.\n",
        "compiled_a = fem.form(a)\n",
        "A = fem.petsc.assemble_matrix(compiled_a, bcs=bcs)\n",
        "A.assemble()"
      ]
    },
    {
      "cell_type": "code",
      "execution_count": null,
      "metadata": {
        "id": "bRgpS7QayJQg"
      },
      "outputs": [],
      "source": [
        "# We do the same for the vector, but it will be updated at each time step.\n",
        "compiled_L = fem.form(L)\n",
        "b = fem.Function(V)"
      ]
    },
    {
      "cell_type": "code",
      "execution_count": null,
      "metadata": {
        "id": "LIY5PsXlyLVo"
      },
      "outputs": [],
      "source": [
        "# Now we use the PETSc problem to construct the linear algebra problem.\n",
        "from petsc4py import PETSc\n",
        "solver = PETSc.KSP().create(domain.comm)\n",
        "solver.setOperators(A)\n",
        "solver.setType(PETSc.KSP.Type.CG)\n",
        "pc = solver.getPC()\n",
        "pc.setType(PETSc.PC.Type.HYPRE)\n",
        "pc.setHYPREType(\"boomeramg\")"
      ]
    },
    {
      "cell_type": "code",
      "execution_count": null,
      "metadata": {
        "id": "YrWF8-JSyRWR"
      },
      "outputs": [],
      "source": [
        "# We will create a GIF using PyVista again.\n",
        "# Start virtual framebuffer for plotting.\n",
        "import pyvista\n",
        "pyvista.start_xvfb()\n",
        "\n",
        "# Create a plotter, but don't display the plot.\n",
        "# It will be making a movie in the background.\n",
        "plotter = pyvista.Plotter(notebook=False, off_screen=True)\n",
        "plotter.open_gif(\"u_time.gif\")"
      ]
    },
    {
      "cell_type": "code",
      "execution_count": null,
      "metadata": {
        "id": "YOI9GlSEyW9p"
      },
      "outputs": [],
      "source": [
        "# This is the function we will update.\n",
        "uh = fem.Function(V)\n",
        "\n",
        "# Prepare the mesh for PyVista ...\n",
        "topology, cells, geometry = plot.create_vtk_mesh(V)\n",
        "\n",
        "# And add it to the plot.\n",
        "grid = pyvista.UnstructuredGrid(topology, cells, geometry)\n",
        "grid.point_data[\"uh\"] = uh.x.array"
      ]
    },
    {
      "cell_type": "code",
      "execution_count": null,
      "metadata": {
        "id": "Axc3rwBYyasZ"
      },
      "outputs": [],
      "source": [
        "# The grid is flat.  This will warp the grid into three dimensions\n",
        "# using the value of the function as the height.\n",
        "warped = grid.warp_by_scalar(\"uh\", factor=2)\n",
        "\n",
        "# Add the warped grid to the plot.\n",
        "plotter.add_mesh(\n",
        "    warped,\n",
        "    lighting=False,\n",
        "    show_edges=False,\n",
        "    scalar_bar_args={\"title\": \"Height\"},\n",
        "    clim=[-1, 1],\n",
        "    cmap='turbo'\n",
        ")\n",
        "\n",
        "# Set up the camera for the movie.\n",
        "# plotter.view_xy()\n",
        "# plotter.camera.zoom(-1.3)"
      ]
    },
    {
      "cell_type": "code",
      "execution_count": null,
      "metadata": {
        "id": "qzIDJasOyemZ"
      },
      "outputs": [],
      "source": [
        "# Now, compute an update for each time step and add it to the movie.\n",
        "\n",
        "# Initial time\n",
        "t = 0\n",
        "\n",
        "# Final time\n",
        "T = 4 * np.pi\n",
        "\n",
        "# Loop until completion.\n",
        "while t < T:\n",
        "    # Update boundary conditions.\n",
        "    t += dt.value\n",
        "    uD.interpolate(uD_function(t))\n",
        "\n",
        "    # Assemble the RSH: the vector on the \"right-hand side\" of A.u = b.\n",
        "    b.x.array[:] = 0\n",
        "    fem.petsc.assemble_vector(b.vector, compiled_L)\n",
        "\n",
        "    # Apply boundary condition.\n",
        "    # These commands distribute the updated problem to all processes.\n",
        "    fem.petsc.apply_lifting(b.vector, [compiled_a], [bcs])\n",
        "    b.x.scatter_reverse(la.ScatterMode.add)\n",
        "    fem.petsc.set_bc(b.vector, bcs)\n",
        "\n",
        "    # Solve linear problem.\n",
        "    solver.solve(b.vector, uh.vector)\n",
        "\n",
        "    # Distribute the solution to all processes.\n",
        "    uh.x.scatter_forward()\n",
        "\n",
        "    # Update un --- the current value of the function.\n",
        "    un.x.array[:] = uh.x.array\n",
        "\n",
        "    # Update the plot and save the frame to the GIF.\n",
        "    grid.point_data[\"uh\"] = uh.x.array\n",
        "    warped = grid.warp_by_scalar(\"uh\", factor=2)\n",
        "    plotter.update_scalars(uh.x.array, render=False)\n",
        "    plotter.update_coordinates(warped.points)\n",
        "    plotter.write_frame()\n",
        "\n",
        "# Close the plotter and finish processing the movie.\n",
        "plotter.close()"
      ]
    },
    {
      "cell_type": "code",
      "execution_count": null,
      "metadata": {
        "id": "i-oKmrQ090Xh"
      },
      "outputs": [],
      "source": [
        "# Read the GIF.  Display it in the notebook.\n",
        "from IPython.display import Image\n",
        "Image(open('/content/u_time.gif', 'rb').read())"
      ]
    },
    {
      "cell_type": "code",
      "source": [],
      "metadata": {
        "id": "Qx-TZzXXgRbD"
      },
      "execution_count": null,
      "outputs": []
    }
  ],
  "metadata": {
    "colab": {
      "collapsed_sections": [
        "wfD2qGNBKUjl",
        "8X0iITBxm0iH"
      ],
      "provenance": [],
      "authorship_tag": "ABX9TyP9rgDtIeIEQOF75ZfSFn0h",
      "include_colab_link": true
    },
    "kernelspec": {
      "display_name": "Python 3",
      "name": "python3"
    },
    "language_info": {
      "name": "python"
    }
  },
  "nbformat": 4,
  "nbformat_minor": 0
}