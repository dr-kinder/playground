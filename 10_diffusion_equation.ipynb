{
  "cells": [
    {
      "cell_type": "markdown",
      "metadata": {
        "id": "view-in-github",
        "colab_type": "text"
      },
      "source": [
        "<a href=\"https://colab.research.google.com/github/dr-kinder/playground/blob/dev/10_diffusion_equation.ipynb\" target=\"_parent\"><img src=\"https://colab.research.google.com/assets/colab-badge.svg\" alt=\"Open In Colab\"/></a>"
      ]
    },
    {
      "cell_type": "markdown",
      "source": [
        "# Introduction\n",
        "\n",
        "This notebook introduce the time dependent equations of electrodynamics.\n",
        "\n",
        "We will use Maxwell's equations to explore how the charge, potentials, and fields relax to equilibrium.  Refer to Sections 4.1, 4.4, and 4.5 of our textbook for background on the equations for the fields.\n",
        "\n",
        "Refer to the [`colab_movies.ipynb`](https://github.com/dr-kinder/playground/blob/dev/colab_movies.ipynb) notebook for more explanation of some details of the code."
      ],
      "metadata": {
        "id": "U7wWS6Tbnebb"
      }
    },
    {
      "cell_type": "markdown",
      "metadata": {
        "id": "8xYOJjrrmvL7"
      },
      "source": [
        "# Install and Import"
      ]
    },
    {
      "cell_type": "code",
      "execution_count": 1,
      "metadata": {
        "id": "dUcWSRSU55t7"
      },
      "outputs": [],
      "source": [
        "from IPython import display"
      ]
    },
    {
      "cell_type": "code",
      "execution_count": 2,
      "metadata": {
        "id": "1nWiL9DC3Noa"
      },
      "outputs": [],
      "source": [
        "# Need to upgrade matplotlib for some PyVista plotting commands to work.\n",
        "# Run this cell, then select \"Runtime > Restart runtime\" from the CoLab menu.\n",
        "!pip install --upgrade matplotlib\n",
        "\n",
        "display.clear_output()"
      ]
    },
    {
      "cell_type": "code",
      "execution_count": 3,
      "metadata": {
        "id": "2fYTkoDJmkR4"
      },
      "outputs": [],
      "source": [
        "try:\n",
        "    import gmsh\n",
        "except ImportError:\n",
        "    !wget \"https://fem-on-colab.github.io/releases/gmsh-install.sh\" -O \"/tmp/gmsh-install.sh\" && bash \"/tmp/gmsh-install.sh\"\n",
        "    import gmsh\n",
        "\n",
        "display.clear_output()"
      ]
    },
    {
      "cell_type": "code",
      "execution_count": 4,
      "metadata": {
        "id": "CspovEw3lxk4"
      },
      "outputs": [],
      "source": [
        "# This simulation uses real values.\n",
        "try:\n",
        "    import dolfinx\n",
        "except ImportError:\n",
        "    !wget \"https://fem-on-colab.github.io/releases/fenicsx-install-real.sh\" -O \"/tmp/fenicsx-install.sh\" && bash \"/tmp/fenicsx-install.sh\"\n",
        "    import dolfinx\n",
        "\n",
        "display.clear_output()"
      ]
    },
    {
      "cell_type": "code",
      "execution_count": 5,
      "metadata": {
        "id": "Uo80FMagml8w"
      },
      "outputs": [],
      "source": [
        "try:\n",
        "    import multiphenicsx\n",
        "except ImportError:\n",
        "    !pip3 install \"multiphenicsx@git+https://github.com/multiphenics/multiphenicsx.git@906a91b\"\n",
        "    import multiphenicsx\n",
        "\n",
        "display.clear_output()"
      ]
    },
    {
      "cell_type": "code",
      "source": [
        "# Everything should be installed now.\n",
        "# Import the rest of what we need.\n",
        "\n",
        "import gmsh\n",
        "\n",
        "from dolfinx import fem, mesh, plot, la\n",
        "from dolfinx.io import gmshio\n",
        "import ufl\n",
        "\n",
        "from mpi4py import MPI\n",
        "import petsc4py.PETSc as petsc\n",
        "\n",
        "import multiphenicsx.io as mpio\n",
        "\n",
        "import numpy as np\n",
        "import pyvista"
      ],
      "metadata": {
        "id": "k-8QYHmUtnhe"
      },
      "execution_count": 6,
      "outputs": []
    },
    {
      "cell_type": "markdown",
      "source": [
        "# Initial Conditions\n",
        "\n",
        "The code in this section is a copy of [06-finite-element-method.ipynb](https://github.com/dr-kinder/electrodynamics/blob/master/week-03/06-finite-element-method.ipynb).  We will use the solution to the electrostatics problem as the initial condition for an electrodynamics problem."
      ],
      "metadata": {
        "id": "wfD2qGNBKUjl"
      }
    },
    {
      "cell_type": "markdown",
      "source": [
        "## Model\n",
        "\n",
        "This is the same model as the original calculation."
      ],
      "metadata": {
        "id": "7Whv3SwXva-A"
      }
    },
    {
      "cell_type": "code",
      "source": [
        "# Create a simple rectangular mesh.\n",
        "length = 10\n",
        "height = 10\n",
        "Nx, Ny = 51, 51\n",
        "extent = [[-length/2, -height/2], [length/2, height/2]]\n",
        "domain = mesh.create_rectangle(\n",
        "    MPI.COMM_WORLD, extent, [Nx, Ny], mesh.CellType.triangle)"
      ],
      "metadata": {
        "id": "3H7XjEPKhCZb"
      },
      "execution_count": 7,
      "outputs": []
    },
    {
      "cell_type": "code",
      "source": [
        "# Plot the subdomains that FEniCSx has identified.\n",
        "# There should only be one for this model.\n",
        "mpio.plot_mesh(domain)"
      ],
      "metadata": {
        "colab": {
          "base_uri": "https://localhost:8080/",
          "height": 717,
          "referenced_widgets": [
            "24cc1343383a46ecb0eaa8ffea3f250d",
            "0543a17218ff422993981ae4685abd73"
          ]
        },
        "id": "EIxy4PrXzLnM",
        "outputId": "6137c636-276c-439d-d507-a874315b1916"
      },
      "execution_count": 8,
      "outputs": [
        {
          "output_type": "display_data",
          "data": {
            "text/plain": [
              "Viewer(geometries=[{'vtkClass': 'vtkPolyData', 'points': {'vtkClass': 'vtkPoints', 'name': '_points', 'numberO…"
            ],
            "application/vnd.jupyter.widget-view+json": {
              "version_major": 2,
              "version_minor": 0,
              "model_id": "24cc1343383a46ecb0eaa8ffea3f250d"
            }
          },
          "metadata": {
            "application/vnd.jupyter.widget-view+json": {
              "colab": {
                "custom_widget_manager": {
                  "url": "https://ssl.gstatic.com/colaboratory-static/widgets/colab-cdn-widget-manager/d2e234f7cc04bf79/manager.min.js"
                }
              }
            }
          }
        },
        {
          "output_type": "display_data",
          "data": {
            "text/plain": [
              "Viewer(geometries=[{'vtkClass': 'vtkPolyData', 'points': {'vtkClass': 'vtkPoints', 'name': '_points', 'numberO…"
            ],
            "application/vnd.jupyter.widget-view+json": {
              "version_major": 2,
              "version_minor": 0,
              "model_id": "24cc1343383a46ecb0eaa8ffea3f250d"
            }
          },
          "metadata": {
            "application/vnd.jupyter.widget-view+json": {
              "colab": {
                "custom_widget_manager": {
                  "url": "https://ssl.gstatic.com/colaboratory-static/widgets/colab-cdn-widget-manager/d2e234f7cc04bf79/manager.min.js"
                }
              }
            }
          }
        }
      ]
    },
    {
      "cell_type": "markdown",
      "source": [
        "## Charge Density\n",
        "\n",
        "This time, we will define the charge density as a time-dependent function on the grid."
      ],
      "metadata": {
        "id": "0r_2Mis6veMm"
      }
    },
    {
      "cell_type": "code",
      "source": [
        "# Define a set of functions on our mesh.\n",
        "V = dolfinx.fem.FunctionSpace(domain, (\"Lagrange\", 2))"
      ],
      "metadata": {
        "id": "N6Zt5bLlydd_"
      },
      "execution_count": 9,
      "outputs": []
    },
    {
      "cell_type": "code",
      "source": [
        "# Define the charge.\n",
        "xC = 2\n",
        "yC = -1\n",
        "Q = 1\n",
        "sQ = 0.2\n",
        "beta = 1/sQ\n",
        "tau = 1\n",
        "\n",
        "# This function returns a function that can be interpolated.\n",
        "def rho_function(t):\n",
        "    return lambda x: Q * beta / 2 / np.pi * np.exp(-t/tau) * np.exp(-0.5 * beta**2 * ((x[0]-xC)**2 + (x[1] - yC)**2))\n",
        "\n",
        "# Turn this function definition into a time-dependent function on the mesh.\n",
        "rho = fem.Function(V)\n",
        "\n",
        "# Initialize the function for t=0.\n",
        "rho.interpolate(rho_function(0))"
      ],
      "metadata": {
        "id": "u2VhsKznwKVx"
      },
      "execution_count": 10,
      "outputs": []
    },
    {
      "cell_type": "code",
      "source": [
        "# Now, plot it.\n",
        "multiphenicsx.io.plot_scalar_field(rho, name=\"Charge Density\", warp_factor=10)"
      ],
      "metadata": {
        "colab": {
          "base_uri": "https://localhost:8080/",
          "height": 717,
          "referenced_widgets": [
            "2ef2180e37e3482188f899c22490abed",
            "d332b86ff52548a5b62c5bd724ce55bf"
          ]
        },
        "id": "EoqqTY7syO08",
        "outputId": "a3dfdad5-6e32-46ac-9f45-d1b5f40e250f"
      },
      "execution_count": 11,
      "outputs": [
        {
          "output_type": "display_data",
          "data": {
            "text/plain": [
              "Viewer(geometries=[{'vtkClass': 'vtkPolyData', 'points': {'vtkClass': 'vtkPoints', 'name': '_points', 'numberO…"
            ],
            "application/vnd.jupyter.widget-view+json": {
              "version_major": 2,
              "version_minor": 0,
              "model_id": "2ef2180e37e3482188f899c22490abed"
            }
          },
          "metadata": {
            "application/vnd.jupyter.widget-view+json": {
              "colab": {
                "custom_widget_manager": {
                  "url": "https://ssl.gstatic.com/colaboratory-static/widgets/colab-cdn-widget-manager/d2e234f7cc04bf79/manager.min.js"
                }
              }
            }
          }
        },
        {
          "output_type": "display_data",
          "data": {
            "text/plain": [
              "Viewer(geometries=[{'vtkClass': 'vtkPolyData', 'points': {'vtkClass': 'vtkPoints', 'name': '_points', 'numberO…"
            ],
            "application/vnd.jupyter.widget-view+json": {
              "version_major": 2,
              "version_minor": 0,
              "model_id": "2ef2180e37e3482188f899c22490abed"
            }
          },
          "metadata": {
            "application/vnd.jupyter.widget-view+json": {
              "colab": {
                "custom_widget_manager": {
                  "url": "https://ssl.gstatic.com/colaboratory-static/widgets/colab-cdn-widget-manager/d2e234f7cc04bf79/manager.min.js"
                }
              }
            }
          }
        }
      ]
    },
    {
      "cell_type": "markdown",
      "source": [
        "## Boundary Conditions\n",
        "\n",
        "We will set the potential to zero on the boundary to compute the initial potential and fields.  After this, the boundaries will be open."
      ],
      "metadata": {
        "id": "DiHcMIKP0qmj"
      }
    },
    {
      "cell_type": "code",
      "source": [
        "# Define a function to locate boundaries.\n",
        "# It will return True for points on the boundary, and False otherwise.\n",
        "def find_facets(x):\n",
        "    yes = np.isclose(x[0], -length/2)\n",
        "    yes += np.isclose(x[0], length/2)\n",
        "    yes += np.isclose(x[1], -height/2)\n",
        "    yes += np.isclose(x[1], height/2)\n",
        "    return yes\n",
        "\n",
        "# Next, we use this function to tag each cell along the boundary.\n",
        "tdim = domain.topology.dim\n",
        "bc_facets = mesh.locate_entities_boundary(\n",
        "    domain, tdim - 1, find_facets)\n",
        "\n",
        "# Identify those for which the function was True as\n",
        "# boundary_dofs = \"boundary degrees of freedom\"\n",
        "boundary_dofs = fem.locate_dofs_topological(V, tdim - 1, bc_facets)\n",
        "\n",
        "# # Now introduce the boundary condition: constant potential on the boundary.\n",
        "# Define the potential on the boundary.\n",
        "def uD_function(t):\n",
        "    return lambda x: 0 * x[0]\n",
        "\n",
        "# Turn this function definition into a time-dependent function on the mesh.\n",
        "uD = fem.Function(V)\n",
        "\n",
        "# Initialize the function for t=0.\n",
        "uD.interpolate(uD_function(0.0))\n",
        "\n",
        "# Add these to the list of boundary conditions to be imposed.\n",
        "# This will apply the uD function to the cells along the boundary.\n",
        "# It will be updated during each time step.\n",
        "bcs = [fem.dirichletbc(uD, boundary_dofs)]"
      ],
      "metadata": {
        "id": "gRRufVBR06yY"
      },
      "execution_count": 12,
      "outputs": []
    },
    {
      "cell_type": "markdown",
      "source": [
        "## Solve for the Initial Potential"
      ],
      "metadata": {
        "id": "AQdi4ksa1XWr"
      }
    },
    {
      "cell_type": "code",
      "source": [
        "# Define the trial and test functions.\n",
        "u = ufl.TrialFunction(V)\n",
        "v = ufl.TestFunction(V)\n",
        "\n",
        "# Create a function to store the solution.\n",
        "phi = fem.Function(V)\n",
        "phi_n = fem.Function(V)\n",
        "\n",
        "# This is the FEM version of the Laplacian.\n",
        "# It is the left-hand side of Poisson's equation.\n",
        "a = ufl.inner(ufl.grad(u), ufl.grad(v)) * ufl.dx\n",
        "\n",
        "# This is how we introduce the charge density.\n",
        "# It is the right-hand side of Poisson's equation.\n",
        "L = 4 * ufl.pi * rho * v * ufl.dx\n",
        "\n",
        "# Put it all together for FEniCSx.\n",
        "problem = fem.petsc.LinearProblem(a, L, bcs=bcs, u=phi, petsc_options={\"ksp_type\": \"preonly\", \"pc_type\": \"lu\"})\n",
        "\n",
        "# Now, solve it!\n",
        "problem.solve()\n",
        "\n",
        "# Tie up some loose ends.\n",
        "phi.vector.ghostUpdate(addv=petsc.InsertMode.INSERT, mode=petsc.ScatterMode.FORWARD)"
      ],
      "metadata": {
        "id": "kOGO4gTK1Otb"
      },
      "execution_count": 13,
      "outputs": []
    },
    {
      "cell_type": "code",
      "source": [
        "# Plot the solution.\n",
        "mpio.plot_scalar_field(phi, \"Potential\", 10)"
      ],
      "metadata": {
        "colab": {
          "base_uri": "https://localhost:8080/",
          "height": 717,
          "referenced_widgets": [
            "649c8c4beefa4bf3aa46dda7fca65d77",
            "20cb38c0fb6c4f7c8b8feeceb3a5eba5"
          ]
        },
        "id": "duiri7G61iXi",
        "outputId": "19029d68-2df5-4e7e-8325-c1ed1b099420"
      },
      "execution_count": 14,
      "outputs": [
        {
          "output_type": "display_data",
          "data": {
            "text/plain": [
              "Viewer(geometries=[{'vtkClass': 'vtkPolyData', 'points': {'vtkClass': 'vtkPoints', 'name': '_points', 'numberO…"
            ],
            "application/vnd.jupyter.widget-view+json": {
              "version_major": 2,
              "version_minor": 0,
              "model_id": "649c8c4beefa4bf3aa46dda7fca65d77"
            }
          },
          "metadata": {
            "application/vnd.jupyter.widget-view+json": {
              "colab": {
                "custom_widget_manager": {
                  "url": "https://ssl.gstatic.com/colaboratory-static/widgets/colab-cdn-widget-manager/d2e234f7cc04bf79/manager.min.js"
                }
              }
            }
          }
        },
        {
          "output_type": "display_data",
          "data": {
            "text/plain": [
              "Viewer(geometries=[{'vtkClass': 'vtkPolyData', 'points': {'vtkClass': 'vtkPoints', 'name': '_points', 'numberO…"
            ],
            "application/vnd.jupyter.widget-view+json": {
              "version_major": 2,
              "version_minor": 0,
              "model_id": "649c8c4beefa4bf3aa46dda7fca65d77"
            }
          },
          "metadata": {
            "application/vnd.jupyter.widget-view+json": {
              "colab": {
                "custom_widget_manager": {
                  "url": "https://ssl.gstatic.com/colaboratory-static/widgets/colab-cdn-widget-manager/d2e234f7cc04bf79/manager.min.js"
                }
              }
            }
          }
        }
      ]
    },
    {
      "cell_type": "code",
      "source": [
        "# Define a set of elements for a vector field.\n",
        "W = dolfinx.fem.VectorFunctionSpace(domain, (\"Lagrange\", 2))\n",
        "E = dolfinx.fem.Function(W)\n",
        "\n",
        "# Compute the gradient as a symbolic expression, then interpolate it onto the mesh.\n",
        "expr = dolfinx.fem.Expression(ufl.as_vector((-phi.dx(0), -phi.dx(1))), W.element.interpolation_points())\n",
        "E.interpolate(expr)"
      ],
      "metadata": {
        "id": "6QOQU3-z3tIN"
      },
      "execution_count": 15,
      "outputs": []
    },
    {
      "cell_type": "code",
      "source": [
        "# Use multiphenics to plot the vector field.\n",
        "mpio.plot_vector_field(E,name=\"Electric Field\", glyph_factor=0.5)"
      ],
      "metadata": {
        "colab": {
          "base_uri": "https://localhost:8080/",
          "height": 717,
          "referenced_widgets": [
            "86927578cdf943ac941c91fb83045b45",
            "0133850fcb9f44d5ad02fd78ea3583ae"
          ]
        },
        "id": "rYQO_vX44dpE",
        "outputId": "67d27514-0c0d-4ffc-ca44-b86e46ce5413"
      },
      "execution_count": 16,
      "outputs": [
        {
          "output_type": "display_data",
          "data": {
            "text/plain": [
              "Viewer(geometries=[{'vtkClass': 'vtkPolyData', 'points': {'vtkClass': 'vtkPoints', 'name': '_points', 'numberO…"
            ],
            "application/vnd.jupyter.widget-view+json": {
              "version_major": 2,
              "version_minor": 0,
              "model_id": "86927578cdf943ac941c91fb83045b45"
            }
          },
          "metadata": {
            "application/vnd.jupyter.widget-view+json": {
              "colab": {
                "custom_widget_manager": {
                  "url": "https://ssl.gstatic.com/colaboratory-static/widgets/colab-cdn-widget-manager/d2e234f7cc04bf79/manager.min.js"
                }
              }
            }
          }
        },
        {
          "output_type": "display_data",
          "data": {
            "text/plain": [
              "Viewer(geometries=[{'vtkClass': 'vtkPolyData', 'points': {'vtkClass': 'vtkPoints', 'name': '_points', 'numberO…"
            ],
            "application/vnd.jupyter.widget-view+json": {
              "version_major": 2,
              "version_minor": 0,
              "model_id": "86927578cdf943ac941c91fb83045b45"
            }
          },
          "metadata": {
            "application/vnd.jupyter.widget-view+json": {
              "colab": {
                "custom_widget_manager": {
                  "url": "https://ssl.gstatic.com/colaboratory-static/widgets/colab-cdn-widget-manager/d2e234f7cc04bf79/manager.min.js"
                }
              }
            }
          }
        }
      ]
    },
    {
      "cell_type": "code",
      "source": [
        "# Store this solution for reuse later.\n",
        "phi_initial = phi.copy()"
      ],
      "metadata": {
        "id": "B7VkQCLJ4dbA"
      },
      "execution_count": 17,
      "outputs": []
    },
    {
      "cell_type": "markdown",
      "source": [
        "# Slow Relaxation\n",
        "\n",
        "We now let the system relax to equilibrium.  If the system is weakly conducting, then relaxation to equilibrium is slow enough that conduction and displacement currents cancel each other and there is no magnetic field.  (See Heald & Marion 4.4.)\n",
        "\n",
        "In this case, the problem is \"quasi-static\".  We can solve the time *dependent* problem by solving a time *independent* problem at each time step, using the current value of $rho(t)$.\n",
        "\n",
        "The continuity equation and Ohm's Law imply that\n",
        "$$\\rho(t) = \\rho_0 \\, e^{-t/\\tau}$$\n",
        "where the relaxation time $\\tau$ is\n",
        "$$\\tau = \\dfrac{4\\pi\\sigma}{\\epsilon}$$.\n",
        "\n",
        "We can visualize this by placing the FEM solving code inside of a loop."
      ],
      "metadata": {
        "id": "gjiA60vJ5Ia3"
      }
    },
    {
      "cell_type": "code",
      "execution_count": 18,
      "metadata": {
        "id": "sTPagyEXxDVv"
      },
      "outputs": [],
      "source": [
        "# This is the time step for the simulation.\n",
        "dt = fem.Constant(domain, 0.05)\n",
        "\n",
        "# Initial time and maximum time.\n",
        "t0 = 0.0\n",
        "t_max = 10*tau"
      ]
    },
    {
      "cell_type": "code",
      "execution_count": 19,
      "metadata": {
        "id": "VMKeLpYwx7Wk"
      },
      "outputs": [],
      "source": [
        "# Constant factor from Maxwell's equations.\n",
        "k = fem.Constant(domain, 4*np.pi)\n",
        "\n",
        "# This is the problem we are going to solve.\n",
        "F = ufl.inner(ufl.grad(u), ufl.grad(v)) * ufl.dx\n",
        "F -= k * ufl.inner(rho, v) * ufl.dx\n",
        "(a, L) = ufl.system(F)"
      ]
    },
    {
      "cell_type": "code",
      "execution_count": 20,
      "metadata": {
        "id": "ZC3wgTtyyHMg"
      },
      "outputs": [],
      "source": [
        "# Building the matrix for the finite element problem takes a while.\n",
        "# It does not change throughout the problem, either.  The following\n",
        "# line build the matrix once and store it for reuse.\n",
        "compiled_a = fem.form(a)\n",
        "A = fem.petsc.assemble_matrix(compiled_a, bcs=bcs)\n",
        "A.assemble()"
      ]
    },
    {
      "cell_type": "code",
      "execution_count": 21,
      "metadata": {
        "id": "bRgpS7QayJQg"
      },
      "outputs": [],
      "source": [
        "# We do the same for the vector, but it will be updated at each time step.\n",
        "compiled_L = fem.form(L)\n",
        "b = fem.Function(V)"
      ]
    },
    {
      "cell_type": "code",
      "execution_count": 22,
      "metadata": {
        "id": "LIY5PsXlyLVo"
      },
      "outputs": [],
      "source": [
        "# Now we use the PETSc problem to construct the linear algebra problem.\n",
        "solver = petsc.KSP().create(domain.comm)\n",
        "solver.setOperators(A)\n",
        "solver.setType(petsc.KSP.Type.CG)\n",
        "pc = solver.getPC()\n",
        "pc.setType(petsc.PC.Type.HYPRE)\n",
        "pc.setHYPREType(\"boomeramg\")"
      ]
    },
    {
      "cell_type": "code",
      "execution_count": 23,
      "metadata": {
        "id": "YrWF8-JSyRWR"
      },
      "outputs": [],
      "source": [
        "import pyvista\n",
        "# Start virtual framebuffer for plotting.\n",
        "pyvista.start_xvfb()\n",
        "\n",
        "# Prepare the mesh for PyVista ...\n",
        "topology, cells, geometry = plot.create_vtk_mesh(V)"
      ]
    },
    {
      "cell_type": "code",
      "source": [
        "# Create a plotter for charge density, but don't display the plot.\n",
        "rho_file = \"%03d-charge.jpg\"\n",
        "\n",
        "# It will be making a movie in the background.\n",
        "rho_plotter = pyvista.Plotter(notebook=False, off_screen=True)\n",
        "\n",
        "# And add the charge and potentials to the plot.\n",
        "topology, cells, geometry = plot.create_vtk_mesh(rho.function_space)\n",
        "rho_grid = pyvista.UnstructuredGrid(topology, cells, geometry)\n",
        "rho_grid.point_data[\"rho\"] = rho.x.array\n",
        "rho_grid.set_active_scalars(\"rho\")\n",
        "\n",
        "# The grid is flat.  This will warp the grid into three dimensions\n",
        "# using the value of the function as the height.\n",
        "rho_warped = rho_grid.warp_by_scalar(\"rho\", factor=10)\n",
        "\n",
        "# Add the warped grid to the plot.\n",
        "rho_plotter.add_mesh(\n",
        "    rho_warped,\n",
        "    lighting=False,\n",
        "    show_edges=False,\n",
        "    clim=[0, 1],\n",
        "    cmap='turbo'\n",
        ")"
      ],
      "metadata": {
        "id": "1C5DctzKIgeU",
        "colab": {
          "base_uri": "https://localhost:8080/"
        },
        "outputId": "15346442-3943-4911-caf4-37b80fec6965"
      },
      "execution_count": 24,
      "outputs": [
        {
          "output_type": "execute_result",
          "data": {
            "text/plain": [
              "Actor (0x7f9512eeb4b0)\n",
              "  Center:                     (0.0, 0.0, 3.884403944015503)\n",
              "  Pickable:                   True\n",
              "  Position:                   (0.0, 0.0, 0.0)\n",
              "  Scale:                      (1.0, 1.0, 1.0)\n",
              "  Visible:                    True\n",
              "  X Bounds                    -5.000E+00, 5.000E+00\n",
              "  Y Bounds                    -5.000E+00, 5.000E+00\n",
              "  Z Bounds                    0.000E+00, 7.769E+00\n",
              "  User matrix:                Unset\n",
              "  Has mapper:                 True\n",
              "\n",
              "Property (0x7f9512eebd70)\n",
              "  Ambient:                     0.0\n",
              "  Ambient color:               Color(name='white', hex='#ffffffff')\n",
              "  Anisotropy:                  0.0\n",
              "  Color:                       Color(name='white', hex='#ffffffff')\n",
              "  Culling:                     \"none\"\n",
              "  Diffuse:                     1.0\n",
              "  Diffuse color:               Color(name='white', hex='#ffffffff')\n",
              "  Edge color:                  Color(name='black', hex='#000000ff')\n",
              "  Interpolation:               \"Flat\"\n",
              "  Lighting:                    False\n",
              "  Line width:                  1.0\n",
              "  Metallic:                    0.0\n",
              "  Opacity:                     1.0\n",
              "  Point size:                  5.0\n",
              "  Render lines as tubes:       False\n",
              "  Render points as spheres:    False\n",
              "  Roughness:                   0.5\n",
              "  Show edges:                  False\n",
              "  Specular:                    0.0\n",
              "  Specular color:              Color(name='white', hex='#ffffffff')\n",
              "  Specular power:              100.0\n",
              "  Style:                       \"Surface\"\n",
              "\n",
              "DataSetMapper (0x7f9512eeb9f0)\n",
              "  Scalar visibility:           True\n",
              "  Scalar range:                (0.0, 1.0)\n",
              "  Interpolate before mapping:  True\n",
              "  Scalar map mode:             point\n",
              "  Color mode:                  map\n",
              "\n",
              "Attached dataset:\n",
              "UnstructuredGrid (0x7f9512eeba60)\n",
              "  N Cells:\t5202\n",
              "  N Points:\t10609\n",
              "  X Bounds:\t-5.000e+00, 5.000e+00\n",
              "  Y Bounds:\t-5.000e+00, 5.000e+00\n",
              "  Z Bounds:\t0.000e+00, 7.769e+00\n",
              "  N Arrays:\t1"
            ]
          },
          "metadata": {},
          "execution_count": 24
        }
      ]
    },
    {
      "cell_type": "code",
      "source": [
        "# Do exactly the same thing for the potential.\n",
        "phi_file = \"%03d-potential.jpg\"\n",
        "phi_plotter = pyvista.Plotter(off_screen=True, notebook=False)\n",
        "phi_grid = pyvista.UnstructuredGrid(topology, cells, geometry)\n",
        "phi_grid.point_data[\"phi\"] = phi.x.array\n",
        "phi_warped = phi_grid.warp_by_scalar(\"phi\", factor=10)\n",
        "phi_plotter.add_mesh(\n",
        "    phi_warped,\n",
        "    lighting=False,\n",
        "    show_edges=False,\n",
        "    clim=[0, 1],\n",
        "    cmap='turbo'\n",
        ")"
      ],
      "metadata": {
        "id": "GNJELjkAIV_l",
        "colab": {
          "base_uri": "https://localhost:8080/"
        },
        "outputId": "4a0f4681-66c9-4f76-8596-394082662fd3"
      },
      "execution_count": 25,
      "outputs": [
        {
          "output_type": "execute_result",
          "data": {
            "text/plain": [
              "Actor (0x7f95128804b0)\n",
              "  Center:                     (0.0, 0.0, 6.0826334953308105)\n",
              "  Pickable:                   True\n",
              "  Position:                   (0.0, 0.0, 0.0)\n",
              "  Scale:                      (1.0, 1.0, 1.0)\n",
              "  Visible:                    True\n",
              "  X Bounds                    -5.000E+00, 5.000E+00\n",
              "  Y Bounds                    -5.000E+00, 5.000E+00\n",
              "  Z Bounds                    0.000E+00, 1.217E+01\n",
              "  User matrix:                Unset\n",
              "  Has mapper:                 True\n",
              "\n",
              "Property (0x7f9512880670)\n",
              "  Ambient:                     0.0\n",
              "  Ambient color:               Color(name='white', hex='#ffffffff')\n",
              "  Anisotropy:                  0.0\n",
              "  Color:                       Color(name='white', hex='#ffffffff')\n",
              "  Culling:                     \"none\"\n",
              "  Diffuse:                     1.0\n",
              "  Diffuse color:               Color(name='white', hex='#ffffffff')\n",
              "  Edge color:                  Color(name='black', hex='#000000ff')\n",
              "  Interpolation:               \"Flat\"\n",
              "  Lighting:                    False\n",
              "  Line width:                  1.0\n",
              "  Metallic:                    0.0\n",
              "  Opacity:                     1.0\n",
              "  Point size:                  5.0\n",
              "  Render lines as tubes:       False\n",
              "  Render points as spheres:    False\n",
              "  Roughness:                   0.5\n",
              "  Show edges:                  False\n",
              "  Specular:                    0.0\n",
              "  Specular color:              Color(name='white', hex='#ffffffff')\n",
              "  Specular power:              100.0\n",
              "  Style:                       \"Surface\"\n",
              "\n",
              "DataSetMapper (0x7f9512ed4a60)\n",
              "  Scalar visibility:           True\n",
              "  Scalar range:                (0.0, 1.0)\n",
              "  Interpolate before mapping:  True\n",
              "  Scalar map mode:             point\n",
              "  Color mode:                  map\n",
              "\n",
              "Attached dataset:\n",
              "UnstructuredGrid (0x7f9512880520)\n",
              "  N Cells:\t5202\n",
              "  N Points:\t10609\n",
              "  X Bounds:\t-5.000e+00, 5.000e+00\n",
              "  Y Bounds:\t-5.000e+00, 5.000e+00\n",
              "  Z Bounds:\t0.000e+00, 1.217e+01\n",
              "  N Arrays:\t1"
            ]
          },
          "metadata": {},
          "execution_count": 25
        }
      ]
    },
    {
      "cell_type": "code",
      "source": [
        "n = 0\n",
        "# Take final snapshots for the video.\n",
        "rho_frame = rho_file % n\n",
        "print(rho_frame)\n",
        "rho_plotter.show(screenshot=rho_frame, auto_close=False)\n",
        "# phi_frame = phi_file % n\n",
        "# phi_plotter.screenshot(filename=rho_frame, return_img=False)"
      ],
      "metadata": {
        "id": "HaLAKKRwE3lb"
      },
      "execution_count": null,
      "outputs": []
    },
    {
      "cell_type": "code",
      "execution_count": null,
      "metadata": {
        "id": "qzIDJasOyemZ"
      },
      "outputs": [],
      "source": [
        "# Now, compute an update for each time step and add it to the movie.\n",
        "# Initial time\n",
        "t = t0\n",
        "n = 0\n",
        "\n",
        "# Set up the initial potential.\n",
        "phi = phi_initial.copy()\n",
        "\n",
        "# Loop until completion.\n",
        "while t < t_max:\n",
        "    # Take snapshots for the video.\n",
        "    rho_frame = rho_file % n\n",
        "    rho_plotter.show(screenshot=rho_frame, auto_close=False)\n",
        "    phi_frame = phi_file % n\n",
        "    phi_plotter.show(screenshot=phi_frame, auto_close=False) \n",
        "    \n",
        "    # Update boundary conditions.\n",
        "    t += dt.value\n",
        "    rho.interpolate(rho_function(t))\n",
        "    uD.interpolate(uD_function(t))\n",
        "\n",
        "    # Assemble the RSH: the vector on the \"right-hand side\" of A.u = b.\n",
        "    b.x.array[:] = 0\n",
        "    fem.petsc.assemble_vector(b.vector, compiled_L)\n",
        "\n",
        "    # Apply boundary condition.\n",
        "    # These commands distribute the updated problem to all processes.\n",
        "    fem.petsc.apply_lifting(b.vector, [compiled_a], [bcs])\n",
        "    b.x.scatter_reverse(la.ScatterMode.add)\n",
        "    fem.petsc.set_bc(b.vector, bcs)\n",
        "\n",
        "    # Solve linear problem.\n",
        "    solver.solve(b.vector, phi.vector)\n",
        "\n",
        "    # Distribute the solution to all processes.\n",
        "    phi.x.scatter_forward()\n",
        "\n",
        "    # Update un --- the current value of the function.\n",
        "    phi_n.x.array[:] = phi.x.array\n",
        "\n",
        "    # Update the plots and save the frame to the GIF.\n",
        "    rho_grid.point_data[\"rho\"] = rho.x.array\n",
        "    rho_warped = rho_grid.warp_by_scalar(\"rho\", factor=10)\n",
        "    rho_plotter.update_scalars(rho.x.array, render=False)\n",
        "    rho_plotter.update_coordinates(rho_warped.points)\n",
        "\n",
        "    phi_grid.point_data[\"phi\"] = phi.x.array\n",
        "    phi_warped = phi_grid.warp_by_scalar(\"phi\", factor=10)\n",
        "    phi_plotter.update_scalars(phi.x.array, render=False)\n",
        "    phi_plotter.update_coordinates(phi_warped.points, render=False)\n",
        "    phi_frame = phi_file % n\n",
        "\n",
        "    n += 1\n",
        "\n",
        "# Take final snapshots for the video.\n",
        "rho_frame = rho_file % n\n",
        "rho_plotter.show(screenshot=rho_frame, auto_close=False)\n",
        "phi_frame = phi_file % n\n",
        "phi_plotter.show(screenshot=phi_frame, auto_close=False)\n",
        "\n",
        "# Close the plotter and finish processing the movie.\n",
        "rho_plotter.close()\n",
        "phi_plotter.close()"
      ]
    },
    {
      "cell_type": "code",
      "source": [
        "!ffmpeg -y -i %03d-charge.jpg -pix_fmt yuv420p charge-movie.mp4\n",
        "!ffmpeg -y -i %03d-potential.jpg -pix_fmt yuv420p potential-movie.mp4"
      ],
      "metadata": {
        "id": "feN46MjJCjlm"
      },
      "execution_count": null,
      "outputs": []
    },
    {
      "cell_type": "code",
      "source": [
        "# Get tools for embedding movies in CoLab.\n",
        "from IPython.display import HTML\n",
        "from base64 import b64encode"
      ],
      "metadata": {
        "id": "VcGXyRocSt7u"
      },
      "execution_count": null,
      "outputs": []
    },
    {
      "cell_type": "code",
      "source": [
        "# Play the charge movie.\n",
        "mp4 = open('charge-movie.mp4','rb').read()\n",
        "data_url = \"data:video/mp4;base64,\" + b64encode(mp4).decode()\n",
        "HTML(\"\"\"\n",
        "<video width=800 controls>\n",
        "      <source src=\"%s\" type=\"video/mp4\">\n",
        "</video>\n",
        "\"\"\" % data_url)"
      ],
      "metadata": {
        "id": "OfKfpCIiCwyX"
      },
      "execution_count": null,
      "outputs": []
    },
    {
      "cell_type": "code",
      "source": [
        "# Play the potential movie.\n",
        "mp4 = open('charge-movie.mp4','rb').read()\n",
        "data_url = \"data:video/mp4;base64,\" + b64encode(mp4).decode()\n",
        "HTML(\"\"\"\n",
        "<video width=800 controls>\n",
        "      <source src=\"%s\" type=\"video/mp4\">\n",
        "</video>\n",
        "\"\"\" % data_url)"
      ],
      "metadata": {
        "id": "Vx4Iq3Q8C9BU"
      },
      "execution_count": null,
      "outputs": []
    }
  ],
  "metadata": {
    "colab": {
      "collapsed_sections": [
        "7Whv3SwXva-A"
      ],
      "provenance": [],
      "authorship_tag": "ABX9TyPI9ZsNrLJr+kyDv4GV458d",
      "include_colab_link": true
    },
    "kernelspec": {
      "display_name": "Python 3",
      "name": "python3"
    },
    "language_info": {
      "name": "python"
    },
    "widgets": {
      "application/vnd.jupyter.widget-state+json": {
        "24cc1343383a46ecb0eaa8ffea3f250d": {
          "model_module": "itkwidgets",
          "model_name": "ViewerModel",
          "model_module_version": "^0.32.3",
          "state": {
            "_custom_cmap": null,
            "_dom_classes": [],
            "_downsampling": false,
            "_largest_roi": {
              "shape": [
                2,
                3
              ],
              "dtype": "float64"
            },
            "_model_module": "itkwidgets",
            "_model_module_version": "^0.32.3",
            "_model_name": "ViewerModel",
            "_rendering_image": false,
            "_reset_crop_requested": false,
            "_scale_factors": {
              "shape": [
                3
              ],
              "dtype": "uint8"
            },
            "_view_count": null,
            "_view_module": "itkwidgets",
            "_view_module_version": "^0.32.3",
            "_view_name": "ViewerView",
            "annotations": true,
            "axes": false,
            "background": [
              0.2196078431372549,
              0.2196078431372549,
              0.2196078431372549
            ],
            "blend_mode": "composite",
            "camera": {
              "shape": [
                3,
                3
              ],
              "dtype": "float32"
            },
            "channels": [],
            "clicked_slice_point": null,
            "cmap": null,
            "geometries": [
              {
                "vtkClass": "vtkPolyData",
                "points": {
                  "vtkClass": "vtkPoints",
                  "name": "_points",
                  "numberOfComponents": 3,
                  "dataType": "Float32Array",
                  "size": 8112
                },
                "polys": {
                  "vtkClass": "vtkCellArray",
                  "name": "_polys",
                  "numberOfComponents": 1,
                  "size": 20808,
                  "dataType": "Uint32Array"
                },
                "metadata": {
                  "name": "Geometry 0"
                }
              }
            ],
            "geometry_colors": {
              "shape": [
                1,
                3
              ],
              "dtype": "float32"
            },
            "geometry_opacities": {
              "shape": [
                1
              ],
              "dtype": "float32"
            },
            "gradient_opacity": 0.2,
            "interpolation": true,
            "label_image_blend": 0.5,
            "label_image_names": null,
            "label_image_weights": null,
            "layout": "IPY_MODEL_0543a17218ff422993981ae4685abd73",
            "lut": "glasbey",
            "mode": "v",
            "opacity_gaussians": null,
            "point_set_colors": {
              "shape": [
                0,
                3
              ],
              "dtype": "float32"
            },
            "point_set_opacities": {
              "shape": [
                0
              ],
              "dtype": "float32"
            },
            "point_set_representations": [],
            "point_set_sizes": {
              "shape": [
                0
              ],
              "dtype": "uint8"
            },
            "point_sets": [],
            "rendered_image": null,
            "rendered_label_image": null,
            "roi": {
              "shape": [
                2,
                3
              ],
              "dtype": "float64"
            },
            "rotate": false,
            "sample_distance": 0.25,
            "select_roi": false,
            "shadow": true,
            "slicing_planes": false,
            "ui_collapsed": true,
            "units": "",
            "vmax": null,
            "vmin": null,
            "x_slice": null,
            "y_slice": null,
            "z_slice": null
          }
        },
        "0543a17218ff422993981ae4685abd73": {
          "model_module": "@jupyter-widgets/base",
          "model_name": "LayoutModel",
          "model_module_version": "1.2.0",
          "state": {
            "_model_module": "@jupyter-widgets/base",
            "_model_module_version": "1.2.0",
            "_model_name": "LayoutModel",
            "_view_count": null,
            "_view_module": "@jupyter-widgets/base",
            "_view_module_version": "1.2.0",
            "_view_name": "LayoutView",
            "align_content": null,
            "align_items": null,
            "align_self": null,
            "border": null,
            "bottom": null,
            "display": null,
            "flex": null,
            "flex_flow": null,
            "grid_area": null,
            "grid_auto_columns": null,
            "grid_auto_flow": null,
            "grid_auto_rows": null,
            "grid_column": null,
            "grid_gap": null,
            "grid_row": null,
            "grid_template_areas": null,
            "grid_template_columns": null,
            "grid_template_rows": null,
            "height": null,
            "justify_content": null,
            "justify_items": null,
            "left": null,
            "margin": null,
            "max_height": null,
            "max_width": null,
            "min_height": null,
            "min_width": null,
            "object_fit": null,
            "object_position": null,
            "order": null,
            "overflow": null,
            "overflow_x": null,
            "overflow_y": null,
            "padding": null,
            "right": null,
            "top": null,
            "visibility": null,
            "width": null
          }
        },
        "2ef2180e37e3482188f899c22490abed": {
          "model_module": "itkwidgets",
          "model_name": "ViewerModel",
          "model_module_version": "^0.32.3",
          "state": {
            "_custom_cmap": null,
            "_dom_classes": [],
            "_downsampling": false,
            "_largest_roi": {
              "shape": [
                2,
                3
              ],
              "dtype": "float64"
            },
            "_model_module": "itkwidgets",
            "_model_module_version": "^0.32.3",
            "_model_name": "ViewerModel",
            "_rendering_image": false,
            "_reset_crop_requested": false,
            "_scale_factors": {
              "shape": [
                3
              ],
              "dtype": "uint8"
            },
            "_view_count": null,
            "_view_module": "itkwidgets",
            "_view_module_version": "^0.32.3",
            "_view_name": "ViewerView",
            "annotations": true,
            "axes": false,
            "background": [
              0.2196078431372549,
              0.2196078431372549,
              0.2196078431372549
            ],
            "blend_mode": "composite",
            "camera": {
              "shape": [
                3,
                3
              ],
              "dtype": "float32"
            },
            "channels": [],
            "clicked_slice_point": null,
            "cmap": null,
            "geometries": [
              {
                "vtkClass": "vtkPolyData",
                "points": {
                  "vtkClass": "vtkPoints",
                  "name": "_points",
                  "numberOfComponents": 3,
                  "dataType": "Float32Array",
                  "size": 31827
                },
                "polys": {
                  "vtkClass": "vtkCellArray",
                  "name": "_polys",
                  "numberOfComponents": 1,
                  "size": 83232,
                  "dataType": "Uint32Array"
                },
                "pointData": {
                  "vtkClass": "vtkDataSetAttributes",
                  "activeScalars": 0,
                  "arrays": [
                    {
                      "data": {
                        "vtkClass": "vtkDataArray",
                        "name": "Charge Density",
                        "numberOfComponents": 1,
                        "size": 10609,
                        "dataType": "Float64Array"
                      }
                    }
                  ]
                },
                "metadata": {
                  "name": "Geometry 0"
                }
              }
            ],
            "geometry_colors": {
              "shape": [
                1,
                3
              ],
              "dtype": "float32"
            },
            "geometry_opacities": {
              "shape": [
                1
              ],
              "dtype": "float32"
            },
            "gradient_opacity": 0.2,
            "interpolation": true,
            "label_image_blend": 0.5,
            "label_image_names": null,
            "label_image_weights": null,
            "layout": "IPY_MODEL_d332b86ff52548a5b62c5bd724ce55bf",
            "lut": "glasbey",
            "mode": "v",
            "opacity_gaussians": null,
            "point_set_colors": {
              "shape": [
                0,
                3
              ],
              "dtype": "float32"
            },
            "point_set_opacities": {
              "shape": [
                0
              ],
              "dtype": "float32"
            },
            "point_set_representations": [],
            "point_set_sizes": {
              "shape": [
                0
              ],
              "dtype": "uint8"
            },
            "point_sets": [],
            "rendered_image": null,
            "rendered_label_image": null,
            "roi": {
              "shape": [
                2,
                3
              ],
              "dtype": "float64"
            },
            "rotate": false,
            "sample_distance": 0.25,
            "select_roi": false,
            "shadow": true,
            "slicing_planes": false,
            "ui_collapsed": true,
            "units": "",
            "vmax": null,
            "vmin": null,
            "x_slice": null,
            "y_slice": null,
            "z_slice": null
          }
        },
        "d332b86ff52548a5b62c5bd724ce55bf": {
          "model_module": "@jupyter-widgets/base",
          "model_name": "LayoutModel",
          "model_module_version": "1.2.0",
          "state": {
            "_model_module": "@jupyter-widgets/base",
            "_model_module_version": "1.2.0",
            "_model_name": "LayoutModel",
            "_view_count": null,
            "_view_module": "@jupyter-widgets/base",
            "_view_module_version": "1.2.0",
            "_view_name": "LayoutView",
            "align_content": null,
            "align_items": null,
            "align_self": null,
            "border": null,
            "bottom": null,
            "display": null,
            "flex": null,
            "flex_flow": null,
            "grid_area": null,
            "grid_auto_columns": null,
            "grid_auto_flow": null,
            "grid_auto_rows": null,
            "grid_column": null,
            "grid_gap": null,
            "grid_row": null,
            "grid_template_areas": null,
            "grid_template_columns": null,
            "grid_template_rows": null,
            "height": null,
            "justify_content": null,
            "justify_items": null,
            "left": null,
            "margin": null,
            "max_height": null,
            "max_width": null,
            "min_height": null,
            "min_width": null,
            "object_fit": null,
            "object_position": null,
            "order": null,
            "overflow": null,
            "overflow_x": null,
            "overflow_y": null,
            "padding": null,
            "right": null,
            "top": null,
            "visibility": null,
            "width": null
          }
        },
        "649c8c4beefa4bf3aa46dda7fca65d77": {
          "model_module": "itkwidgets",
          "model_name": "ViewerModel",
          "model_module_version": "^0.32.3",
          "state": {
            "_custom_cmap": null,
            "_dom_classes": [],
            "_downsampling": false,
            "_largest_roi": {
              "shape": [
                2,
                3
              ],
              "dtype": "float64"
            },
            "_model_module": "itkwidgets",
            "_model_module_version": "^0.32.3",
            "_model_name": "ViewerModel",
            "_rendering_image": false,
            "_reset_crop_requested": false,
            "_scale_factors": {
              "shape": [
                3
              ],
              "dtype": "uint8"
            },
            "_view_count": null,
            "_view_module": "itkwidgets",
            "_view_module_version": "^0.32.3",
            "_view_name": "ViewerView",
            "annotations": true,
            "axes": false,
            "background": [
              0.2196078431372549,
              0.2196078431372549,
              0.2196078431372549
            ],
            "blend_mode": "composite",
            "camera": {
              "shape": [
                3,
                3
              ],
              "dtype": "float32"
            },
            "channels": [],
            "clicked_slice_point": null,
            "cmap": null,
            "geometries": [
              {
                "vtkClass": "vtkPolyData",
                "points": {
                  "vtkClass": "vtkPoints",
                  "name": "_points",
                  "numberOfComponents": 3,
                  "dataType": "Float32Array",
                  "size": 31827
                },
                "polys": {
                  "vtkClass": "vtkCellArray",
                  "name": "_polys",
                  "numberOfComponents": 1,
                  "size": 83232,
                  "dataType": "Uint32Array"
                },
                "pointData": {
                  "vtkClass": "vtkDataSetAttributes",
                  "activeScalars": 0,
                  "arrays": [
                    {
                      "data": {
                        "vtkClass": "vtkDataArray",
                        "name": "Potential",
                        "numberOfComponents": 1,
                        "size": 10609,
                        "dataType": "Float64Array"
                      }
                    }
                  ]
                },
                "metadata": {
                  "name": "Geometry 0"
                }
              }
            ],
            "geometry_colors": {
              "shape": [
                1,
                3
              ],
              "dtype": "float32"
            },
            "geometry_opacities": {
              "shape": [
                1
              ],
              "dtype": "float32"
            },
            "gradient_opacity": 0.2,
            "interpolation": true,
            "label_image_blend": 0.5,
            "label_image_names": null,
            "label_image_weights": null,
            "layout": "IPY_MODEL_20cb38c0fb6c4f7c8b8feeceb3a5eba5",
            "lut": "glasbey",
            "mode": "v",
            "opacity_gaussians": null,
            "point_set_colors": {
              "shape": [
                0,
                3
              ],
              "dtype": "float32"
            },
            "point_set_opacities": {
              "shape": [
                0
              ],
              "dtype": "float32"
            },
            "point_set_representations": [],
            "point_set_sizes": {
              "shape": [
                0
              ],
              "dtype": "uint8"
            },
            "point_sets": [],
            "rendered_image": null,
            "rendered_label_image": null,
            "roi": {
              "shape": [
                2,
                3
              ],
              "dtype": "float64"
            },
            "rotate": false,
            "sample_distance": 0.25,
            "select_roi": false,
            "shadow": true,
            "slicing_planes": false,
            "ui_collapsed": true,
            "units": "",
            "vmax": null,
            "vmin": null,
            "x_slice": null,
            "y_slice": null,
            "z_slice": null
          }
        },
        "20cb38c0fb6c4f7c8b8feeceb3a5eba5": {
          "model_module": "@jupyter-widgets/base",
          "model_name": "LayoutModel",
          "model_module_version": "1.2.0",
          "state": {
            "_model_module": "@jupyter-widgets/base",
            "_model_module_version": "1.2.0",
            "_model_name": "LayoutModel",
            "_view_count": null,
            "_view_module": "@jupyter-widgets/base",
            "_view_module_version": "1.2.0",
            "_view_name": "LayoutView",
            "align_content": null,
            "align_items": null,
            "align_self": null,
            "border": null,
            "bottom": null,
            "display": null,
            "flex": null,
            "flex_flow": null,
            "grid_area": null,
            "grid_auto_columns": null,
            "grid_auto_flow": null,
            "grid_auto_rows": null,
            "grid_column": null,
            "grid_gap": null,
            "grid_row": null,
            "grid_template_areas": null,
            "grid_template_columns": null,
            "grid_template_rows": null,
            "height": null,
            "justify_content": null,
            "justify_items": null,
            "left": null,
            "margin": null,
            "max_height": null,
            "max_width": null,
            "min_height": null,
            "min_width": null,
            "object_fit": null,
            "object_position": null,
            "order": null,
            "overflow": null,
            "overflow_x": null,
            "overflow_y": null,
            "padding": null,
            "right": null,
            "top": null,
            "visibility": null,
            "width": null
          }
        },
        "86927578cdf943ac941c91fb83045b45": {
          "model_module": "itkwidgets",
          "model_name": "ViewerModel",
          "model_module_version": "^0.32.3",
          "state": {
            "_custom_cmap": null,
            "_dom_classes": [],
            "_downsampling": false,
            "_largest_roi": {
              "shape": [
                2,
                3
              ],
              "dtype": "float64"
            },
            "_model_module": "itkwidgets",
            "_model_module_version": "^0.32.3",
            "_model_name": "ViewerModel",
            "_rendering_image": false,
            "_reset_crop_requested": false,
            "_scale_factors": {
              "shape": [
                3
              ],
              "dtype": "uint8"
            },
            "_view_count": null,
            "_view_module": "itkwidgets",
            "_view_module_version": "^0.32.3",
            "_view_name": "ViewerView",
            "annotations": true,
            "axes": false,
            "background": [
              0.2196078431372549,
              0.2196078431372549,
              0.2196078431372549
            ],
            "blend_mode": "composite",
            "camera": {
              "shape": [
                3,
                3
              ],
              "dtype": "float32"
            },
            "channels": [],
            "clicked_slice_point": null,
            "cmap": null,
            "geometries": [
              {
                "vtkClass": "vtkPolyData",
                "points": {
                  "vtkClass": "vtkPoints",
                  "name": "_points",
                  "numberOfComponents": 3,
                  "dataType": "Float32Array",
                  "size": 986637
                },
                "polys": {
                  "vtkClass": "vtkCellArray",
                  "name": "_polys",
                  "numberOfComponents": 1,
                  "size": 795675,
                  "dataType": "Uint32Array"
                },
                "pointData": {
                  "vtkClass": "vtkDataSetAttributes",
                  "activeScalars": 0,
                  "activeVectors": 1,
                  "arrays": [
                    {
                      "data": {
                        "vtkClass": "vtkDataArray",
                        "name": "GlyphScale",
                        "numberOfComponents": 1,
                        "size": 328879,
                        "dataType": "Float32Array"
                      }
                    },
                    {
                      "data": {
                        "vtkClass": "vtkDataArray",
                        "name": "GlyphVector",
                        "numberOfComponents": 3,
                        "size": 986637,
                        "dataType": "Float32Array"
                      }
                    }
                  ]
                },
                "metadata": {
                  "name": "Geometry 0"
                }
              },
              {
                "vtkClass": "vtkPolyData",
                "points": {
                  "vtkClass": "vtkPoints",
                  "name": "_points",
                  "numberOfComponents": 3,
                  "dataType": "Float32Array",
                  "size": 8112
                },
                "lines": {
                  "vtkClass": "vtkCellArray",
                  "name": "_lines",
                  "numberOfComponents": 1,
                  "size": 23715,
                  "dataType": "Uint32Array"
                },
                "metadata": {
                  "name": "Geometry 1"
                }
              }
            ],
            "geometry_colors": {
              "shape": [
                2,
                3
              ],
              "dtype": "float32"
            },
            "geometry_opacities": {
              "shape": [
                2
              ],
              "dtype": "float32"
            },
            "gradient_opacity": 0.2,
            "interpolation": true,
            "label_image_blend": 0.5,
            "label_image_names": null,
            "label_image_weights": null,
            "layout": "IPY_MODEL_0133850fcb9f44d5ad02fd78ea3583ae",
            "lut": "glasbey",
            "mode": "v",
            "opacity_gaussians": null,
            "point_set_colors": {
              "shape": [
                0,
                3
              ],
              "dtype": "float32"
            },
            "point_set_opacities": {
              "shape": [
                0
              ],
              "dtype": "float32"
            },
            "point_set_representations": [],
            "point_set_sizes": {
              "shape": [
                0
              ],
              "dtype": "uint8"
            },
            "point_sets": [],
            "rendered_image": null,
            "rendered_label_image": null,
            "roi": {
              "shape": [
                2,
                3
              ],
              "dtype": "float64"
            },
            "rotate": false,
            "sample_distance": 0.25,
            "select_roi": false,
            "shadow": true,
            "slicing_planes": false,
            "ui_collapsed": true,
            "units": "",
            "vmax": null,
            "vmin": null,
            "x_slice": null,
            "y_slice": null,
            "z_slice": null
          }
        },
        "0133850fcb9f44d5ad02fd78ea3583ae": {
          "model_module": "@jupyter-widgets/base",
          "model_name": "LayoutModel",
          "model_module_version": "1.2.0",
          "state": {
            "_model_module": "@jupyter-widgets/base",
            "_model_module_version": "1.2.0",
            "_model_name": "LayoutModel",
            "_view_count": null,
            "_view_module": "@jupyter-widgets/base",
            "_view_module_version": "1.2.0",
            "_view_name": "LayoutView",
            "align_content": null,
            "align_items": null,
            "align_self": null,
            "border": null,
            "bottom": null,
            "display": null,
            "flex": null,
            "flex_flow": null,
            "grid_area": null,
            "grid_auto_columns": null,
            "grid_auto_flow": null,
            "grid_auto_rows": null,
            "grid_column": null,
            "grid_gap": null,
            "grid_row": null,
            "grid_template_areas": null,
            "grid_template_columns": null,
            "grid_template_rows": null,
            "height": null,
            "justify_content": null,
            "justify_items": null,
            "left": null,
            "margin": null,
            "max_height": null,
            "max_width": null,
            "min_height": null,
            "min_width": null,
            "object_fit": null,
            "object_position": null,
            "order": null,
            "overflow": null,
            "overflow_x": null,
            "overflow_y": null,
            "padding": null,
            "right": null,
            "top": null,
            "visibility": null,
            "width": null
          }
        }
      }
    }
  },
  "nbformat": 4,
  "nbformat_minor": 0
}