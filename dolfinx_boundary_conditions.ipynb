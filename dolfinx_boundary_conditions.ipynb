{
  "nbformat": 4,
  "nbformat_minor": 0,
  "metadata": {
    "colab": {
      "provenance": [],
      "authorship_tag": "ABX9TyPIDfdVP/bc77Bi40+R7vpf",
      "include_colab_link": true
    },
    "kernelspec": {
      "name": "python3",
      "display_name": "Python 3"
    },
    "language_info": {
      "name": "python"
    }
  },
  "cells": [
    {
      "cell_type": "markdown",
      "metadata": {
        "id": "view-in-github",
        "colab_type": "text"
      },
      "source": [
        "<a href=\"https://colab.research.google.com/github/dr-kinder/playground/blob/dev/dolfinx_boundary_conditions.ipynb\" target=\"_parent\"><img src=\"https://colab.research.google.com/assets/colab-badge.svg\" alt=\"Open In Colab\"/></a>"
      ]
    },
    {
      "cell_type": "code",
      "source": [
        "!pip install --upgrade matplotlib"
      ],
      "metadata": {
        "colab": {
          "base_uri": "https://localhost:8080/"
        },
        "id": "ARWkwivO8wo4",
        "outputId": "bcbcfd9d-c3ee-4521-9aae-8a7d897df5fe"
      },
      "execution_count": 1,
      "outputs": [
        {
          "output_type": "stream",
          "name": "stdout",
          "text": [
            "Looking in indexes: https://pypi.org/simple, https://us-python.pkg.dev/colab-wheels/public/simple/\n",
            "Requirement already satisfied: matplotlib in /usr/local/lib/python3.8/dist-packages (3.6.2)\n",
            "Requirement already satisfied: fonttools>=4.22.0 in /usr/local/lib/python3.8/dist-packages (from matplotlib) (4.38.0)\n",
            "Requirement already satisfied: python-dateutil>=2.7 in /usr/local/lib/python3.8/dist-packages (from matplotlib) (2.8.2)\n",
            "Requirement already satisfied: pillow>=6.2.0 in /usr/local/lib/python3.8/dist-packages (from matplotlib) (7.1.2)\n",
            "Requirement already satisfied: cycler>=0.10 in /usr/local/lib/python3.8/dist-packages (from matplotlib) (0.11.0)\n",
            "Requirement already satisfied: pyparsing>=2.2.1 in /usr/local/lib/python3.8/dist-packages (from matplotlib) (3.0.9)\n",
            "Requirement already satisfied: kiwisolver>=1.0.1 in /usr/local/lib/python3.8/dist-packages (from matplotlib) (1.4.4)\n",
            "Requirement already satisfied: contourpy>=1.0.1 in /usr/local/lib/python3.8/dist-packages (from matplotlib) (1.0.6)\n",
            "Requirement already satisfied: numpy>=1.19 in /usr/local/lib/python3.8/dist-packages (from matplotlib) (1.21.6)\n",
            "Requirement already satisfied: packaging>=20.0 in /usr/local/lib/python3.8/dist-packages (from matplotlib) (21.3)\n",
            "Requirement already satisfied: six>=1.5 in /usr/local/lib/python3.8/dist-packages (from python-dateutil>=2.7->matplotlib) (1.15.0)\n"
          ]
        }
      ]
    },
    {
      "cell_type": "code",
      "source": [
        "try:\n",
        "    # Import FEniCSx libraries for finite element analysis.\n",
        "    import dolfinx\n",
        "except ImportError:\n",
        "    # If they are not found, install them.  Then import them.\n",
        "    !wget \"https://fem-on-colab.github.io/releases/fenicsx-install-complex.sh\" -O \"/tmp/fenicsx-install.sh\" && bash \"/tmp/fenicsx-install.sh\"\n",
        "    import dolfinx"
      ],
      "metadata": {
        "id": "yVtHcc0MPG7u"
      },
      "execution_count": 2,
      "outputs": []
    },
    {
      "cell_type": "code",
      "source": [
        "dolfinx.__version__"
      ],
      "metadata": {
        "colab": {
          "base_uri": "https://localhost:8080/",
          "height": 35
        },
        "id": "BdH-Syp0Ssad",
        "outputId": "a518e0ef-cc41-4cc6-effd-523af4d2d7b0"
      },
      "execution_count": 3,
      "outputs": [
        {
          "output_type": "execute_result",
          "data": {
            "text/plain": [
              "'0.6.0.0'"
            ],
            "application/vnd.google.colaboratory.intrinsic+json": {
              "type": "string"
            }
          },
          "metadata": {},
          "execution_count": 3
        }
      ]
    },
    {
      "cell_type": "code",
      "execution_count": 33,
      "metadata": {
        "id": "ntWSAafjFm0c"
      },
      "outputs": [],
      "source": [
        "import numpy as np\n",
        "import dolfinx\n",
        "import ufl\n",
        "from mpi4py import MPI\n",
        "from dolfinx.io import XDMFFile\n",
        "import petsc4py.PETSc as petsc\n",
        "\n",
        "\n",
        "p = 2\n",
        "k0 = np.pi\n",
        "theta = 0\n",
        "mesh = dolfinx.mesh.create_box(MPI.COMM_WORLD, [[0, 0, 0], [4, 4, 4]], [16, 16, 16])\n",
        "n = ufl.FacetNormal(mesh)\n",
        "\n",
        "# Definition of function space\n",
        "# element = ufl.FiniteElement(\"N1curl\", ufl.tetrahedron, p)\n",
        "# V = dolfinx.fem.FunctionSpace(mesh, element)\n",
        "\n",
        "V = dolfinx.fem.VectorFunctionSpace(mesh, (\"Lagrange\", 2))"
      ]
    },
    {
      "cell_type": "code",
      "source": [
        "def incoming_wave(x):\n",
        "    d = np.cos(theta) * x[0] + np.sin(theta) * x[1]\n",
        "    out = np.zeros(x.shape, dtype=np.complex128)\n",
        "    out[2] = np.exp(1.0j * k0 * d)\n",
        "    return out\n",
        "\n",
        "# Incoming wave\n",
        "Ei = dolfinx.fem.Function(V)\n",
        "Ei.interpolate(incoming_wave)\n",
        "g = ufl.cross(ufl.curl(Ei), n) + 1j * k0 * ufl.cross(n, ufl.cross(ufl.curl(Ei), n))\n",
        "h =  ufl.dot(ufl.grad(Ei), n) + 1j * k0 * Ei"
      ],
      "metadata": {
        "id": "LjI3Y3c3k-_N"
      },
      "execution_count": 34,
      "outputs": []
    },
    {
      "cell_type": "code",
      "source": [
        "# Define variational problem\n",
        "E = ufl.TrialFunction(V)\n",
        "v = ufl.TestFunction(V)\n",
        "\n",
        "# # Weak Form\n",
        "a  = ufl.inner(ufl.curl(E), ufl.curl(v)) * ufl.dx \n",
        "a -= k0**2 * ufl.inner(E, v) * ufl.dx\n",
        "a += 1j * k0 * ufl.inner(ufl.cross(n, E), ufl.cross(n, v)) * ufl.ds\n",
        "\n",
        "# L = ufl.inner(h, v) * ufl.ds\n",
        "L = ufl.inner(g, v) * ufl.ds\n",
        "petsc_options = {\"ksp_type\": \"preonly\", \"pc_type\": \"lu\"}"
      ],
      "metadata": {
        "id": "zGAp4oCOlB3p"
      },
      "execution_count": 35,
      "outputs": []
    },
    {
      "cell_type": "code",
      "source": [
        "u = dolfinx.fem.Function(V)"
      ],
      "metadata": {
        "id": "htII2J16k22N"
      },
      "execution_count": 36,
      "outputs": []
    },
    {
      "cell_type": "code",
      "source": [
        "solver = dolfinx.fem.petsc.LinearProblem(a, L, [], u, petsc_options)"
      ],
      "metadata": {
        "id": "84my-a95lS3N"
      },
      "execution_count": 37,
      "outputs": []
    },
    {
      "cell_type": "code",
      "source": [
        "solver.solve()"
      ],
      "metadata": {
        "id": "so02jQkelTyR"
      },
      "execution_count": null,
      "outputs": []
    },
    {
      "cell_type": "code",
      "source": [
        "with XDMFFile(MPI.COMM_WORLD, \"out.xdmf\", \"w\") as file:\n",
        "    file.write_mesh(mesh)\n",
        "    file.write_function(u)"
      ],
      "metadata": {
        "id": "HWermBPLk5z5"
      },
      "execution_count": null,
      "outputs": []
    },
    {
      "cell_type": "code",
      "source": [
        "from IPython import display\n",
        "import pyvista\n",
        "\n",
        "# Start a virtual plot window for PyVista in CoLab.\n",
        "pyvista.start_xvfb()\n",
        "pyvista.set_jupyter_backend(\"pythreejs\")"
      ],
      "metadata": {
        "id": "Rs2JvCYz44Ld"
      },
      "execution_count": null,
      "outputs": []
    },
    {
      "cell_type": "code",
      "source": [
        "# Prepare the mesh for plotting.\n",
        "topology, cells, geometry = dolfinx.plot.create_vtk_mesh(mesh)\n",
        "\n",
        "# Turn the mesh into a PyVista grid.\n",
        "grid = pyvista.UnstructuredGrid(topology, cells, geometry)\n",
        "\n",
        "# Create the plot and export it to HTML.\n",
        "plotter = pyvista.Plotter(window_size=(800, 400))\n",
        "renderer = plotter.add_mesh(grid, show_edges=True)\n",
        "plotter.view_xy()\n",
        "\n",
        "# Save the HTML file.\n",
        "plotter.export_html(\"./grid.html\", backend=\"pythreejs\")\n",
        "\n",
        "# Use the IPython library to embed the HTML in the CoLab notebook.\n",
        "display.HTML(filename='/content/grid.html')"
      ],
      "metadata": {
        "id": "wxqeHOPW5kdW"
      },
      "execution_count": null,
      "outputs": []
    },
    {
      "cell_type": "code",
      "source": [
        "pyvista.set_jupyter_backend(\"pythreejs\")\n",
        "topology, cells, geometry = dolfinx.plot.create_vtk_mesh(V)\n",
        "values = u.x.array.real.reshape((geometry.shape[0], len(u)))\n",
        "\n",
        "# Create a point cloud of glyphs\n",
        "function_grid = pyvista.UnstructuredGrid(topology, cells, geometry)\n",
        "function_grid[\"u\"] = values\n",
        "glyphs = function_grid.glyph(orient=\"u\", factor=0.05)\n",
        "\n",
        "# Create a pyvista-grid for the mesh\n",
        "grid = pyvista.UnstructuredGrid(*dolfinx.plot.create_vtk_mesh(mesh, mesh.topology.dim))\n",
        "\n",
        "# Create plotter\n",
        "plotter = pyvista.Plotter(window_size=(800, 400))\n",
        "plotter.add_mesh(grid, style=\"wireframe\", color=\"k\")\n",
        "plotter.add_mesh(glyphs)\n",
        "plotter.view_xy()\n",
        "\n",
        "\n",
        "# Save the HTML file.\n",
        "plotter.export_html(\"./grid.html\", backend=\"pythreejs\")\n",
        "\n",
        "# Use the IPython library to embed the HTML in the CoLab notebook.\n",
        "display.HTML(filename='/content/grid.html')\n"
      ],
      "metadata": {
        "id": "TvZiDx7z5sOq"
      },
      "execution_count": null,
      "outputs": []
    },
    {
      "cell_type": "code",
      "source": [],
      "metadata": {
        "id": "YTDHF-WE65SF"
      },
      "execution_count": null,
      "outputs": []
    }
  ]
}